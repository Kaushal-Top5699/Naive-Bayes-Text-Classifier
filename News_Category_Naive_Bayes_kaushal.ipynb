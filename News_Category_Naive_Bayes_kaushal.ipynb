{
  "nbformat": 4,
  "nbformat_minor": 0,
  "metadata": {
    "colab": {
      "provenance": [],
      "collapsed_sections": []
    },
    "kernelspec": {
      "name": "python3",
      "display_name": "Python 3"
    },
    "language_info": {
      "name": "python"
    }
  },
  "cells": [
    {
      "cell_type": "markdown",
      "source": [
        "# NAIVE BAYE'S CLASSIFIER"
      ],
      "metadata": {
        "id": "wmd9gipzjVS-"
      }
    },
    {
      "cell_type": "markdown",
      "source": [
        "# TASK A"
      ],
      "metadata": {
        "id": "-5UbPYu9jJ3Y"
      }
    },
    {
      "cell_type": "markdown",
      "source": [
        "Divide the Dataset into train, development, test dataset."
      ],
      "metadata": {
        "id": "UMAUlRlyjb0u"
      }
    },
    {
      "cell_type": "code",
      "source": [
        "import pandas as pd\n",
        "import numpy as np\n",
        "import matplotlib.pyplot as plt\n",
        "import seaborn as sns"
      ],
      "metadata": {
        "id": "ALu3pO6rlgn3"
      },
      "execution_count": 1,
      "outputs": []
    },
    {
      "cell_type": "code",
      "source": [
        "df = pd.read_csv('train_data.csv')"
      ],
      "metadata": {
        "id": "3naRz5YLljA7"
      },
      "execution_count": 2,
      "outputs": []
    },
    {
      "cell_type": "markdown",
      "source": [
        "https://stackoverflow.com/questions/30088006/loading-a-file-with-more-than-one-line-of-json-into-pandas"
      ],
      "metadata": {
        "id": "P6lR868UnlXO"
      }
    },
    {
      "cell_type": "code",
      "source": [
        "df.head(5)"
      ],
      "metadata": {
        "colab": {
          "base_uri": "https://localhost:8080/",
          "height": 206
        },
        "id": "V6aLINAp85IH",
        "outputId": "4c4c5b9f-4d0b-4a79-8077-94ae97864b28"
      },
      "execution_count": 3,
      "outputs": [
        {
          "output_type": "execute_result",
          "data": {
            "text/plain": [
              "   Unnamed: 0  Sentence_id                                       New_Sentence  \\\n",
              "0           0  GERRES15609  Author and/or Review architecture/design and o...   \n",
              "1           1  PHERES15784  Should be able to develop custom dynamic shape...   \n",
              "2           2  GERREQ10457  Experience in working crosslly with a  larger ...   \n",
              "3           3  GERSKL27235  Previous business experience, including but no...   \n",
              "4           4  HONSSK18415         Delivering fast and right the first  time.   \n",
              "\n",
              "             Type  \n",
              "0  Responsibility  \n",
              "1  Responsibility  \n",
              "2     Requirement  \n",
              "3           Skill  \n",
              "4       SoftSkill  "
            ],
            "text/html": [
              "\n",
              "  <div id=\"df-17f41953-1cef-47cc-a64a-29c61ac674a8\">\n",
              "    <div class=\"colab-df-container\">\n",
              "      <div>\n",
              "<style scoped>\n",
              "    .dataframe tbody tr th:only-of-type {\n",
              "        vertical-align: middle;\n",
              "    }\n",
              "\n",
              "    .dataframe tbody tr th {\n",
              "        vertical-align: top;\n",
              "    }\n",
              "\n",
              "    .dataframe thead th {\n",
              "        text-align: right;\n",
              "    }\n",
              "</style>\n",
              "<table border=\"1\" class=\"dataframe\">\n",
              "  <thead>\n",
              "    <tr style=\"text-align: right;\">\n",
              "      <th></th>\n",
              "      <th>Unnamed: 0</th>\n",
              "      <th>Sentence_id</th>\n",
              "      <th>New_Sentence</th>\n",
              "      <th>Type</th>\n",
              "    </tr>\n",
              "  </thead>\n",
              "  <tbody>\n",
              "    <tr>\n",
              "      <th>0</th>\n",
              "      <td>0</td>\n",
              "      <td>GERRES15609</td>\n",
              "      <td>Author and/or Review architecture/design and o...</td>\n",
              "      <td>Responsibility</td>\n",
              "    </tr>\n",
              "    <tr>\n",
              "      <th>1</th>\n",
              "      <td>1</td>\n",
              "      <td>PHERES15784</td>\n",
              "      <td>Should be able to develop custom dynamic shape...</td>\n",
              "      <td>Responsibility</td>\n",
              "    </tr>\n",
              "    <tr>\n",
              "      <th>2</th>\n",
              "      <td>2</td>\n",
              "      <td>GERREQ10457</td>\n",
              "      <td>Experience in working crosslly with a  larger ...</td>\n",
              "      <td>Requirement</td>\n",
              "    </tr>\n",
              "    <tr>\n",
              "      <th>3</th>\n",
              "      <td>3</td>\n",
              "      <td>GERSKL27235</td>\n",
              "      <td>Previous business experience, including but no...</td>\n",
              "      <td>Skill</td>\n",
              "    </tr>\n",
              "    <tr>\n",
              "      <th>4</th>\n",
              "      <td>4</td>\n",
              "      <td>HONSSK18415</td>\n",
              "      <td>Delivering fast and right the first  time.</td>\n",
              "      <td>SoftSkill</td>\n",
              "    </tr>\n",
              "  </tbody>\n",
              "</table>\n",
              "</div>\n",
              "      <button class=\"colab-df-convert\" onclick=\"convertToInteractive('df-17f41953-1cef-47cc-a64a-29c61ac674a8')\"\n",
              "              title=\"Convert this dataframe to an interactive table.\"\n",
              "              style=\"display:none;\">\n",
              "        \n",
              "  <svg xmlns=\"http://www.w3.org/2000/svg\" height=\"24px\"viewBox=\"0 0 24 24\"\n",
              "       width=\"24px\">\n",
              "    <path d=\"M0 0h24v24H0V0z\" fill=\"none\"/>\n",
              "    <path d=\"M18.56 5.44l.94 2.06.94-2.06 2.06-.94-2.06-.94-.94-2.06-.94 2.06-2.06.94zm-11 1L8.5 8.5l.94-2.06 2.06-.94-2.06-.94L8.5 2.5l-.94 2.06-2.06.94zm10 10l.94 2.06.94-2.06 2.06-.94-2.06-.94-.94-2.06-.94 2.06-2.06.94z\"/><path d=\"M17.41 7.96l-1.37-1.37c-.4-.4-.92-.59-1.43-.59-.52 0-1.04.2-1.43.59L10.3 9.45l-7.72 7.72c-.78.78-.78 2.05 0 2.83L4 21.41c.39.39.9.59 1.41.59.51 0 1.02-.2 1.41-.59l7.78-7.78 2.81-2.81c.8-.78.8-2.07 0-2.86zM5.41 20L4 18.59l7.72-7.72 1.47 1.35L5.41 20z\"/>\n",
              "  </svg>\n",
              "      </button>\n",
              "      \n",
              "  <style>\n",
              "    .colab-df-container {\n",
              "      display:flex;\n",
              "      flex-wrap:wrap;\n",
              "      gap: 12px;\n",
              "    }\n",
              "\n",
              "    .colab-df-convert {\n",
              "      background-color: #E8F0FE;\n",
              "      border: none;\n",
              "      border-radius: 50%;\n",
              "      cursor: pointer;\n",
              "      display: none;\n",
              "      fill: #1967D2;\n",
              "      height: 32px;\n",
              "      padding: 0 0 0 0;\n",
              "      width: 32px;\n",
              "    }\n",
              "\n",
              "    .colab-df-convert:hover {\n",
              "      background-color: #E2EBFA;\n",
              "      box-shadow: 0px 1px 2px rgba(60, 64, 67, 0.3), 0px 1px 3px 1px rgba(60, 64, 67, 0.15);\n",
              "      fill: #174EA6;\n",
              "    }\n",
              "\n",
              "    [theme=dark] .colab-df-convert {\n",
              "      background-color: #3B4455;\n",
              "      fill: #D2E3FC;\n",
              "    }\n",
              "\n",
              "    [theme=dark] .colab-df-convert:hover {\n",
              "      background-color: #434B5C;\n",
              "      box-shadow: 0px 1px 3px 1px rgba(0, 0, 0, 0.15);\n",
              "      filter: drop-shadow(0px 1px 2px rgba(0, 0, 0, 0.3));\n",
              "      fill: #FFFFFF;\n",
              "    }\n",
              "  </style>\n",
              "\n",
              "      <script>\n",
              "        const buttonEl =\n",
              "          document.querySelector('#df-17f41953-1cef-47cc-a64a-29c61ac674a8 button.colab-df-convert');\n",
              "        buttonEl.style.display =\n",
              "          google.colab.kernel.accessAllowed ? 'block' : 'none';\n",
              "\n",
              "        async function convertToInteractive(key) {\n",
              "          const element = document.querySelector('#df-17f41953-1cef-47cc-a64a-29c61ac674a8');\n",
              "          const dataTable =\n",
              "            await google.colab.kernel.invokeFunction('convertToInteractive',\n",
              "                                                     [key], {});\n",
              "          if (!dataTable) return;\n",
              "\n",
              "          const docLinkHtml = 'Like what you see? Visit the ' +\n",
              "            '<a target=\"_blank\" href=https://colab.research.google.com/notebooks/data_table.ipynb>data table notebook</a>'\n",
              "            + ' to learn more about interactive tables.';\n",
              "          element.innerHTML = '';\n",
              "          dataTable['output_type'] = 'display_data';\n",
              "          await google.colab.output.renderOutput(dataTable, element);\n",
              "          const docLink = document.createElement('div');\n",
              "          docLink.innerHTML = docLinkHtml;\n",
              "          element.appendChild(docLink);\n",
              "        }\n",
              "      </script>\n",
              "    </div>\n",
              "  </div>\n",
              "  "
            ]
          },
          "metadata": {},
          "execution_count": 3
        }
      ]
    },
    {
      "cell_type": "markdown",
      "source": [
        "We can see that we do not have any null values in the dataset."
      ],
      "metadata": {
        "id": "aTihY6H7jqYH"
      }
    },
    {
      "cell_type": "code",
      "source": [
        "df.isna().sum()"
      ],
      "metadata": {
        "colab": {
          "base_uri": "https://localhost:8080/"
        },
        "id": "SwnyxdWkjlxW",
        "outputId": "ae3b7919-c463-4bef-b111-cefa0cfe76f9"
      },
      "execution_count": 4,
      "outputs": [
        {
          "output_type": "execute_result",
          "data": {
            "text/plain": [
              "Unnamed: 0         0\n",
              "Sentence_id        0\n",
              "New_Sentence    1113\n",
              "Type               0\n",
              "dtype: int64"
            ]
          },
          "metadata": {},
          "execution_count": 4
        }
      ]
    },
    {
      "cell_type": "code",
      "source": [
        "df.info()"
      ],
      "metadata": {
        "colab": {
          "base_uri": "https://localhost:8080/"
        },
        "id": "ouPOrghBwD8B",
        "outputId": "1445de6a-929a-4106-a700-324b0e7474b6"
      },
      "execution_count": 5,
      "outputs": [
        {
          "output_type": "stream",
          "name": "stdout",
          "text": [
            "<class 'pandas.core.frame.DataFrame'>\n",
            "RangeIndex: 60115 entries, 0 to 60114\n",
            "Data columns (total 4 columns):\n",
            " #   Column        Non-Null Count  Dtype \n",
            "---  ------        --------------  ----- \n",
            " 0   Unnamed: 0    60115 non-null  int64 \n",
            " 1   Sentence_id   60115 non-null  object\n",
            " 2   New_Sentence  59002 non-null  object\n",
            " 3   Type          60115 non-null  object\n",
            "dtypes: int64(1), object(3)\n",
            "memory usage: 1.8+ MB\n"
          ]
        }
      ]
    },
    {
      "cell_type": "code",
      "source": [
        "# Remove null values."
      ],
      "metadata": {
        "id": "yeJCAZZ85R4U"
      },
      "execution_count": 6,
      "outputs": []
    },
    {
      "cell_type": "code",
      "source": [
        "plt.figure(figsize=(14,8))\n",
        "count = df.Type.value_counts()\n",
        "sns.barplot(x=count.index, y=count)\n",
        "plt.xlabel('Type')\n",
        "plt.ylabel('Count')\n",
        "plt.xticks(rotation=90);"
      ],
      "metadata": {
        "colab": {
          "base_uri": "https://localhost:8080/",
          "height": 556
        },
        "id": "3Vj-UlpViOB9",
        "outputId": "dd430fdf-2d4f-4af5-9195-2bbc66090206"
      },
      "execution_count": 7,
      "outputs": [
        {
          "output_type": "display_data",
          "data": {
            "text/plain": [
              "<Figure size 1008x576 with 1 Axes>"
            ],
            "image/png": "[encoded data removed]"
          },
          "metadata": {
            "needs_background": "light"
          }
        }
      ]
    },
    {
      "cell_type": "code",
      "source": [
        "df['Type'].value_counts()"
      ],
      "metadata": {
        "colab": {
          "base_uri": "https://localhost:8080/"
        },
        "id": "E2x9v3jhixXI",
        "outputId": "3fdd1960-a029-49bf-c8e1-4bafe10ea35f"
      },
      "execution_count": 8,
      "outputs": [
        {
          "output_type": "execute_result",
          "data": {
            "text/plain": [
              "Responsibility    15561\n",
              "Requirement       14132\n",
              "SoftSkill          9581\n",
              "Experience         9248\n",
              "Skill              6956\n",
              "Education          4637\n",
              "Name: Type, dtype: int64"
            ]
          },
          "metadata": {},
          "execution_count": 8
        }
      ]
    },
    {
      "cell_type": "markdown",
      "source": [
        "Splitting the data into train, validate and test set."
      ],
      "metadata": {
        "id": "bw2CIrBUiOfd"
      }
    },
    {
      "cell_type": "code",
      "source": [
        "len(df)"
      ],
      "metadata": {
        "colab": {
          "base_uri": "https://localhost:8080/"
        },
        "id": "bcksKNAlHz24",
        "outputId": "1609a42a-581c-4565-9e12-8348304f8af3"
      },
      "execution_count": 9,
      "outputs": [
        {
          "output_type": "execute_result",
          "data": {
            "text/plain": [
              "60115"
            ]
          },
          "metadata": {},
          "execution_count": 9
        }
      ]
    },
    {
      "cell_type": "code",
      "source": [
        "train, validate, test_df = np.split(df.sample(frac=1), [int(.6*len(df)), int(.8*len(df))])"
      ],
      "metadata": {
        "id": "VsxbBkzBiseG"
      },
      "execution_count": 10,
      "outputs": []
    },
    {
      "cell_type": "code",
      "source": [
        "print(\"The length of train data is : \",len(train), \"\\nThe length of validate data is :\",len(validate),\"\\nThe length of test data is : \",len(test_df))"
      ],
      "metadata": {
        "colab": {
          "base_uri": "https://localhost:8080/"
        },
        "id": "629NyVk7nDuh",
        "outputId": "790e5d01-fcab-4341-a79d-796b940c95a1"
      },
      "execution_count": 11,
      "outputs": [
        {
          "output_type": "stream",
          "name": "stdout",
          "text": [
            "The length of train data is :  36069 \n",
            "The length of validate data is : 12023 \n",
            "The length of test data is :  12023\n"
          ]
        }
      ]
    },
    {
      "cell_type": "code",
      "source": [
        "train"
      ],
      "metadata": {
        "id": "n_yhrnOrnblk",
        "colab": {
          "base_uri": "https://localhost:8080/",
          "height": 424
        },
        "outputId": "c5bf6e88-bccb-43ec-e7be-a6177d72e178"
      },
      "execution_count": 12,
      "outputs": [
        {
          "output_type": "execute_result",
          "data": {
            "text/plain": [
              "       Unnamed: 0  Sentence_id  \\\n",
              "20685       20685  GERRES16518   \n",
              "23539       23539   COGSKL7214   \n",
              "4159         4159  UAEEXP20392   \n",
              "47568       47568  UAESSK12971   \n",
              "59526       59526  INDSKL39779   \n",
              "...           ...          ...   \n",
              "30232       30232  HONRES46063   \n",
              "32360       32360  COGEXP29146   \n",
              "17343       17343   PHERES1589   \n",
              "14384       14384  INDRES48592   \n",
              "34745       34745  INDREQ28378   \n",
              "\n",
              "                                            New_Sentence            Type  \n",
              "20685  This individual will lead the long-term strate...  Responsibility  \n",
              "23539  Experience in hand-coding JavaScript (ES5/ES6)...           Skill  \n",
              "4159       At least 3-5 years  of Leadership experience.      Experience  \n",
              "47568                                Quick in  response.       SoftSkill  \n",
              "59526  Experience Working  with Modern UI Frameworks ...           Skill  \n",
              "...                                                  ...             ...  \n",
              "30232  Sicherer Umgang mit den Betriebssystem MS- Win...  Responsibility  \n",
              "32360        5+ years of experience in  managing people.      Experience  \n",
              "17343  Drive Certification activities and Certificati...  Responsibility  \n",
              "14384  Responsible to ensure products are  compliance...  Responsibility  \n",
              "34745  Proficient in  analyzing information and devel...     Requirement  \n",
              "\n",
              "[36069 rows x 4 columns]"
            ],
            "text/html": [
              "\n",
              "  <div id=\"df-edef1e4c-c32a-402a-8a23-95e79d68ccd2\">\n",
              "    <div class=\"colab-df-container\">\n",
              "      <div>\n",
              "<style scoped>\n",
              "    .dataframe tbody tr th:only-of-type {\n",
              "        vertical-align: middle;\n",
              "    }\n",
              "\n",
              "    .dataframe tbody tr th {\n",
              "        vertical-align: top;\n",
              "    }\n",
              "\n",
              "    .dataframe thead th {\n",
              "        text-align: right;\n",
              "    }\n",
              "</style>\n",
              "<table border=\"1\" class=\"dataframe\">\n",
              "  <thead>\n",
              "    <tr style=\"text-align: right;\">\n",
              "      <th></th>\n",
              "      <th>Unnamed: 0</th>\n",
              "      <th>Sentence_id</th>\n",
              "      <th>New_Sentence</th>\n",
              "      <th>Type</th>\n",
              "    </tr>\n",
              "  </thead>\n",
              "  <tbody>\n",
              "    <tr>\n",
              "      <th>20685</th>\n",
              "      <td>20685</td>\n",
              "      <td>GERRES16518</td>\n",
              "      <td>This individual will lead the long-term strate...</td>\n",
              "      <td>Responsibility</td>\n",
              "    </tr>\n",
              "    <tr>\n",
              "      <th>23539</th>\n",
              "      <td>23539</td>\n",
              "      <td>COGSKL7214</td>\n",
              "      <td>Experience in hand-coding JavaScript (ES5/ES6)...</td>\n",
              "      <td>Skill</td>\n",
              "    </tr>\n",
              "    <tr>\n",
              "      <th>4159</th>\n",
              "      <td>4159</td>\n",
              "      <td>UAEEXP20392</td>\n",
              "      <td>At least 3-5 years  of Leadership experience.</td>\n",
              "      <td>Experience</td>\n",
              "    </tr>\n",
              "    <tr>\n",
              "      <th>47568</th>\n",
              "      <td>47568</td>\n",
              "      <td>UAESSK12971</td>\n",
              "      <td>Quick in  response.</td>\n",
              "      <td>SoftSkill</td>\n",
              "    </tr>\n",
              "    <tr>\n",
              "      <th>59526</th>\n",
              "      <td>59526</td>\n",
              "      <td>INDSKL39779</td>\n",
              "      <td>Experience Working  with Modern UI Frameworks ...</td>\n",
              "      <td>Skill</td>\n",
              "    </tr>\n",
              "    <tr>\n",
              "      <th>...</th>\n",
              "      <td>...</td>\n",
              "      <td>...</td>\n",
              "      <td>...</td>\n",
              "      <td>...</td>\n",
              "    </tr>\n",
              "    <tr>\n",
              "      <th>30232</th>\n",
              "      <td>30232</td>\n",
              "      <td>HONRES46063</td>\n",
              "      <td>Sicherer Umgang mit den Betriebssystem MS- Win...</td>\n",
              "      <td>Responsibility</td>\n",
              "    </tr>\n",
              "    <tr>\n",
              "      <th>32360</th>\n",
              "      <td>32360</td>\n",
              "      <td>COGEXP29146</td>\n",
              "      <td>5+ years of experience in  managing people.</td>\n",
              "      <td>Experience</td>\n",
              "    </tr>\n",
              "    <tr>\n",
              "      <th>17343</th>\n",
              "      <td>17343</td>\n",
              "      <td>PHERES1589</td>\n",
              "      <td>Drive Certification activities and Certificati...</td>\n",
              "      <td>Responsibility</td>\n",
              "    </tr>\n",
              "    <tr>\n",
              "      <th>14384</th>\n",
              "      <td>14384</td>\n",
              "      <td>INDRES48592</td>\n",
              "      <td>Responsible to ensure products are  compliance...</td>\n",
              "      <td>Responsibility</td>\n",
              "    </tr>\n",
              "    <tr>\n",
              "      <th>34745</th>\n",
              "      <td>34745</td>\n",
              "      <td>INDREQ28378</td>\n",
              "      <td>Proficient in  analyzing information and devel...</td>\n",
              "      <td>Requirement</td>\n",
              "    </tr>\n",
              "  </tbody>\n",
              "</table>\n",
              "<p>36069 rows × 4 columns</p>\n",
              "</div>\n",
              "      <button class=\"colab-df-convert\" onclick=\"convertToInteractive('df-edef1e4c-c32a-402a-8a23-95e79d68ccd2')\"\n",
              "              title=\"Convert this dataframe to an interactive table.\"\n",
              "              style=\"display:none;\">\n",
              "        \n",
              "  <svg xmlns=\"http://www.w3.org/2000/svg\" height=\"24px\"viewBox=\"0 0 24 24\"\n",
              "       width=\"24px\">\n",
              "    <path d=\"M0 0h24v24H0V0z\" fill=\"none\"/>\n",
              "    <path d=\"M18.56 5.44l.94 2.06.94-2.06 2.06-.94-2.06-.94-.94-2.06-.94 2.06-2.06.94zm-11 1L8.5 8.5l.94-2.06 2.06-.94-2.06-.94L8.5 2.5l-.94 2.06-2.06.94zm10 10l.94 2.06.94-2.06 2.06-.94-2.06-.94-.94-2.06-.94 2.06-2.06.94z\"/><path d=\"M17.41 7.96l-1.37-1.37c-.4-.4-.92-.59-1.43-.59-.52 0-1.04.2-1.43.59L10.3 9.45l-7.72 7.72c-.78.78-.78 2.05 0 2.83L4 21.41c.39.39.9.59 1.41.59.51 0 1.02-.2 1.41-.59l7.78-7.78 2.81-2.81c.8-.78.8-2.07 0-2.86zM5.41 20L4 18.59l7.72-7.72 1.47 1.35L5.41 20z\"/>\n",
              "  </svg>\n",
              "      </button>\n",
              "      \n",
              "  <style>\n",
              "    .colab-df-container {\n",
              "      display:flex;\n",
              "      flex-wrap:wrap;\n",
              "      gap: 12px;\n",
              "    }\n",
              "\n",
              "    .colab-df-convert {\n",
              "      background-color: #E8F0FE;\n",
              "      border: none;\n",
              "      border-radius: 50%;\n",
              "      cursor: pointer;\n",
              "      display: none;\n",
              "      fill: #1967D2;\n",
              "      height: 32px;\n",
              "      padding: 0 0 0 0;\n",
              "      width: 32px;\n",
              "    }\n",
              "\n",
              "    .colab-df-convert:hover {\n",
              "      background-color: #E2EBFA;\n",
              "      box-shadow: 0px 1px 2px rgba(60, 64, 67, 0.3), 0px 1px 3px 1px rgba(60, 64, 67, 0.15);\n",
              "      fill: #174EA6;\n",
              "    }\n",
              "\n",
              "    [theme=dark] .colab-df-convert {\n",
              "      background-color: #3B4455;\n",
              "      fill: #D2E3FC;\n",
              "    }\n",
              "\n",
              "    [theme=dark] .colab-df-convert:hover {\n",
              "      background-color: #434B5C;\n",
              "      box-shadow: 0px 1px 3px 1px rgba(0, 0, 0, 0.15);\n",
              "      filter: drop-shadow(0px 1px 2px rgba(0, 0, 0, 0.3));\n",
              "      fill: #FFFFFF;\n",
              "    }\n",
              "  </style>\n",
              "\n",
              "      <script>\n",
              "        const buttonEl =\n",
              "          document.querySelector('#df-edef1e4c-c32a-402a-8a23-95e79d68ccd2 button.colab-df-convert');\n",
              "        buttonEl.style.display =\n",
              "          google.colab.kernel.accessAllowed ? 'block' : 'none';\n",
              "\n",
              "        async function convertToInteractive(key) {\n",
              "          const element = document.querySelector('#df-edef1e4c-c32a-402a-8a23-95e79d68ccd2');\n",
              "          const dataTable =\n",
              "            await google.colab.kernel.invokeFunction('convertToInteractive',\n",
              "                                                     [key], {});\n",
              "          if (!dataTable) return;\n",
              "\n",
              "          const docLinkHtml = 'Like what you see? Visit the ' +\n",
              "            '<a target=\"_blank\" href=https://colab.research.google.com/notebooks/data_table.ipynb>data table notebook</a>'\n",
              "            + ' to learn more about interactive tables.';\n",
              "          element.innerHTML = '';\n",
              "          dataTable['output_type'] = 'display_data';\n",
              "          await google.colab.output.renderOutput(dataTable, element);\n",
              "          const docLink = document.createElement('div');\n",
              "          docLink.innerHTML = docLinkHtml;\n",
              "          element.appendChild(docLink);\n",
              "        }\n",
              "      </script>\n",
              "    </div>\n",
              "  </div>\n",
              "  "
            ]
          },
          "metadata": {},
          "execution_count": 12
        }
      ]
    },
    {
      "cell_type": "code",
      "source": [
        "train.isna().sum()"
      ],
      "metadata": {
        "colab": {
          "base_uri": "https://localhost:8080/"
        },
        "id": "Hx02c_IDyM9P",
        "outputId": "e49355b3-89b5-455d-87bc-826cae8f91b2"
      },
      "execution_count": 13,
      "outputs": [
        {
          "output_type": "execute_result",
          "data": {
            "text/plain": [
              "Unnamed: 0        0\n",
              "Sentence_id       0\n",
              "New_Sentence    671\n",
              "Type              0\n",
              "dtype: int64"
            ]
          },
          "metadata": {},
          "execution_count": 13
        }
      ]
    },
    {
      "cell_type": "code",
      "source": [
        "len(train)"
      ],
      "metadata": {
        "colab": {
          "base_uri": "https://localhost:8080/"
        },
        "id": "pRHwHlkEym4D",
        "outputId": "7635e543-4571-4f80-d658-d83784614459"
      },
      "execution_count": 14,
      "outputs": [
        {
          "output_type": "execute_result",
          "data": {
            "text/plain": [
              "36069"
            ]
          },
          "metadata": {},
          "execution_count": 14
        }
      ]
    },
    {
      "cell_type": "code",
      "source": [
        "train['Type'].value_counts()"
      ],
      "metadata": {
        "colab": {
          "base_uri": "https://localhost:8080/"
        },
        "id": "4wOuJMXV_-tz",
        "outputId": "17415226-640c-4837-9dd7-9f3ee9670c0c"
      },
      "execution_count": 15,
      "outputs": [
        {
          "output_type": "execute_result",
          "data": {
            "text/plain": [
              "Responsibility    9291\n",
              "Requirement       8473\n",
              "SoftSkill         5760\n",
              "Experience        5561\n",
              "Skill             4180\n",
              "Education         2804\n",
              "Name: Type, dtype: int64"
            ]
          },
          "metadata": {},
          "execution_count": 15
        }
      ]
    },
    {
      "cell_type": "code",
      "source": [
        "train.info()"
      ],
      "metadata": {
        "colab": {
          "base_uri": "https://localhost:8080/"
        },
        "id": "tBlAcFipNZeT",
        "outputId": "85697fd3-4a9a-43ea-c865-db6e010c232a"
      },
      "execution_count": 16,
      "outputs": [
        {
          "output_type": "stream",
          "name": "stdout",
          "text": [
            "<class 'pandas.core.frame.DataFrame'>\n",
            "Int64Index: 36069 entries, 20685 to 34745\n",
            "Data columns (total 4 columns):\n",
            " #   Column        Non-Null Count  Dtype \n",
            "---  ------        --------------  ----- \n",
            " 0   Unnamed: 0    36069 non-null  int64 \n",
            " 1   Sentence_id   36069 non-null  object\n",
            " 2   New_Sentence  35398 non-null  object\n",
            " 3   Type          36069 non-null  object\n",
            "dtypes: int64(1), object(3)\n",
            "memory usage: 1.4+ MB\n"
          ]
        }
      ]
    },
    {
      "cell_type": "code",
      "source": [
        "test_df.info()"
      ],
      "metadata": {
        "colab": {
          "base_uri": "https://localhost:8080/"
        },
        "id": "gI3MhjhW8GkH",
        "outputId": "4f435f7a-e3be-4031-93fb-9eca09bf0f08"
      },
      "execution_count": 17,
      "outputs": [
        {
          "output_type": "stream",
          "name": "stdout",
          "text": [
            "<class 'pandas.core.frame.DataFrame'>\n",
            "Int64Index: 12023 entries, 38849 to 39042\n",
            "Data columns (total 4 columns):\n",
            " #   Column        Non-Null Count  Dtype \n",
            "---  ------        --------------  ----- \n",
            " 0   Unnamed: 0    12023 non-null  int64 \n",
            " 1   Sentence_id   12023 non-null  object\n",
            " 2   New_Sentence  11791 non-null  object\n",
            " 3   Type          12023 non-null  object\n",
            "dtypes: int64(1), object(3)\n",
            "memory usage: 469.6+ KB\n"
          ]
        }
      ]
    },
    {
      "cell_type": "code",
      "source": [
        "import seaborn as sns\n",
        "plt.figure(figsize=(14,8))\n",
        "count = train.Type.value_counts()\n",
        "sns.barplot(x=count.index, y=count)\n",
        "plt.xlabel('Type')\n",
        "plt.ylabel('Count')\n",
        "plt.xticks(rotation=90);"
      ],
      "metadata": {
        "colab": {
          "base_uri": "https://localhost:8080/",
          "height": 556
        },
        "id": "A9zZTv0ENiHf",
        "outputId": "a4a6787f-cd99-4027-efcd-6827b1a76d3a"
      },
      "execution_count": 18,
      "outputs": [
        {
          "output_type": "display_data",
          "data": {
            "text/plain": [
              "<Figure size 1008x576 with 1 Axes>"
            ],
            "image/png": "[encoded data removed]"
          },
          "metadata": {
            "needs_background": "light"
          }
        }
      ]
    },
    {
      "cell_type": "code",
      "source": [
        "#dictionary of all the words and the counts of the words.\n",
        "def word_counts(data_set) -> list:\n",
        "  words_in_tuple = dict()\n",
        "  for i in range(len(data_set)):\n",
        "    line = data_set['New_Sentence']\n",
        "    line = line.to_string()\n",
        "    line = line.strip()\n",
        "    line = line.lower()\n",
        "    words = line.split(' ')\n",
        "    for word in words:\n",
        "        if word in words_in_tuple:\n",
        "              words_in_tuple[word] = words_in_tuple[word] + 1\n",
        "        else:\n",
        "              words_in_tuple[word] = 1  \n",
        "    for key in list(words_in_tuple.keys()):  ## creates a list of all keys\n",
        "      if words_in_tuple[key] < 5:\n",
        "        del words_in_tuple[key] \n",
        "    return (words_in_tuple)\n",
        "vocab = word_counts(train)"
      ],
      "metadata": {
        "id": "lay80JRqQ_2p"
      },
      "execution_count": 19,
      "outputs": []
    },
    {
      "cell_type": "code",
      "source": [
        "#Conditional count of the words for every label \n",
        "# Refrenece blog : https://taherparatha.wordpress.com/portfolio/classifying-news-articles-using-naive-bayes-classifier-from-scratch/\n",
        "import re\n",
        "categories = df['Type'].unique()\n",
        "def conditional_count_values(dataset,label):  \n",
        "  word_count = {}\n",
        "  for cat in categories:\n",
        "    word_dict = {}\n",
        "    data = df[df[label] == cat]['New_Sentence']\n",
        "    for row in data:\n",
        "      words = list(set(re.split(\"[^a-zA-Z]\",str(row))))\n",
        "      for word in words:\n",
        "        word = word.lower()\n",
        "        if word in word_dict:\n",
        "          word_dict[word] = word_dict[word]+1\n",
        "        else:\n",
        "          word_dict[word] = 1\n",
        "    for word, count in dict(word_dict).items():\n",
        "      if (len(word)<3) or (count<4):\n",
        "        word_dict.pop(word)\n",
        "    word_count[cat] = word_dict\n",
        "  return pd.DataFrame(word_count).fillna(0)\n"
      ],
      "metadata": {
        "id": "Aqvg1umG_hCS"
      },
      "execution_count": 20,
      "outputs": []
    },
    {
      "cell_type": "code",
      "source": [
        "#returns the probability of the word with total number of docs.\n",
        "def probability_of_word_in_all_documents(dataset,word_given,smoothing):\n",
        "  return((word_counts(dataset)[word_given] + smoothing )/(len(dataset) + (len(dataset['Type'].unique()) * smoothing)))"
      ],
      "metadata": {
        "id": "UCJ5O8MtYChY"
      },
      "execution_count": 21,
      "outputs": []
    },
    {
      "cell_type": "code",
      "source": [
        "#conditional probability value\n",
        "def conditional_probability(dataset,word,category,smoothing):\n",
        "  conditional_value_dataframe = conditional_count_values(train,'Type')\n",
        "  probability_value = (conditional_value_dataframe.loc[word,category])*smoothing / ((conditional_value_dataframe[category].sum()) + (smoothing * len(conditional_value_dataframe[category])))\n",
        "  return probability_value"
      ],
      "metadata": {
        "id": "FI-s_YYMa85C"
      },
      "execution_count": 22,
      "outputs": []
    },
    {
      "cell_type": "code",
      "source": [
        "def count_probability_class(category_set):\n",
        "  result_probabilty = category_set.groupby('Type').size().div(len(category_set)) #count()['category']/len(category)\n",
        "  return(result_probabilty)"
      ],
      "metadata": {
        "id": "pAhVqqRScn08"
      },
      "execution_count": 23,
      "outputs": []
    },
    {
      "cell_type": "code",
      "source": [
        "result_probabilty = train.groupby('Type').size().div(len(train)) #count()['category']/len(category)\n",
        "plt.figure(figsize=(14,8))\n",
        "sns.barplot(x=result_probabilty.index, y=result_probabilty)\n",
        "plt.xlabel('Type')\n",
        "plt.ylabel('Probabilities')\n",
        "plt.xticks(rotation=90);\n",
        "plt.show()"
      ],
      "metadata": {
        "colab": {
          "base_uri": "https://localhost:8080/",
          "height": 556
        },
        "id": "CMSGqy9WdFai",
        "outputId": "5ae7b05b-cfad-4c12-de76-37618c2ac916"
      },
      "execution_count": 24,
      "outputs": [
        {
          "output_type": "display_data",
          "data": {
            "text/plain": [
              "<Figure size 1008x576 with 1 Axes>"
            ],
            "image/png": "[encoded data removed]"
          },
          "metadata": {
            "needs_background": "light"
          }
        }
      ]
    },
    {
      "cell_type": "code",
      "source": [
        "def nb_probability(word,data,category,smoothing):\n",
        "  final_prob = conditional_probability(data,word,category,smoothing) * count_probability_class(data)\n",
        "  #print(final_prob[category])\n",
        "  return final_prob[category]"
      ],
      "metadata": {
        "id": "-Xas8uycK_Fh"
      },
      "execution_count": 25,
      "outputs": []
    },
    {
      "cell_type": "markdown",
      "source": [
        "Training the set"
      ],
      "metadata": {
        "id": "KAEFdPOyjCqm"
      }
    },
    {
      "cell_type": "code",
      "source": [
        "vocab_train = word_counts(train)\n",
        "cond_words_train = conditional_count_values(train,'Type')\n",
        "cond_words_train.dropna()"
      ],
      "metadata": {
        "colab": {
          "base_uri": "https://localhost:8080/",
          "height": 424
        },
        "id": "1yvRx4-fjE3O",
        "outputId": "ba464884-ac5e-48c2-db55-efe03999e4fd"
      },
      "execution_count": 26,
      "outputs": [
        {
          "output_type": "execute_result",
          "data": {
            "text/plain": [
              "              Responsibility  Requirement   Skill  SoftSkill  Education  \\\n",
              "high                   239.0        229.0    69.0      229.0      109.0   \n",
              "technical              903.0        515.0   221.0      254.0      305.0   \n",
              "and                  10634.0       7114.0  2640.0     5286.0      597.0   \n",
              "architecture           192.0        146.0    93.0       31.0       32.0   \n",
              "ensuring               199.0         10.0     0.0       10.0        0.0   \n",
              "...                      ...          ...     ...        ...        ...   \n",
              "pan                      0.0          0.0     0.0        0.0        0.0   \n",
              "redhat                   0.0          0.0     0.0        0.0        0.0   \n",
              "marts                    0.0          0.0     0.0        0.0        0.0   \n",
              "manufactory              0.0          0.0     0.0        0.0        0.0   \n",
              "asa                      0.0          0.0     0.0        0.0        0.0   \n",
              "\n",
              "              Experience  \n",
              "high                87.0  \n",
              "technical          443.0  \n",
              "and               2933.0  \n",
              "architecture       133.0  \n",
              "ensuring             5.0  \n",
              "...                  ...  \n",
              "pan                  4.0  \n",
              "redhat               4.0  \n",
              "marts                4.0  \n",
              "manufactory          4.0  \n",
              "asa                  4.0  \n",
              "\n",
              "[5192 rows x 6 columns]"
            ],
            "text/html": [
              "\n",
              "  <div id=\"df-e74babe4-117e-4e78-aebf-ab6b353fecfb\">\n",
              "    <div class=\"colab-df-container\">\n",
              "      <div>\n",
              "<style scoped>\n",
              "    .dataframe tbody tr th:only-of-type {\n",
              "        vertical-align: middle;\n",
              "    }\n",
              "\n",
              "    .dataframe tbody tr th {\n",
              "        vertical-align: top;\n",
              "    }\n",
              "\n",
              "    .dataframe thead th {\n",
              "        text-align: right;\n",
              "    }\n",
              "</style>\n",
              "<table border=\"1\" class=\"dataframe\">\n",
              "  <thead>\n",
              "    <tr style=\"text-align: right;\">\n",
              "      <th></th>\n",
              "      <th>Responsibility</th>\n",
              "      <th>Requirement</th>\n",
              "      <th>Skill</th>\n",
              "      <th>SoftSkill</th>\n",
              "      <th>Education</th>\n",
              "      <th>Experience</th>\n",
              "    </tr>\n",
              "  </thead>\n",
              "  <tbody>\n",
              "    <tr>\n",
              "      <th>high</th>\n",
              "      <td>239.0</td>\n",
              "      <td>229.0</td>\n",
              "      <td>69.0</td>\n",
              "      <td>229.0</td>\n",
              "      <td>109.0</td>\n",
              "      <td>87.0</td>\n",
              "    </tr>\n",
              "    <tr>\n",
              "      <th>technical</th>\n",
              "      <td>903.0</td>\n",
              "      <td>515.0</td>\n",
              "      <td>221.0</td>\n",
              "      <td>254.0</td>\n",
              "      <td>305.0</td>\n",
              "      <td>443.0</td>\n",
              "    </tr>\n",
              "    <tr>\n",
              "      <th>and</th>\n",
              "      <td>10634.0</td>\n",
              "      <td>7114.0</td>\n",
              "      <td>2640.0</td>\n",
              "      <td>5286.0</td>\n",
              "      <td>597.0</td>\n",
              "      <td>2933.0</td>\n",
              "    </tr>\n",
              "    <tr>\n",
              "      <th>architecture</th>\n",
              "      <td>192.0</td>\n",
              "      <td>146.0</td>\n",
              "      <td>93.0</td>\n",
              "      <td>31.0</td>\n",
              "      <td>32.0</td>\n",
              "      <td>133.0</td>\n",
              "    </tr>\n",
              "    <tr>\n",
              "      <th>ensuring</th>\n",
              "      <td>199.0</td>\n",
              "      <td>10.0</td>\n",
              "      <td>0.0</td>\n",
              "      <td>10.0</td>\n",
              "      <td>0.0</td>\n",
              "      <td>5.0</td>\n",
              "    </tr>\n",
              "    <tr>\n",
              "      <th>...</th>\n",
              "      <td>...</td>\n",
              "      <td>...</td>\n",
              "      <td>...</td>\n",
              "      <td>...</td>\n",
              "      <td>...</td>\n",
              "      <td>...</td>\n",
              "    </tr>\n",
              "    <tr>\n",
              "      <th>pan</th>\n",
              "      <td>0.0</td>\n",
              "      <td>0.0</td>\n",
              "      <td>0.0</td>\n",
              "      <td>0.0</td>\n",
              "      <td>0.0</td>\n",
              "      <td>4.0</td>\n",
              "    </tr>\n",
              "    <tr>\n",
              "      <th>redhat</th>\n",
              "      <td>0.0</td>\n",
              "      <td>0.0</td>\n",
              "      <td>0.0</td>\n",
              "      <td>0.0</td>\n",
              "      <td>0.0</td>\n",
              "      <td>4.0</td>\n",
              "    </tr>\n",
              "    <tr>\n",
              "      <th>marts</th>\n",
              "      <td>0.0</td>\n",
              "      <td>0.0</td>\n",
              "      <td>0.0</td>\n",
              "      <td>0.0</td>\n",
              "      <td>0.0</td>\n",
              "      <td>4.0</td>\n",
              "    </tr>\n",
              "    <tr>\n",
              "      <th>manufactory</th>\n",
              "      <td>0.0</td>\n",
              "      <td>0.0</td>\n",
              "      <td>0.0</td>\n",
              "      <td>0.0</td>\n",
              "      <td>0.0</td>\n",
              "      <td>4.0</td>\n",
              "    </tr>\n",
              "    <tr>\n",
              "      <th>asa</th>\n",
              "      <td>0.0</td>\n",
              "      <td>0.0</td>\n",
              "      <td>0.0</td>\n",
              "      <td>0.0</td>\n",
              "      <td>0.0</td>\n",
              "      <td>4.0</td>\n",
              "    </tr>\n",
              "  </tbody>\n",
              "</table>\n",
              "<p>5192 rows × 6 columns</p>\n",
              "</div>\n",
              "      <button class=\"colab-df-convert\" onclick=\"convertToInteractive('df-e74babe4-117e-4e78-aebf-ab6b353fecfb')\"\n",
              "              title=\"Convert this dataframe to an interactive table.\"\n",
              "              style=\"display:none;\">\n",
              "        \n",
              "  <svg xmlns=\"http://www.w3.org/2000/svg\" height=\"24px\"viewBox=\"0 0 24 24\"\n",
              "       width=\"24px\">\n",
              "    <path d=\"M0 0h24v24H0V0z\" fill=\"none\"/>\n",
              "    <path d=\"M18.56 5.44l.94 2.06.94-2.06 2.06-.94-2.06-.94-.94-2.06-.94 2.06-2.06.94zm-11 1L8.5 8.5l.94-2.06 2.06-.94-2.06-.94L8.5 2.5l-.94 2.06-2.06.94zm10 10l.94 2.06.94-2.06 2.06-.94-2.06-.94-.94-2.06-.94 2.06-2.06.94z\"/><path d=\"M17.41 7.96l-1.37-1.37c-.4-.4-.92-.59-1.43-.59-.52 0-1.04.2-1.43.59L10.3 9.45l-7.72 7.72c-.78.78-.78 2.05 0 2.83L4 21.41c.39.39.9.59 1.41.59.51 0 1.02-.2 1.41-.59l7.78-7.78 2.81-2.81c.8-.78.8-2.07 0-2.86zM5.41 20L4 18.59l7.72-7.72 1.47 1.35L5.41 20z\"/>\n",
              "  </svg>\n",
              "      </button>\n",
              "      \n",
              "  <style>\n",
              "    .colab-df-container {\n",
              "      display:flex;\n",
              "      flex-wrap:wrap;\n",
              "      gap: 12px;\n",
              "    }\n",
              "\n",
              "    .colab-df-convert {\n",
              "      background-color: #E8F0FE;\n",
              "      border: none;\n",
              "      border-radius: 50%;\n",
              "      cursor: pointer;\n",
              "      display: none;\n",
              "      fill: #1967D2;\n",
              "      height: 32px;\n",
              "      padding: 0 0 0 0;\n",
              "      width: 32px;\n",
              "    }\n",
              "\n",
              "    .colab-df-convert:hover {\n",
              "      background-color: #E2EBFA;\n",
              "      box-shadow: 0px 1px 2px rgba(60, 64, 67, 0.3), 0px 1px 3px 1px rgba(60, 64, 67, 0.15);\n",
              "      fill: #174EA6;\n",
              "    }\n",
              "\n",
              "    [theme=dark] .colab-df-convert {\n",
              "      background-color: #3B4455;\n",
              "      fill: #D2E3FC;\n",
              "    }\n",
              "\n",
              "    [theme=dark] .colab-df-convert:hover {\n",
              "      background-color: #434B5C;\n",
              "      box-shadow: 0px 1px 3px 1px rgba(0, 0, 0, 0.15);\n",
              "      filter: drop-shadow(0px 1px 2px rgba(0, 0, 0, 0.3));\n",
              "      fill: #FFFFFF;\n",
              "    }\n",
              "  </style>\n",
              "\n",
              "      <script>\n",
              "        const buttonEl =\n",
              "          document.querySelector('#df-e74babe4-117e-4e78-aebf-ab6b353fecfb button.colab-df-convert');\n",
              "        buttonEl.style.display =\n",
              "          google.colab.kernel.accessAllowed ? 'block' : 'none';\n",
              "\n",
              "        async function convertToInteractive(key) {\n",
              "          const element = document.querySelector('#df-e74babe4-117e-4e78-aebf-ab6b353fecfb');\n",
              "          const dataTable =\n",
              "            await google.colab.kernel.invokeFunction('convertToInteractive',\n",
              "                                                     [key], {});\n",
              "          if (!dataTable) return;\n",
              "\n",
              "          const docLinkHtml = 'Like what you see? Visit the ' +\n",
              "            '<a target=\"_blank\" href=https://colab.research.google.com/notebooks/data_table.ipynb>data table notebook</a>'\n",
              "            + ' to learn more about interactive tables.';\n",
              "          element.innerHTML = '';\n",
              "          dataTable['output_type'] = 'display_data';\n",
              "          await google.colab.output.renderOutput(dataTable, element);\n",
              "          const docLink = document.createElement('div');\n",
              "          docLink.innerHTML = docLinkHtml;\n",
              "          element.appendChild(docLink);\n",
              "        }\n",
              "      </script>\n",
              "    </div>\n",
              "  </div>\n",
              "  "
            ]
          },
          "metadata": {},
          "execution_count": 26
        }
      ]
    },
    {
      "cell_type": "code",
      "source": [
        "probability_of_word_in_all_documents(train,\"systems\",1)  "
      ],
      "metadata": {
        "colab": {
          "base_uri": "https://localhost:8080/"
        },
        "id": "dJIGn7ozjRyr",
        "outputId": "19785a4c-2801-4083-e0fc-4dc65c0abb97"
      },
      "execution_count": 27,
      "outputs": [
        {
          "output_type": "execute_result",
          "data": {
            "text/plain": [
              "0.0062092862092862095"
            ]
          },
          "metadata": {},
          "execution_count": 27
        }
      ]
    },
    {
      "cell_type": "code",
      "source": [
        "# Create a list of laplcae values, and then use iterateive values into the conditional probability function, and return which value if i, gives max probability."
      ],
      "metadata": {
        "id": "lx6XDF28-erC"
      },
      "execution_count": null,
      "outputs": []
    },
    {
      "cell_type": "code",
      "source": [
        "print(\"When smoothing factor = 1 : \",conditional_probability(train,\"the\",'Education',1))\n",
        "print(\"When smoothing factor = 0.1 : \",conditional_probability(train,\"the\",'Education',0.1))\n",
        "print(\"When smoothing factor = 0.5 : \",conditional_probability(train,\"the\",'Education',0.5))"
      ],
      "metadata": {
        "colab": {
          "base_uri": "https://localhost:8080/"
        },
        "id": "eZ_8EgfbjWC6",
        "outputId": "68ae5d60-55f3-4a8c-d939-c0444a523b9b"
      },
      "execution_count": 28,
      "outputs": [
        {
          "output_type": "stream",
          "name": "stdout",
          "text": [
            "When smoothing factor = 1 :  0.006664775950085082\n",
            "When smoothing factor = 0.1 :  0.0007682952346079406\n",
            "When smoothing factor = 0.5 :  0.0035972324271369093\n"
          ]
        }
      ]
    },
    {
      "cell_type": "code",
      "source": [
        "class_train_probability = count_probability_class(train)"
      ],
      "metadata": {
        "id": "_YvOXo_CjZd-"
      },
      "execution_count": 29,
      "outputs": []
    },
    {
      "cell_type": "code",
      "source": [
        "nb_probability(\"the\",train,'Education',1)"
      ],
      "metadata": {
        "colab": {
          "base_uri": "https://localhost:8080/"
        },
        "id": "lhc-uoG-jlQq",
        "outputId": "58670293-1ab2-4f29-9683-eb49bfc2bc18"
      },
      "execution_count": 30,
      "outputs": [
        {
          "output_type": "execute_result",
          "data": {
            "text/plain": [
              "0.000518118932158878"
            ]
          },
          "metadata": {},
          "execution_count": 30
        }
      ]
    },
    {
      "cell_type": "code",
      "source": [
        "nb_probability(\"the\",train,'Education',0.1)"
      ],
      "metadata": {
        "colab": {
          "base_uri": "https://localhost:8080/"
        },
        "id": "olkxY5Bnq1au",
        "outputId": "6b8e58c0-d257-4636-c68d-e978e3ff252f"
      },
      "execution_count": 31,
      "outputs": [
        {
          "output_type": "execute_result",
          "data": {
            "text/plain": [
              "5.972718505754707e-05"
            ]
          },
          "metadata": {},
          "execution_count": 31
        }
      ]
    },
    {
      "cell_type": "code",
      "source": [
        "for i in train['Type'].unique():\n",
        "  print(nb_probability(\"the\",train,i,0.1))"
      ],
      "metadata": {
        "colab": {
          "base_uri": "https://localhost:8080/"
        },
        "id": "ZkhmDXB_5icb",
        "outputId": "898057d1-0014-4353-ec65-c3bc946d0dec"
      },
      "execution_count": 32,
      "outputs": [
        {
          "output_type": "stream",
          "name": "stdout",
          "text": [
            "0.0007705207223853557\n",
            "0.00011487546606727607\n",
            "0.00015029559868622928\n",
            "0.00021838500703810006\n",
            "0.000413953687759016\n",
            "5.972718505754707e-05\n"
          ]
        }
      ]
    },
    {
      "cell_type": "code",
      "source": [
        "from sklearn.model_selection import KFold\n",
        "cv = KFold(n_splits=5, random_state=1, shuffle=True)"
      ],
      "metadata": {
        "id": "wuVTiabcph7r"
      },
      "execution_count": 33,
      "outputs": []
    },
    {
      "cell_type": "code",
      "source": [
        "for train,validate in cv.split(df):\n",
        "  print(\"Train Score = \",train,\"Validation Score : \",validate)"
      ],
      "metadata": {
        "colab": {
          "base_uri": "https://localhost:8080/"
        },
        "id": "VuCrkzQ_plq9",
        "outputId": "39631d53-0ace-40ff-ae34-176424536851"
      },
      "execution_count": 34,
      "outputs": [
        {
          "output_type": "stream",
          "name": "stdout",
          "text": [
            "Train Score =  [    0     1     2 ... 60112 60113 60114] Validation Score :  [   10    12    28 ... 60096 60099 60109]\n",
            "Train Score =  [    0     1     4 ... 60112 60113 60114] Validation Score :  [    2     3     8 ... 60091 60094 60103]\n",
            "Train Score =  [    1     2     3 ... 60110 60113 60114] Validation Score :  [    0    21    22 ... 60108 60111 60112]\n",
            "Train Score =  [    0     2     3 ... 60112 60113 60114] Validation Score :  [    1     4     5 ... 60105 60106 60110]\n",
            "Train Score =  [    0     1     2 ... 60110 60111 60112] Validation Score :  [    9    14    15 ... 60104 60113 60114]\n"
          ]
        }
      ]
    },
    {
      "cell_type": "markdown",
      "source": [
        "# TEST DATA"
      ],
      "metadata": {
        "id": "RQLJR-vV-mic"
      }
    },
    {
      "cell_type": "code",
      "source": [
        "vocab_test = word_counts(test_df)\n",
        "cond_words_test = conditional_count_values(test_df,'Type')\n",
        "cond_words_test.dropna()"
      ],
      "metadata": {
        "colab": {
          "base_uri": "https://localhost:8080/",
          "height": 424
        },
        "id": "Jo5ZPFhc-gt2",
        "outputId": "d5344697-1496-4783-b423-33c51872117f"
      },
      "execution_count": 35,
      "outputs": [
        {
          "output_type": "execute_result",
          "data": {
            "text/plain": [
              "              Responsibility  Requirement   Skill  SoftSkill  Education  \\\n",
              "high                   239.0        229.0    69.0      229.0      109.0   \n",
              "technical              903.0        515.0   221.0      254.0      305.0   \n",
              "and                  10634.0       7114.0  2640.0     5286.0      597.0   \n",
              "architecture           192.0        146.0    93.0       31.0       32.0   \n",
              "ensuring               199.0         10.0     0.0       10.0        0.0   \n",
              "...                      ...          ...     ...        ...        ...   \n",
              "pan                      0.0          0.0     0.0        0.0        0.0   \n",
              "redhat                   0.0          0.0     0.0        0.0        0.0   \n",
              "marts                    0.0          0.0     0.0        0.0        0.0   \n",
              "manufactory              0.0          0.0     0.0        0.0        0.0   \n",
              "asa                      0.0          0.0     0.0        0.0        0.0   \n",
              "\n",
              "              Experience  \n",
              "high                87.0  \n",
              "technical          443.0  \n",
              "and               2933.0  \n",
              "architecture       133.0  \n",
              "ensuring             5.0  \n",
              "...                  ...  \n",
              "pan                  4.0  \n",
              "redhat               4.0  \n",
              "marts                4.0  \n",
              "manufactory          4.0  \n",
              "asa                  4.0  \n",
              "\n",
              "[5192 rows x 6 columns]"
            ],
            "text/html": [
              "\n",
              "  <div id=\"df-96523d95-93be-4ef4-97dd-bea89a56004c\">\n",
              "    <div class=\"colab-df-container\">\n",
              "      <div>\n",
              "<style scoped>\n",
              "    .dataframe tbody tr th:only-of-type {\n",
              "        vertical-align: middle;\n",
              "    }\n",
              "\n",
              "    .dataframe tbody tr th {\n",
              "        vertical-align: top;\n",
              "    }\n",
              "\n",
              "    .dataframe thead th {\n",
              "        text-align: right;\n",
              "    }\n",
              "</style>\n",
              "<table border=\"1\" class=\"dataframe\">\n",
              "  <thead>\n",
              "    <tr style=\"text-align: right;\">\n",
              "      <th></th>\n",
              "      <th>Responsibility</th>\n",
              "      <th>Requirement</th>\n",
              "      <th>Skill</th>\n",
              "      <th>SoftSkill</th>\n",
              "      <th>Education</th>\n",
              "      <th>Experience</th>\n",
              "    </tr>\n",
              "  </thead>\n",
              "  <tbody>\n",
              "    <tr>\n",
              "      <th>high</th>\n",
              "      <td>239.0</td>\n",
              "      <td>229.0</td>\n",
              "      <td>69.0</td>\n",
              "      <td>229.0</td>\n",
              "      <td>109.0</td>\n",
              "      <td>87.0</td>\n",
              "    </tr>\n",
              "    <tr>\n",
              "      <th>technical</th>\n",
              "      <td>903.0</td>\n",
              "      <td>515.0</td>\n",
              "      <td>221.0</td>\n",
              "      <td>254.0</td>\n",
              "      <td>305.0</td>\n",
              "      <td>443.0</td>\n",
              "    </tr>\n",
              "    <tr>\n",
              "      <th>and</th>\n",
              "      <td>10634.0</td>\n",
              "      <td>7114.0</td>\n",
              "      <td>2640.0</td>\n",
              "      <td>5286.0</td>\n",
              "      <td>597.0</td>\n",
              "      <td>2933.0</td>\n",
              "    </tr>\n",
              "    <tr>\n",
              "      <th>architecture</th>\n",
              "      <td>192.0</td>\n",
              "      <td>146.0</td>\n",
              "      <td>93.0</td>\n",
              "      <td>31.0</td>\n",
              "      <td>32.0</td>\n",
              "      <td>133.0</td>\n",
              "    </tr>\n",
              "    <tr>\n",
              "      <th>ensuring</th>\n",
              "      <td>199.0</td>\n",
              "      <td>10.0</td>\n",
              "      <td>0.0</td>\n",
              "      <td>10.0</td>\n",
              "      <td>0.0</td>\n",
              "      <td>5.0</td>\n",
              "    </tr>\n",
              "    <tr>\n",
              "      <th>...</th>\n",
              "      <td>...</td>\n",
              "      <td>...</td>\n",
              "      <td>...</td>\n",
              "      <td>...</td>\n",
              "      <td>...</td>\n",
              "      <td>...</td>\n",
              "    </tr>\n",
              "    <tr>\n",
              "      <th>pan</th>\n",
              "      <td>0.0</td>\n",
              "      <td>0.0</td>\n",
              "      <td>0.0</td>\n",
              "      <td>0.0</td>\n",
              "      <td>0.0</td>\n",
              "      <td>4.0</td>\n",
              "    </tr>\n",
              "    <tr>\n",
              "      <th>redhat</th>\n",
              "      <td>0.0</td>\n",
              "      <td>0.0</td>\n",
              "      <td>0.0</td>\n",
              "      <td>0.0</td>\n",
              "      <td>0.0</td>\n",
              "      <td>4.0</td>\n",
              "    </tr>\n",
              "    <tr>\n",
              "      <th>marts</th>\n",
              "      <td>0.0</td>\n",
              "      <td>0.0</td>\n",
              "      <td>0.0</td>\n",
              "      <td>0.0</td>\n",
              "      <td>0.0</td>\n",
              "      <td>4.0</td>\n",
              "    </tr>\n",
              "    <tr>\n",
              "      <th>manufactory</th>\n",
              "      <td>0.0</td>\n",
              "      <td>0.0</td>\n",
              "      <td>0.0</td>\n",
              "      <td>0.0</td>\n",
              "      <td>0.0</td>\n",
              "      <td>4.0</td>\n",
              "    </tr>\n",
              "    <tr>\n",
              "      <th>asa</th>\n",
              "      <td>0.0</td>\n",
              "      <td>0.0</td>\n",
              "      <td>0.0</td>\n",
              "      <td>0.0</td>\n",
              "      <td>0.0</td>\n",
              "      <td>4.0</td>\n",
              "    </tr>\n",
              "  </tbody>\n",
              "</table>\n",
              "<p>5192 rows × 6 columns</p>\n",
              "</div>\n",
              "      <button class=\"colab-df-convert\" onclick=\"convertToInteractive('df-96523d95-93be-4ef4-97dd-bea89a56004c')\"\n",
              "              title=\"Convert this dataframe to an interactive table.\"\n",
              "              style=\"display:none;\">\n",
              "        \n",
              "  <svg xmlns=\"http://www.w3.org/2000/svg\" height=\"24px\"viewBox=\"0 0 24 24\"\n",
              "       width=\"24px\">\n",
              "    <path d=\"M0 0h24v24H0V0z\" fill=\"none\"/>\n",
              "    <path d=\"M18.56 5.44l.94 2.06.94-2.06 2.06-.94-2.06-.94-.94-2.06-.94 2.06-2.06.94zm-11 1L8.5 8.5l.94-2.06 2.06-.94-2.06-.94L8.5 2.5l-.94 2.06-2.06.94zm10 10l.94 2.06.94-2.06 2.06-.94-2.06-.94-.94-2.06-.94 2.06-2.06.94z\"/><path d=\"M17.41 7.96l-1.37-1.37c-.4-.4-.92-.59-1.43-.59-.52 0-1.04.2-1.43.59L10.3 9.45l-7.72 7.72c-.78.78-.78 2.05 0 2.83L4 21.41c.39.39.9.59 1.41.59.51 0 1.02-.2 1.41-.59l7.78-7.78 2.81-2.81c.8-.78.8-2.07 0-2.86zM5.41 20L4 18.59l7.72-7.72 1.47 1.35L5.41 20z\"/>\n",
              "  </svg>\n",
              "      </button>\n",
              "      \n",
              "  <style>\n",
              "    .colab-df-container {\n",
              "      display:flex;\n",
              "      flex-wrap:wrap;\n",
              "      gap: 12px;\n",
              "    }\n",
              "\n",
              "    .colab-df-convert {\n",
              "      background-color: #E8F0FE;\n",
              "      border: none;\n",
              "      border-radius: 50%;\n",
              "      cursor: pointer;\n",
              "      display: none;\n",
              "      fill: #1967D2;\n",
              "      height: 32px;\n",
              "      padding: 0 0 0 0;\n",
              "      width: 32px;\n",
              "    }\n",
              "\n",
              "    .colab-df-convert:hover {\n",
              "      background-color: #E2EBFA;\n",
              "      box-shadow: 0px 1px 2px rgba(60, 64, 67, 0.3), 0px 1px 3px 1px rgba(60, 64, 67, 0.15);\n",
              "      fill: #174EA6;\n",
              "    }\n",
              "\n",
              "    [theme=dark] .colab-df-convert {\n",
              "      background-color: #3B4455;\n",
              "      fill: #D2E3FC;\n",
              "    }\n",
              "\n",
              "    [theme=dark] .colab-df-convert:hover {\n",
              "      background-color: #434B5C;\n",
              "      box-shadow: 0px 1px 3px 1px rgba(0, 0, 0, 0.15);\n",
              "      filter: drop-shadow(0px 1px 2px rgba(0, 0, 0, 0.3));\n",
              "      fill: #FFFFFF;\n",
              "    }\n",
              "  </style>\n",
              "\n",
              "      <script>\n",
              "        const buttonEl =\n",
              "          document.querySelector('#df-96523d95-93be-4ef4-97dd-bea89a56004c button.colab-df-convert');\n",
              "        buttonEl.style.display =\n",
              "          google.colab.kernel.accessAllowed ? 'block' : 'none';\n",
              "\n",
              "        async function convertToInteractive(key) {\n",
              "          const element = document.querySelector('#df-96523d95-93be-4ef4-97dd-bea89a56004c');\n",
              "          const dataTable =\n",
              "            await google.colab.kernel.invokeFunction('convertToInteractive',\n",
              "                                                     [key], {});\n",
              "          if (!dataTable) return;\n",
              "\n",
              "          const docLinkHtml = 'Like what you see? Visit the ' +\n",
              "            '<a target=\"_blank\" href=https://colab.research.google.com/notebooks/data_table.ipynb>data table notebook</a>'\n",
              "            + ' to learn more about interactive tables.';\n",
              "          element.innerHTML = '';\n",
              "          dataTable['output_type'] = 'display_data';\n",
              "          await google.colab.output.renderOutput(dataTable, element);\n",
              "          const docLink = document.createElement('div');\n",
              "          docLink.innerHTML = docLinkHtml;\n",
              "          element.appendChild(docLink);\n",
              "        }\n",
              "      </script>\n",
              "    </div>\n",
              "  </div>\n",
              "  "
            ]
          },
          "metadata": {},
          "execution_count": 35
        }
      ]
    },
    {
      "cell_type": "code",
      "source": [
        "print(\"When smoothing factor = 1 : \",conditional_probability(test_df,\"the\",'Education',1))\n",
        "print(\"When smoothing factor = 0.1 : \",conditional_probability(test_df,\"the\",'Education',0.1))\n",
        "print(\"When smoothing factor = 0.5 : \",conditional_probability(test_df,\"the\",'Education',0.5))"
      ],
      "metadata": {
        "colab": {
          "base_uri": "https://localhost:8080/"
        },
        "id": "0pMR0_AZ-s-1",
        "outputId": "4eaf8d48-b1ae-433f-a983-2cfd0e031f68"
      },
      "execution_count": 36,
      "outputs": [
        {
          "output_type": "stream",
          "name": "stdout",
          "text": [
            "When smoothing factor = 1 :  0.006664775950085082\n",
            "When smoothing factor = 0.1 :  0.0007682952346079406\n",
            "When smoothing factor = 0.5 :  0.0035972324271369093\n"
          ]
        }
      ]
    },
    {
      "cell_type": "code",
      "source": [
        "class_test_probability = count_probability_class(test_df)\n",
        "class_test_probability"
      ],
      "metadata": {
        "colab": {
          "base_uri": "https://localhost:8080/"
        },
        "id": "tjZOx8bL-x7X",
        "outputId": "db832989-c0b0-44ce-b378-2fbdefab8e20"
      },
      "execution_count": 37,
      "outputs": [
        {
          "output_type": "execute_result",
          "data": {
            "text/plain": [
              "Type\n",
              "Education         0.077851\n",
              "Experience        0.152957\n",
              "Requirement       0.234883\n",
              "Responsibility    0.259004\n",
              "Skill             0.115861\n",
              "SoftSkill         0.159444\n",
              "dtype: float64"
            ]
          },
          "metadata": {},
          "execution_count": 37
        }
      ]
    },
    {
      "cell_type": "code",
      "source": [
        "nb_probability(\"the\",test_df,'Education',1)"
      ],
      "metadata": {
        "colab": {
          "base_uri": "https://localhost:8080/"
        },
        "id": "ovCf9k1I-21D",
        "outputId": "e8f9e140-ff08-4a55-981a-90dcdb441c7b"
      },
      "execution_count": 38,
      "outputs": [
        {
          "output_type": "execute_result",
          "data": {
            "text/plain": [
              "0.0005188580461847822"
            ]
          },
          "metadata": {},
          "execution_count": 38
        }
      ]
    },
    {
      "cell_type": "code",
      "source": [
        "for i in test_df['Type'].unique():\n",
        "  print(nb_probability(\"the\",test_df,i,0.1))"
      ],
      "metadata": {
        "id": "e5XFhl-_--qi",
        "colab": {
          "base_uri": "https://localhost:8080/"
        },
        "outputId": "0396e3c7-072f-4e50-c65a-6ae51ca624f0"
      },
      "execution_count": 39,
      "outputs": [
        {
          "output_type": "stream",
          "name": "stdout",
          "text": [
            "0.0007747502516977713\n",
            "0.0004139048321367147\n",
            "0.00021804378046460303\n",
            "0.00011484798389836046\n",
            "0.00014910642293686872\n",
            "5.981238788929821e-05\n"
          ]
        }
      ]
    }
  ]
}