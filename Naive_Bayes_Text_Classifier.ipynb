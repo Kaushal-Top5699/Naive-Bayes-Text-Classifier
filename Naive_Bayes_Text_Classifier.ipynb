{
  "nbformat": 4,
  "nbformat_minor": 0,
  "metadata": {
    "colab": {
      "provenance": [],
      "collapsed_sections": [],
      "toc_visible": true
    },
    "kernelspec": {
      "name": "python3",
      "display_name": "Python 3"
    },
    "language_info": {
      "name": "python"
    }
  },
  "cells": [
    {
      "cell_type": "markdown",
      "source": [
        "# NAIVE BAYE'S CLASSIFIER"
      ],
      "metadata": {
        "id": "wmd9gipzjVS-"
      }
    },
    {
      "cell_type": "markdown",
      "source": [
        "Neccessary Library Importing"
      ],
      "metadata": {
        "id": "i9UqWaK8Z4-o"
      }
    },
    {
      "cell_type": "code",
      "source": [
        "# Initial Neccessary Libraries.\n",
        "import re\n",
        "import matplotlib.pyplot as plt\n",
        "import pandas as pd\n",
        "import seaborn as sns\n",
        "import numpy as np\n",
        "\n",
        "# Libraries for handling/eliminating stopworads.\n",
        "import nltk\n",
        "nltk.download('punkt')\n",
        "nltk.download('stopwords')\n",
        "from nltk.tokenize import word_tokenize,sent_tokenize\n",
        "from nltk.corpus import stopwords\n",
        "from posixpath import join\n",
        "import math\n",
        "import random"
      ],
      "metadata": {
        "id": "ALu3pO6rlgn3",
        "colab": {
          "base_uri": "https://localhost:8080/"
        },
        "outputId": "cb6014ce-e2bf-4aae-f9af-1b9154e7345a"
      },
      "execution_count": 130,
      "outputs": [
        {
          "output_type": "stream",
          "name": "stderr",
          "text": [
            "[nltk_data] Downloading package stopwords to /root/nltk_data...\n",
            "[nltk_data]   Package stopwords is already up-to-date!\n",
            "[nltk_data] Downloading package punkt to /root/nltk_data...\n",
            "[nltk_data]   Package punkt is already up-to-date!\n"
          ]
        }
      ]
    },
    {
      "cell_type": "markdown",
      "source": [
        "Merging of two files."
      ],
      "metadata": {
        "id": "YQx0ptYbZ-r-"
      }
    },
    {
      "cell_type": "code",
      "source": [
        "# Importing train_data.csv\n",
        "# Reference: https://www.geeksforgeeks.org/ways-to-import-csv-files-in-google-colab/\n",
        "from google.colab import files\n",
        "upload_one = files.upload()"
      ],
      "metadata": {
        "id": "3naRz5YLljA7",
        "colab": {
          "base_uri": "https://localhost:8080/",
          "height": 74
        },
        "outputId": "f4d292cb-4a13-49f6-edbd-14f6e1a77d6e"
      },
      "execution_count": 131,
      "outputs": [
        {
          "output_type": "display_data",
          "data": {
            "text/plain": [
              "<IPython.core.display.HTML object>"
            ],
            "text/html": [
              "\n",
              "     <input type=\"file\" id=\"files-37aa63ec-c4da-44d8-9667-54faa082bf3a\" name=\"files[]\" multiple disabled\n",
              "        style=\"border:none\" />\n",
              "     <output id=\"result-37aa63ec-c4da-44d8-9667-54faa082bf3a\">\n",
              "      Upload widget is only available when the cell has been executed in the\n",
              "      current browser session. Please rerun this cell to enable.\n",
              "      </output>\n",
              "      <script>// Copyright 2017 Google LLC\n",
              "//\n",
              "// Licensed under the Apache License, Version 2.0 (the \"License\");\n",
              "// you may not use this file except in compliance with the License.\n",
              "// You may obtain a copy of the License at\n",
              "//\n",
              "//      http://www.apache.org/licenses/LICENSE-2.0\n",
              "//\n",
              "// Unless required by applicable law or agreed to in writing, software\n",
              "// distributed under the License is distributed on an \"AS IS\" BASIS,\n",
              "// WITHOUT WARRANTIES OR CONDITIONS OF ANY KIND, either express or implied.\n",
              "// See the License for the specific language governing permissions and\n",
              "// limitations under the License.\n",
              "\n",
              "/**\n",
              " * @fileoverview Helpers for google.colab Python module.\n",
              " */\n",
              "(function(scope) {\n",
              "function span(text, styleAttributes = {}) {\n",
              "  const element = document.createElement('span');\n",
              "  element.textContent = text;\n",
              "  for (const key of Object.keys(styleAttributes)) {\n",
              "    element.style[key] = styleAttributes[key];\n",
              "  }\n",
              "  return element;\n",
              "}\n",
              "\n",
              "// Max number of bytes which will be uploaded at a time.\n",
              "const MAX_PAYLOAD_SIZE = 100 * 1024;\n",
              "\n",
              "function _uploadFiles(inputId, outputId) {\n",
              "  const steps = uploadFilesStep(inputId, outputId);\n",
              "  const outputElement = document.getElementById(outputId);\n",
              "  // Cache steps on the outputElement to make it available for the next call\n",
              "  // to uploadFilesContinue from Python.\n",
              "  outputElement.steps = steps;\n",
              "\n",
              "  return _uploadFilesContinue(outputId);\n",
              "}\n",
              "\n",
              "// This is roughly an async generator (not supported in the browser yet),\n",
              "// where there are multiple asynchronous steps and the Python side is going\n",
              "// to poll for completion of each step.\n",
              "// This uses a Promise to block the python side on completion of each step,\n",
              "// then passes the result of the previous step as the input to the next step.\n",
              "function _uploadFilesContinue(outputId) {\n",
              "  const outputElement = document.getElementById(outputId);\n",
              "  const steps = outputElement.steps;\n",
              "\n",
              "  const next = steps.next(outputElement.lastPromiseValue);\n",
              "  return Promise.resolve(next.value.promise).then((value) => {\n",
              "    // Cache the last promise value to make it available to the next\n",
              "    // step of the generator.\n",
              "    outputElement.lastPromiseValue = value;\n",
              "    return next.value.response;\n",
              "  });\n",
              "}\n",
              "\n",
              "/**\n",
              " * Generator function which is called between each async step of the upload\n",
              " * process.\n",
              " * @param {string} inputId Element ID of the input file picker element.\n",
              " * @param {string} outputId Element ID of the output display.\n",
              " * @return {!Iterable<!Object>} Iterable of next steps.\n",
              " */\n",
              "function* uploadFilesStep(inputId, outputId) {\n",
              "  const inputElement = document.getElementById(inputId);\n",
              "  inputElement.disabled = false;\n",
              "\n",
              "  const outputElement = document.getElementById(outputId);\n",
              "  outputElement.innerHTML = '';\n",
              "\n",
              "  const pickedPromise = new Promise((resolve) => {\n",
              "    inputElement.addEventListener('change', (e) => {\n",
              "      resolve(e.target.files);\n",
              "    });\n",
              "  });\n",
              "\n",
              "  const cancel = document.createElement('button');\n",
              "  inputElement.parentElement.appendChild(cancel);\n",
              "  cancel.textContent = 'Cancel upload';\n",
              "  const cancelPromise = new Promise((resolve) => {\n",
              "    cancel.onclick = () => {\n",
              "      resolve(null);\n",
              "    };\n",
              "  });\n",
              "\n",
              "  // Wait for the user to pick the files.\n",
              "  const files = yield {\n",
              "    promise: Promise.race([pickedPromise, cancelPromise]),\n",
              "    response: {\n",
              "      action: 'starting',\n",
              "    }\n",
              "  };\n",
              "\n",
              "  cancel.remove();\n",
              "\n",
              "  // Disable the input element since further picks are not allowed.\n",
              "  inputElement.disabled = true;\n",
              "\n",
              "  if (!files) {\n",
              "    return {\n",
              "      response: {\n",
              "        action: 'complete',\n",
              "      }\n",
              "    };\n",
              "  }\n",
              "\n",
              "  for (const file of files) {\n",
              "    const li = document.createElement('li');\n",
              "    li.append(span(file.name, {fontWeight: 'bold'}));\n",
              "    li.append(span(\n",
              "        `(${file.type || 'n/a'}) - ${file.size} bytes, ` +\n",
              "        `last modified: ${\n",
              "            file.lastModifiedDate ? file.lastModifiedDate.toLocaleDateString() :\n",
              "                                    'n/a'} - `));\n",
              "    const percent = span('0% done');\n",
              "    li.appendChild(percent);\n",
              "\n",
              "    outputElement.appendChild(li);\n",
              "\n",
              "    const fileDataPromise = new Promise((resolve) => {\n",
              "      const reader = new FileReader();\n",
              "      reader.onload = (e) => {\n",
              "        resolve(e.target.result);\n",
              "      };\n",
              "      reader.readAsArrayBuffer(file);\n",
              "    });\n",
              "    // Wait for the data to be ready.\n",
              "    let fileData = yield {\n",
              "      promise: fileDataPromise,\n",
              "      response: {\n",
              "        action: 'continue',\n",
              "      }\n",
              "    };\n",
              "\n",
              "    // Use a chunked sending to avoid message size limits. See b/62115660.\n",
              "    let position = 0;\n",
              "    do {\n",
              "      const length = Math.min(fileData.byteLength - position, MAX_PAYLOAD_SIZE);\n",
              "      const chunk = new Uint8Array(fileData, position, length);\n",
              "      position += length;\n",
              "\n",
              "      const base64 = btoa(String.fromCharCode.apply(null, chunk));\n",
              "      yield {\n",
              "        response: {\n",
              "          action: 'append',\n",
              "          file: file.name,\n",
              "          data: base64,\n",
              "        },\n",
              "      };\n",
              "\n",
              "      let percentDone = fileData.byteLength === 0 ?\n",
              "          100 :\n",
              "          Math.round((position / fileData.byteLength) * 100);\n",
              "      percent.textContent = `${percentDone}% done`;\n",
              "\n",
              "    } while (position < fileData.byteLength);\n",
              "  }\n",
              "\n",
              "  // All done.\n",
              "  yield {\n",
              "    response: {\n",
              "      action: 'complete',\n",
              "    }\n",
              "  };\n",
              "}\n",
              "\n",
              "scope.google = scope.google || {};\n",
              "scope.google.colab = scope.google.colab || {};\n",
              "scope.google.colab._files = {\n",
              "  _uploadFiles,\n",
              "  _uploadFilesContinue,\n",
              "};\n",
              "})(self);\n",
              "</script> "
            ]
          },
          "metadata": {}
        },
        {
          "output_type": "stream",
          "name": "stdout",
          "text": [
            "Saving train_data.csv to train_data (3).csv\n"
          ]
        }
      ]
    },
    {
      "cell_type": "code",
      "source": [
        "# Here we are reading the CSV file we just imported.\n",
        "# Reference: https://www.geeksforgeeks.org/ways-to-import-csv-files-in-google-colab/\n",
        "import pandas as pd\n",
        "import io\n",
        "df = pd.read_csv(io.BytesIO(upload_one['train_data.csv']))\n",
        "print(df)"
      ],
      "metadata": {
        "colab": {
          "base_uri": "https://localhost:8080/"
        },
        "id": "iHbgJKCq99K6",
        "outputId": "63680d95-0240-46d8-959c-7900820f8647"
      },
      "execution_count": 133,
      "outputs": [
        {
          "output_type": "stream",
          "name": "stdout",
          "text": [
            "       Unnamed: 0  Sentence_id  \\\n",
            "0               0  GERRES15609   \n",
            "1               1  PHERES15784   \n",
            "2               2  GERREQ10457   \n",
            "3               3  GERSKL27235   \n",
            "4               4  HONSSK18415   \n",
            "...           ...          ...   \n",
            "60110       60110  UAERES18030   \n",
            "60111       60111   GERRES3026   \n",
            "60112       60112   INDSSK5492   \n",
            "60113       60113  PHESSK15092   \n",
            "60114       60114   HONEDU1643   \n",
            "\n",
            "                                            New_Sentence            Type  \n",
            "0      Author and/or Review architecture/design and o...  Responsibility  \n",
            "1      Should be able to develop custom dynamic shape...  Responsibility  \n",
            "2      Experience in working crosslly with a  larger ...     Requirement  \n",
            "3      Previous business experience, including but no...           Skill  \n",
            "4             Delivering fast and right the first  time.       SoftSkill  \n",
            "...                                                  ...             ...  \n",
            "60110  In this position, you will  utilize your progr...  Responsibility  \n",
            "60111  In addition, this individual will be responsib...  Responsibility  \n",
            "60112                      Good problem  solving skills.       SoftSkill  \n",
            "60113                            Good Excel knowledge  .       SoftSkill  \n",
            "60114  Bachelors Degree in  Electrical Engineering, M...       Education  \n",
            "\n",
            "[60115 rows x 4 columns]\n"
          ]
        }
      ]
    },
    {
      "cell_type": "code",
      "source": [
        "# Importing test_data.csv\n",
        "# Reference: https://www.geeksforgeeks.org/ways-to-import-csv-files-in-google-colab/\n",
        "from google.colab import files\n",
        "upload_two = files.upload()"
      ],
      "metadata": {
        "colab": {
          "base_uri": "https://localhost:8080/",
          "height": 74
        },
        "id": "uz8AyM2_8BkO",
        "outputId": "d770197a-b29e-48a5-b468-84b143c4f504"
      },
      "execution_count": 134,
      "outputs": [
        {
          "output_type": "display_data",
          "data": {
            "text/plain": [
              "<IPython.core.display.HTML object>"
            ],
            "text/html": [
              "\n",
              "     <input type=\"file\" id=\"files-d653f702-d697-4534-98c0-ce0a23c81d0d\" name=\"files[]\" multiple disabled\n",
              "        style=\"border:none\" />\n",
              "     <output id=\"result-d653f702-d697-4534-98c0-ce0a23c81d0d\">\n",
              "      Upload widget is only available when the cell has been executed in the\n",
              "      current browser session. Please rerun this cell to enable.\n",
              "      </output>\n",
              "      <script>// Copyright 2017 Google LLC\n",
              "//\n",
              "// Licensed under the Apache License, Version 2.0 (the \"License\");\n",
              "// you may not use this file except in compliance with the License.\n",
              "// You may obtain a copy of the License at\n",
              "//\n",
              "//      http://www.apache.org/licenses/LICENSE-2.0\n",
              "//\n",
              "// Unless required by applicable law or agreed to in writing, software\n",
              "// distributed under the License is distributed on an \"AS IS\" BASIS,\n",
              "// WITHOUT WARRANTIES OR CONDITIONS OF ANY KIND, either express or implied.\n",
              "// See the License for the specific language governing permissions and\n",
              "// limitations under the License.\n",
              "\n",
              "/**\n",
              " * @fileoverview Helpers for google.colab Python module.\n",
              " */\n",
              "(function(scope) {\n",
              "function span(text, styleAttributes = {}) {\n",
              "  const element = document.createElement('span');\n",
              "  element.textContent = text;\n",
              "  for (const key of Object.keys(styleAttributes)) {\n",
              "    element.style[key] = styleAttributes[key];\n",
              "  }\n",
              "  return element;\n",
              "}\n",
              "\n",
              "// Max number of bytes which will be uploaded at a time.\n",
              "const MAX_PAYLOAD_SIZE = 100 * 1024;\n",
              "\n",
              "function _uploadFiles(inputId, outputId) {\n",
              "  const steps = uploadFilesStep(inputId, outputId);\n",
              "  const outputElement = document.getElementById(outputId);\n",
              "  // Cache steps on the outputElement to make it available for the next call\n",
              "  // to uploadFilesContinue from Python.\n",
              "  outputElement.steps = steps;\n",
              "\n",
              "  return _uploadFilesContinue(outputId);\n",
              "}\n",
              "\n",
              "// This is roughly an async generator (not supported in the browser yet),\n",
              "// where there are multiple asynchronous steps and the Python side is going\n",
              "// to poll for completion of each step.\n",
              "// This uses a Promise to block the python side on completion of each step,\n",
              "// then passes the result of the previous step as the input to the next step.\n",
              "function _uploadFilesContinue(outputId) {\n",
              "  const outputElement = document.getElementById(outputId);\n",
              "  const steps = outputElement.steps;\n",
              "\n",
              "  const next = steps.next(outputElement.lastPromiseValue);\n",
              "  return Promise.resolve(next.value.promise).then((value) => {\n",
              "    // Cache the last promise value to make it available to the next\n",
              "    // step of the generator.\n",
              "    outputElement.lastPromiseValue = value;\n",
              "    return next.value.response;\n",
              "  });\n",
              "}\n",
              "\n",
              "/**\n",
              " * Generator function which is called between each async step of the upload\n",
              " * process.\n",
              " * @param {string} inputId Element ID of the input file picker element.\n",
              " * @param {string} outputId Element ID of the output display.\n",
              " * @return {!Iterable<!Object>} Iterable of next steps.\n",
              " */\n",
              "function* uploadFilesStep(inputId, outputId) {\n",
              "  const inputElement = document.getElementById(inputId);\n",
              "  inputElement.disabled = false;\n",
              "\n",
              "  const outputElement = document.getElementById(outputId);\n",
              "  outputElement.innerHTML = '';\n",
              "\n",
              "  const pickedPromise = new Promise((resolve) => {\n",
              "    inputElement.addEventListener('change', (e) => {\n",
              "      resolve(e.target.files);\n",
              "    });\n",
              "  });\n",
              "\n",
              "  const cancel = document.createElement('button');\n",
              "  inputElement.parentElement.appendChild(cancel);\n",
              "  cancel.textContent = 'Cancel upload';\n",
              "  const cancelPromise = new Promise((resolve) => {\n",
              "    cancel.onclick = () => {\n",
              "      resolve(null);\n",
              "    };\n",
              "  });\n",
              "\n",
              "  // Wait for the user to pick the files.\n",
              "  const files = yield {\n",
              "    promise: Promise.race([pickedPromise, cancelPromise]),\n",
              "    response: {\n",
              "      action: 'starting',\n",
              "    }\n",
              "  };\n",
              "\n",
              "  cancel.remove();\n",
              "\n",
              "  // Disable the input element since further picks are not allowed.\n",
              "  inputElement.disabled = true;\n",
              "\n",
              "  if (!files) {\n",
              "    return {\n",
              "      response: {\n",
              "        action: 'complete',\n",
              "      }\n",
              "    };\n",
              "  }\n",
              "\n",
              "  for (const file of files) {\n",
              "    const li = document.createElement('li');\n",
              "    li.append(span(file.name, {fontWeight: 'bold'}));\n",
              "    li.append(span(\n",
              "        `(${file.type || 'n/a'}) - ${file.size} bytes, ` +\n",
              "        `last modified: ${\n",
              "            file.lastModifiedDate ? file.lastModifiedDate.toLocaleDateString() :\n",
              "                                    'n/a'} - `));\n",
              "    const percent = span('0% done');\n",
              "    li.appendChild(percent);\n",
              "\n",
              "    outputElement.appendChild(li);\n",
              "\n",
              "    const fileDataPromise = new Promise((resolve) => {\n",
              "      const reader = new FileReader();\n",
              "      reader.onload = (e) => {\n",
              "        resolve(e.target.result);\n",
              "      };\n",
              "      reader.readAsArrayBuffer(file);\n",
              "    });\n",
              "    // Wait for the data to be ready.\n",
              "    let fileData = yield {\n",
              "      promise: fileDataPromise,\n",
              "      response: {\n",
              "        action: 'continue',\n",
              "      }\n",
              "    };\n",
              "\n",
              "    // Use a chunked sending to avoid message size limits. See b/62115660.\n",
              "    let position = 0;\n",
              "    do {\n",
              "      const length = Math.min(fileData.byteLength - position, MAX_PAYLOAD_SIZE);\n",
              "      const chunk = new Uint8Array(fileData, position, length);\n",
              "      position += length;\n",
              "\n",
              "      const base64 = btoa(String.fromCharCode.apply(null, chunk));\n",
              "      yield {\n",
              "        response: {\n",
              "          action: 'append',\n",
              "          file: file.name,\n",
              "          data: base64,\n",
              "        },\n",
              "      };\n",
              "\n",
              "      let percentDone = fileData.byteLength === 0 ?\n",
              "          100 :\n",
              "          Math.round((position / fileData.byteLength) * 100);\n",
              "      percent.textContent = `${percentDone}% done`;\n",
              "\n",
              "    } while (position < fileData.byteLength);\n",
              "  }\n",
              "\n",
              "  // All done.\n",
              "  yield {\n",
              "    response: {\n",
              "      action: 'complete',\n",
              "    }\n",
              "  };\n",
              "}\n",
              "\n",
              "scope.google = scope.google || {};\n",
              "scope.google.colab = scope.google.colab || {};\n",
              "scope.google.colab._files = {\n",
              "  _uploadFiles,\n",
              "  _uploadFilesContinue,\n",
              "};\n",
              "})(self);\n",
              "</script> "
            ]
          },
          "metadata": {}
        },
        {
          "output_type": "stream",
          "name": "stdout",
          "text": [
            "Saving test_data.csv to test_data (3).csv\n"
          ]
        }
      ]
    },
    {
      "cell_type": "code",
      "source": [
        "# Here we are reading the CSV file we just imported.\n",
        "# Reference: https://www.geeksforgeeks.org/ways-to-import-csv-files-in-google-colab/\n",
        "import pandas as pd\n",
        "import io\n",
        "df1 = pd.read_csv(io.BytesIO(upload_two['test_data.csv']))\n",
        "print(df1)"
      ],
      "metadata": {
        "id": "dHTEcYiArcQR",
        "colab": {
          "base_uri": "https://localhost:8080/"
        },
        "outputId": "b5a6156d-1b53-4bd7-b07b-b3a64a4441ad"
      },
      "execution_count": 135,
      "outputs": [
        {
          "output_type": "stream",
          "name": "stdout",
          "text": [
            "       Unnamed: 0  Sentence_id  \\\n",
            "0               0  UAERES16346   \n",
            "1               1  COGREQ15586   \n",
            "2               2  UAEREQ12722   \n",
            "3               3  COGSKL29155   \n",
            "4               4  PHERES12551   \n",
            "...           ...          ...   \n",
            "15024       15024  HONEXP17084   \n",
            "15025       15025  UAESSK45553   \n",
            "15026       15026  GERSSK14317   \n",
            "15027       15027   PHEREQ4980   \n",
            "15028       15028   PHESKL2893   \n",
            "\n",
            "                                            New_Sentence  \n",
            "0      Collaborate across all of DB&T practices and o...  \n",
            "1      Strong  technology expertise in Identity and A...  \n",
            "2           Strong knowledge on Service  Virtualization.  \n",
            "3      Architect scalable data processing and analyti...  \n",
            "4      Map client organization, build outstanding rel...  \n",
            "...                                                  ...  \n",
            "15024  A minimum of 3 years of experience in Industri...  \n",
            "15025  Track record of managing multiple projects wit...  \n",
            "15026  In addition, the candidate should have effecti...  \n",
            "15027  Candidate should have sufficient knowledge on ...  \n",
            "15028  Experience in deployment and upgrading & imple...  \n",
            "\n",
            "[15029 rows x 3 columns]\n"
          ]
        }
      ]
    },
    {
      "cell_type": "code",
      "source": [
        "# Here we have merged the train and test dataset.\n",
        "# Reference: https://colab.research.google.com/drive/1LYMAB4c_BmUCpvC_ZkHdYJBODseR6u19#scrollTo=gQp0mPImnn5V\n",
        "df_merged = pd.merge(df, df1, how='outer')\n",
        "df_merged"
      ],
      "metadata": {
        "colab": {
          "base_uri": "https://localhost:8080/",
          "height": 424
        },
        "id": "dG9dh-Tq8ej5",
        "outputId": "17621c9c-a877-49e6-fb36-913cabdbb4ff"
      },
      "execution_count": 136,
      "outputs": [
        {
          "output_type": "execute_result",
          "data": {
            "text/plain": [
              "       Unnamed: 0  Sentence_id  \\\n",
              "0               0  GERRES15609   \n",
              "1               1  PHERES15784   \n",
              "2               2  GERREQ10457   \n",
              "3               3  GERSKL27235   \n",
              "4               4  HONSSK18415   \n",
              "...           ...          ...   \n",
              "75139       15024  HONEXP17084   \n",
              "75140       15025  UAESSK45553   \n",
              "75141       15026  GERSSK14317   \n",
              "75142       15027   PHEREQ4980   \n",
              "75143       15028   PHESKL2893   \n",
              "\n",
              "                                            New_Sentence            Type  \n",
              "0      Author and/or Review architecture/design and o...  Responsibility  \n",
              "1      Should be able to develop custom dynamic shape...  Responsibility  \n",
              "2      Experience in working crosslly with a  larger ...     Requirement  \n",
              "3      Previous business experience, including but no...           Skill  \n",
              "4             Delivering fast and right the first  time.       SoftSkill  \n",
              "...                                                  ...             ...  \n",
              "75139  A minimum of 3 years of experience in Industri...             NaN  \n",
              "75140  Track record of managing multiple projects wit...             NaN  \n",
              "75141  In addition, the candidate should have effecti...             NaN  \n",
              "75142  Candidate should have sufficient knowledge on ...             NaN  \n",
              "75143  Experience in deployment and upgrading & imple...             NaN  \n",
              "\n",
              "[75144 rows x 4 columns]"
            ],
            "text/html": [
              "\n",
              "  <div id=\"df-2673bd3f-1b89-4ce4-8880-abebab3b7086\">\n",
              "    <div class=\"colab-df-container\">\n",
              "      <div>\n",
              "<style scoped>\n",
              "    .dataframe tbody tr th:only-of-type {\n",
              "        vertical-align: middle;\n",
              "    }\n",
              "\n",
              "    .dataframe tbody tr th {\n",
              "        vertical-align: top;\n",
              "    }\n",
              "\n",
              "    .dataframe thead th {\n",
              "        text-align: right;\n",
              "    }\n",
              "</style>\n",
              "<table border=\"1\" class=\"dataframe\">\n",
              "  <thead>\n",
              "    <tr style=\"text-align: right;\">\n",
              "      <th></th>\n",
              "      <th>Unnamed: 0</th>\n",
              "      <th>Sentence_id</th>\n",
              "      <th>New_Sentence</th>\n",
              "      <th>Type</th>\n",
              "    </tr>\n",
              "  </thead>\n",
              "  <tbody>\n",
              "    <tr>\n",
              "      <th>0</th>\n",
              "      <td>0</td>\n",
              "      <td>GERRES15609</td>\n",
              "      <td>Author and/or Review architecture/design and o...</td>\n",
              "      <td>Responsibility</td>\n",
              "    </tr>\n",
              "    <tr>\n",
              "      <th>1</th>\n",
              "      <td>1</td>\n",
              "      <td>PHERES15784</td>\n",
              "      <td>Should be able to develop custom dynamic shape...</td>\n",
              "      <td>Responsibility</td>\n",
              "    </tr>\n",
              "    <tr>\n",
              "      <th>2</th>\n",
              "      <td>2</td>\n",
              "      <td>GERREQ10457</td>\n",
              "      <td>Experience in working crosslly with a  larger ...</td>\n",
              "      <td>Requirement</td>\n",
              "    </tr>\n",
              "    <tr>\n",
              "      <th>3</th>\n",
              "      <td>3</td>\n",
              "      <td>GERSKL27235</td>\n",
              "      <td>Previous business experience, including but no...</td>\n",
              "      <td>Skill</td>\n",
              "    </tr>\n",
              "    <tr>\n",
              "      <th>4</th>\n",
              "      <td>4</td>\n",
              "      <td>HONSSK18415</td>\n",
              "      <td>Delivering fast and right the first  time.</td>\n",
              "      <td>SoftSkill</td>\n",
              "    </tr>\n",
              "    <tr>\n",
              "      <th>...</th>\n",
              "      <td>...</td>\n",
              "      <td>...</td>\n",
              "      <td>...</td>\n",
              "      <td>...</td>\n",
              "    </tr>\n",
              "    <tr>\n",
              "      <th>75139</th>\n",
              "      <td>15024</td>\n",
              "      <td>HONEXP17084</td>\n",
              "      <td>A minimum of 3 years of experience in Industri...</td>\n",
              "      <td>NaN</td>\n",
              "    </tr>\n",
              "    <tr>\n",
              "      <th>75140</th>\n",
              "      <td>15025</td>\n",
              "      <td>UAESSK45553</td>\n",
              "      <td>Track record of managing multiple projects wit...</td>\n",
              "      <td>NaN</td>\n",
              "    </tr>\n",
              "    <tr>\n",
              "      <th>75141</th>\n",
              "      <td>15026</td>\n",
              "      <td>GERSSK14317</td>\n",
              "      <td>In addition, the candidate should have effecti...</td>\n",
              "      <td>NaN</td>\n",
              "    </tr>\n",
              "    <tr>\n",
              "      <th>75142</th>\n",
              "      <td>15027</td>\n",
              "      <td>PHEREQ4980</td>\n",
              "      <td>Candidate should have sufficient knowledge on ...</td>\n",
              "      <td>NaN</td>\n",
              "    </tr>\n",
              "    <tr>\n",
              "      <th>75143</th>\n",
              "      <td>15028</td>\n",
              "      <td>PHESKL2893</td>\n",
              "      <td>Experience in deployment and upgrading &amp; imple...</td>\n",
              "      <td>NaN</td>\n",
              "    </tr>\n",
              "  </tbody>\n",
              "</table>\n",
              "<p>75144 rows × 4 columns</p>\n",
              "</div>\n",
              "      <button class=\"colab-df-convert\" onclick=\"convertToInteractive('df-2673bd3f-1b89-4ce4-8880-abebab3b7086')\"\n",
              "              title=\"Convert this dataframe to an interactive table.\"\n",
              "              style=\"display:none;\">\n",
              "        \n",
              "  <svg xmlns=\"http://www.w3.org/2000/svg\" height=\"24px\"viewBox=\"0 0 24 24\"\n",
              "       width=\"24px\">\n",
              "    <path d=\"M0 0h24v24H0V0z\" fill=\"none\"/>\n",
              "    <path d=\"M18.56 5.44l.94 2.06.94-2.06 2.06-.94-2.06-.94-.94-2.06-.94 2.06-2.06.94zm-11 1L8.5 8.5l.94-2.06 2.06-.94-2.06-.94L8.5 2.5l-.94 2.06-2.06.94zm10 10l.94 2.06.94-2.06 2.06-.94-2.06-.94-.94-2.06-.94 2.06-2.06.94z\"/><path d=\"M17.41 7.96l-1.37-1.37c-.4-.4-.92-.59-1.43-.59-.52 0-1.04.2-1.43.59L10.3 9.45l-7.72 7.72c-.78.78-.78 2.05 0 2.83L4 21.41c.39.39.9.59 1.41.59.51 0 1.02-.2 1.41-.59l7.78-7.78 2.81-2.81c.8-.78.8-2.07 0-2.86zM5.41 20L4 18.59l7.72-7.72 1.47 1.35L5.41 20z\"/>\n",
              "  </svg>\n",
              "      </button>\n",
              "      \n",
              "  <style>\n",
              "    .colab-df-container {\n",
              "      display:flex;\n",
              "      flex-wrap:wrap;\n",
              "      gap: 12px;\n",
              "    }\n",
              "\n",
              "    .colab-df-convert {\n",
              "      background-color: #E8F0FE;\n",
              "      border: none;\n",
              "      border-radius: 50%;\n",
              "      cursor: pointer;\n",
              "      display: none;\n",
              "      fill: #1967D2;\n",
              "      height: 32px;\n",
              "      padding: 0 0 0 0;\n",
              "      width: 32px;\n",
              "    }\n",
              "\n",
              "    .colab-df-convert:hover {\n",
              "      background-color: #E2EBFA;\n",
              "      box-shadow: 0px 1px 2px rgba(60, 64, 67, 0.3), 0px 1px 3px 1px rgba(60, 64, 67, 0.15);\n",
              "      fill: #174EA6;\n",
              "    }\n",
              "\n",
              "    [theme=dark] .colab-df-convert {\n",
              "      background-color: #3B4455;\n",
              "      fill: #D2E3FC;\n",
              "    }\n",
              "\n",
              "    [theme=dark] .colab-df-convert:hover {\n",
              "      background-color: #434B5C;\n",
              "      box-shadow: 0px 1px 3px 1px rgba(0, 0, 0, 0.15);\n",
              "      filter: drop-shadow(0px 1px 2px rgba(0, 0, 0, 0.3));\n",
              "      fill: #FFFFFF;\n",
              "    }\n",
              "  </style>\n",
              "\n",
              "      <script>\n",
              "        const buttonEl =\n",
              "          document.querySelector('#df-2673bd3f-1b89-4ce4-8880-abebab3b7086 button.colab-df-convert');\n",
              "        buttonEl.style.display =\n",
              "          google.colab.kernel.accessAllowed ? 'block' : 'none';\n",
              "\n",
              "        async function convertToInteractive(key) {\n",
              "          const element = document.querySelector('#df-2673bd3f-1b89-4ce4-8880-abebab3b7086');\n",
              "          const dataTable =\n",
              "            await google.colab.kernel.invokeFunction('convertToInteractive',\n",
              "                                                     [key], {});\n",
              "          if (!dataTable) return;\n",
              "\n",
              "          const docLinkHtml = 'Like what you see? Visit the ' +\n",
              "            '<a target=\"_blank\" href=https://colab.research.google.com/notebooks/data_table.ipynb>data table notebook</a>'\n",
              "            + ' to learn more about interactive tables.';\n",
              "          element.innerHTML = '';\n",
              "          dataTable['output_type'] = 'display_data';\n",
              "          await google.colab.output.renderOutput(dataTable, element);\n",
              "          const docLink = document.createElement('div');\n",
              "          docLink.innerHTML = docLinkHtml;\n",
              "          element.appendChild(docLink);\n",
              "        }\n",
              "      </script>\n",
              "    </div>\n",
              "  </div>\n",
              "  "
            ]
          },
          "metadata": {},
          "execution_count": 136
        }
      ]
    },
    {
      "cell_type": "code",
      "source": [
        "df_merged.head(5)"
      ],
      "metadata": {
        "colab": {
          "base_uri": "https://localhost:8080/",
          "height": 206
        },
        "id": "V6aLINAp85IH",
        "outputId": "2937675c-7c4c-4f25-b177-8d88e397fc1c"
      },
      "execution_count": 137,
      "outputs": [
        {
          "output_type": "execute_result",
          "data": {
            "text/plain": [
              "   Unnamed: 0  Sentence_id                                       New_Sentence  \\\n",
              "0           0  GERRES15609  Author and/or Review architecture/design and o...   \n",
              "1           1  PHERES15784  Should be able to develop custom dynamic shape...   \n",
              "2           2  GERREQ10457  Experience in working crosslly with a  larger ...   \n",
              "3           3  GERSKL27235  Previous business experience, including but no...   \n",
              "4           4  HONSSK18415         Delivering fast and right the first  time.   \n",
              "\n",
              "             Type  \n",
              "0  Responsibility  \n",
              "1  Responsibility  \n",
              "2     Requirement  \n",
              "3           Skill  \n",
              "4       SoftSkill  "
            ],
            "text/html": [
              "\n",
              "  <div id=\"df-0fdea375-f17a-465a-a74f-e6eed40a140f\">\n",
              "    <div class=\"colab-df-container\">\n",
              "      <div>\n",
              "<style scoped>\n",
              "    .dataframe tbody tr th:only-of-type {\n",
              "        vertical-align: middle;\n",
              "    }\n",
              "\n",
              "    .dataframe tbody tr th {\n",
              "        vertical-align: top;\n",
              "    }\n",
              "\n",
              "    .dataframe thead th {\n",
              "        text-align: right;\n",
              "    }\n",
              "</style>\n",
              "<table border=\"1\" class=\"dataframe\">\n",
              "  <thead>\n",
              "    <tr style=\"text-align: right;\">\n",
              "      <th></th>\n",
              "      <th>Unnamed: 0</th>\n",
              "      <th>Sentence_id</th>\n",
              "      <th>New_Sentence</th>\n",
              "      <th>Type</th>\n",
              "    </tr>\n",
              "  </thead>\n",
              "  <tbody>\n",
              "    <tr>\n",
              "      <th>0</th>\n",
              "      <td>0</td>\n",
              "      <td>GERRES15609</td>\n",
              "      <td>Author and/or Review architecture/design and o...</td>\n",
              "      <td>Responsibility</td>\n",
              "    </tr>\n",
              "    <tr>\n",
              "      <th>1</th>\n",
              "      <td>1</td>\n",
              "      <td>PHERES15784</td>\n",
              "      <td>Should be able to develop custom dynamic shape...</td>\n",
              "      <td>Responsibility</td>\n",
              "    </tr>\n",
              "    <tr>\n",
              "      <th>2</th>\n",
              "      <td>2</td>\n",
              "      <td>GERREQ10457</td>\n",
              "      <td>Experience in working crosslly with a  larger ...</td>\n",
              "      <td>Requirement</td>\n",
              "    </tr>\n",
              "    <tr>\n",
              "      <th>3</th>\n",
              "      <td>3</td>\n",
              "      <td>GERSKL27235</td>\n",
              "      <td>Previous business experience, including but no...</td>\n",
              "      <td>Skill</td>\n",
              "    </tr>\n",
              "    <tr>\n",
              "      <th>4</th>\n",
              "      <td>4</td>\n",
              "      <td>HONSSK18415</td>\n",
              "      <td>Delivering fast and right the first  time.</td>\n",
              "      <td>SoftSkill</td>\n",
              "    </tr>\n",
              "  </tbody>\n",
              "</table>\n",
              "</div>\n",
              "      <button class=\"colab-df-convert\" onclick=\"convertToInteractive('df-0fdea375-f17a-465a-a74f-e6eed40a140f')\"\n",
              "              title=\"Convert this dataframe to an interactive table.\"\n",
              "              style=\"display:none;\">\n",
              "        \n",
              "  <svg xmlns=\"http://www.w3.org/2000/svg\" height=\"24px\"viewBox=\"0 0 24 24\"\n",
              "       width=\"24px\">\n",
              "    <path d=\"M0 0h24v24H0V0z\" fill=\"none\"/>\n",
              "    <path d=\"M18.56 5.44l.94 2.06.94-2.06 2.06-.94-2.06-.94-.94-2.06-.94 2.06-2.06.94zm-11 1L8.5 8.5l.94-2.06 2.06-.94-2.06-.94L8.5 2.5l-.94 2.06-2.06.94zm10 10l.94 2.06.94-2.06 2.06-.94-2.06-.94-.94-2.06-.94 2.06-2.06.94z\"/><path d=\"M17.41 7.96l-1.37-1.37c-.4-.4-.92-.59-1.43-.59-.52 0-1.04.2-1.43.59L10.3 9.45l-7.72 7.72c-.78.78-.78 2.05 0 2.83L4 21.41c.39.39.9.59 1.41.59.51 0 1.02-.2 1.41-.59l7.78-7.78 2.81-2.81c.8-.78.8-2.07 0-2.86zM5.41 20L4 18.59l7.72-7.72 1.47 1.35L5.41 20z\"/>\n",
              "  </svg>\n",
              "      </button>\n",
              "      \n",
              "  <style>\n",
              "    .colab-df-container {\n",
              "      display:flex;\n",
              "      flex-wrap:wrap;\n",
              "      gap: 12px;\n",
              "    }\n",
              "\n",
              "    .colab-df-convert {\n",
              "      background-color: #E8F0FE;\n",
              "      border: none;\n",
              "      border-radius: 50%;\n",
              "      cursor: pointer;\n",
              "      display: none;\n",
              "      fill: #1967D2;\n",
              "      height: 32px;\n",
              "      padding: 0 0 0 0;\n",
              "      width: 32px;\n",
              "    }\n",
              "\n",
              "    .colab-df-convert:hover {\n",
              "      background-color: #E2EBFA;\n",
              "      box-shadow: 0px 1px 2px rgba(60, 64, 67, 0.3), 0px 1px 3px 1px rgba(60, 64, 67, 0.15);\n",
              "      fill: #174EA6;\n",
              "    }\n",
              "\n",
              "    [theme=dark] .colab-df-convert {\n",
              "      background-color: #3B4455;\n",
              "      fill: #D2E3FC;\n",
              "    }\n",
              "\n",
              "    [theme=dark] .colab-df-convert:hover {\n",
              "      background-color: #434B5C;\n",
              "      box-shadow: 0px 1px 3px 1px rgba(0, 0, 0, 0.15);\n",
              "      filter: drop-shadow(0px 1px 2px rgba(0, 0, 0, 0.3));\n",
              "      fill: #FFFFFF;\n",
              "    }\n",
              "  </style>\n",
              "\n",
              "      <script>\n",
              "        const buttonEl =\n",
              "          document.querySelector('#df-0fdea375-f17a-465a-a74f-e6eed40a140f button.colab-df-convert');\n",
              "        buttonEl.style.display =\n",
              "          google.colab.kernel.accessAllowed ? 'block' : 'none';\n",
              "\n",
              "        async function convertToInteractive(key) {\n",
              "          const element = document.querySelector('#df-0fdea375-f17a-465a-a74f-e6eed40a140f');\n",
              "          const dataTable =\n",
              "            await google.colab.kernel.invokeFunction('convertToInteractive',\n",
              "                                                     [key], {});\n",
              "          if (!dataTable) return;\n",
              "\n",
              "          const docLinkHtml = 'Like what you see? Visit the ' +\n",
              "            '<a target=\"_blank\" href=https://colab.research.google.com/notebooks/data_table.ipynb>data table notebook</a>'\n",
              "            + ' to learn more about interactive tables.';\n",
              "          element.innerHTML = '';\n",
              "          dataTable['output_type'] = 'display_data';\n",
              "          await google.colab.output.renderOutput(dataTable, element);\n",
              "          const docLink = document.createElement('div');\n",
              "          docLink.innerHTML = docLinkHtml;\n",
              "          element.appendChild(docLink);\n",
              "        }\n",
              "      </script>\n",
              "    </div>\n",
              "  </div>\n",
              "  "
            ]
          },
          "metadata": {},
          "execution_count": 137
        }
      ]
    },
    {
      "cell_type": "markdown",
      "source": [
        "Here we have null values only in New_Sentence and Type, and in rest we don't have any null values. We can handle null values by laplace smooting."
      ],
      "metadata": {
        "id": "aTihY6H7jqYH"
      }
    },
    {
      "cell_type": "code",
      "source": [
        "df_merged.isna().sum()"
      ],
      "metadata": {
        "colab": {
          "base_uri": "https://localhost:8080/"
        },
        "id": "SwnyxdWkjlxW",
        "outputId": "ff52bcb7-5114-46db-e845-e54c8566e4be"
      },
      "execution_count": 138,
      "outputs": [
        {
          "output_type": "execute_result",
          "data": {
            "text/plain": [
              "Unnamed: 0          0\n",
              "Sentence_id         0\n",
              "New_Sentence     1394\n",
              "Type            15029\n",
              "dtype: int64"
            ]
          },
          "metadata": {},
          "execution_count": 138
        }
      ]
    },
    {
      "cell_type": "code",
      "source": [
        "df_merged.info()"
      ],
      "metadata": {
        "colab": {
          "base_uri": "https://localhost:8080/"
        },
        "id": "ouPOrghBwD8B",
        "outputId": "86389577-3dc4-45e5-f33b-930c8a1f51ee"
      },
      "execution_count": 139,
      "outputs": [
        {
          "output_type": "stream",
          "name": "stdout",
          "text": [
            "<class 'pandas.core.frame.DataFrame'>\n",
            "Int64Index: 75144 entries, 0 to 75143\n",
            "Data columns (total 4 columns):\n",
            " #   Column        Non-Null Count  Dtype \n",
            "---  ------        --------------  ----- \n",
            " 0   Unnamed: 0    75144 non-null  int64 \n",
            " 1   Sentence_id   75144 non-null  object\n",
            " 2   New_Sentence  73750 non-null  object\n",
            " 3   Type          60115 non-null  object\n",
            "dtypes: int64(1), object(3)\n",
            "memory usage: 2.9+ MB\n"
          ]
        }
      ]
    },
    {
      "cell_type": "code",
      "source": [
        "plt.figure(figsize=(14,8))\n",
        "freq = df_merged.Type.value_counts()\n",
        "sns.barplot(x=freq.index, y=freq)\n",
        "plt.xlabel('Type')\n",
        "plt.ylabel('Count')\n",
        "plt.xticks(rotation=90);"
      ],
      "metadata": {
        "colab": {
          "base_uri": "https://localhost:8080/",
          "height": 556
        },
        "id": "3Vj-UlpViOB9",
        "outputId": "0d190a72-26c4-4e36-d46b-a05820425134"
      },
      "execution_count": 140,
      "outputs": [
        {
          "output_type": "display_data",
          "data": {
            "text/plain": [
              "<Figure size 1008x576 with 1 Axes>"
            ],
            "image/png": "[encoded data removed]"
          },
          "metadata": {
            "needs_background": "light"
          }
        }
      ]
    },
    {
      "cell_type": "code",
      "source": [
        "df_merged['Type'].value_counts()"
      ],
      "metadata": {
        "colab": {
          "base_uri": "https://localhost:8080/"
        },
        "id": "E2x9v3jhixXI",
        "outputId": "a5ff1381-f15a-4c19-b6d6-3cae00ea07f6"
      },
      "execution_count": 141,
      "outputs": [
        {
          "output_type": "execute_result",
          "data": {
            "text/plain": [
              "Responsibility    15561\n",
              "Requirement       14132\n",
              "SoftSkill          9581\n",
              "Experience         9248\n",
              "Skill              6956\n",
              "Education          4637\n",
              "Name: Type, dtype: int64"
            ]
          },
          "metadata": {},
          "execution_count": 141
        }
      ]
    },
    {
      "cell_type": "code",
      "source": [
        "len(df_merged)"
      ],
      "metadata": {
        "colab": {
          "base_uri": "https://localhost:8080/"
        },
        "id": "bcksKNAlHz24",
        "outputId": "95092129-769e-43bb-e3f4-68c200e63222"
      },
      "execution_count": 142,
      "outputs": [
        {
          "output_type": "execute_result",
          "data": {
            "text/plain": [
              "75144"
            ]
          },
          "metadata": {},
          "execution_count": 142
        }
      ]
    },
    {
      "cell_type": "markdown",
      "source": [
        "Stop words removal process begines."
      ],
      "metadata": {
        "id": "zR0Mod1daQXH"
      }
    },
    {
      "cell_type": "code",
      "source": [
        "# Reference: https://www.kaggle.com/code/devashishpandit/naive-bayes-on-news-category-dataset\n",
        "print(\", \".join(stopwords.words('english')))\n",
        "common_woards = set(stopwords.words('english'))"
      ],
      "metadata": {
        "colab": {
          "base_uri": "https://localhost:8080/"
        },
        "id": "EsDhS6jcTKhL",
        "outputId": "dfa4dae5-f6bb-4a2c-aad1-9e5046c7de56"
      },
      "execution_count": 143,
      "outputs": [
        {
          "output_type": "stream",
          "name": "stdout",
          "text": [
            "i, me, my, myself, we, our, ours, ourselves, you, you're, you've, you'll, you'd, your, yours, yourself, yourselves, he, him, his, himself, she, she's, her, hers, herself, it, it's, its, itself, they, them, their, theirs, themselves, what, which, who, whom, this, that, that'll, these, those, am, is, are, was, were, be, been, being, have, has, had, having, do, does, did, doing, a, an, the, and, but, if, or, because, as, until, while, of, at, by, for, with, about, against, between, into, through, during, before, after, above, below, to, from, up, down, in, out, on, off, over, under, again, further, then, once, here, there, when, where, why, how, all, any, both, each, few, more, most, other, some, such, no, nor, not, only, own, same, so, than, too, very, s, t, can, will, just, don, don't, should, should've, now, d, ll, m, o, re, ve, y, ain, aren, aren't, couldn, couldn't, didn, didn't, doesn, doesn't, hadn, hadn't, hasn, hasn't, haven, haven't, isn, isn't, ma, mightn, mightn't, mustn, mustn't, needn, needn't, shan, shan't, shouldn, shouldn't, wasn, wasn't, weren, weren't, won, won't, wouldn, wouldn't\n"
          ]
        }
      ]
    },
    {
      "cell_type": "code",
      "source": [
        "# Reference: https://www.kaggle.com/code/devashishpandit/naive-bayes-on-news-category-dataset\n",
        "def preprocessing(statement):\n",
        "    statement = \" \".join([word for word in str(statement).split() \n",
        "    if word not in common_woards]) # removing stopwords\n",
        "    statement = re.sub(r'[^A-Za-z0-9 ]+', '', statement)\n",
        "    return statement"
      ],
      "metadata": {
        "id": "XUYseK8BTNiJ"
      },
      "execution_count": 144,
      "outputs": []
    },
    {
      "cell_type": "code",
      "source": [
        "# Reference: https://www.kaggle.com/code/devashishpandit/naive-bayes-on-news-category-dataset\n",
        "df_merged['new_sentence'] = df_merged['New_Sentence'].apply(preprocessing)"
      ],
      "metadata": {
        "id": "jII5gkXxTWkM"
      },
      "execution_count": 145,
      "outputs": []
    },
    {
      "cell_type": "code",
      "source": [
        "df_merged.head(10)"
      ],
      "metadata": {
        "colab": {
          "base_uri": "https://localhost:8080/",
          "height": 407
        },
        "id": "x6CP0sG4U4_J",
        "outputId": "9bdb5323-f59f-48a9-a158-f701d7367937"
      },
      "execution_count": 178,
      "outputs": [
        {
          "output_type": "execute_result",
          "data": {
            "text/plain": [
              "   Unnamed: 0  Sentence_id                                       New_Sentence  \\\n",
              "0           0  GERRES15609  Author and/or Review architecture/design and o...   \n",
              "1           1  PHERES15784  Should be able to develop custom dynamic shape...   \n",
              "2           2  GERREQ10457  Experience in working crosslly with a  larger ...   \n",
              "3           3  GERSKL27235  Previous business experience, including but no...   \n",
              "4           4  HONSSK18415         Delivering fast and right the first  time.   \n",
              "5           5   INDRES9494    Track  department expenses and capital budget .   \n",
              "6           6  HONRES51852                         Meet  performance metrics.   \n",
              "7           7  UAEREQ34683     YOU MUST HAVEBachelors degree  in Engineering.   \n",
              "8           8   UAEREQ4612  After COVID-19: Ability to travel to manufactu...   \n",
              "9           9  INDEDU42721  Six Sigma qualification to  at least Green Bel...   \n",
              "\n",
              "             Type                                       new_sentence  \n",
              "0  Responsibility  Author andor Review architecturedesign technic...  \n",
              "1  Responsibility  Should able develop custom dynamic shape objec...  \n",
              "2     Requirement  Experience working crosslly larger Engineering...  \n",
              "3           Skill  Previous business experience including limited...  \n",
              "4       SoftSkill                   Delivering fast right first time  \n",
              "5  Responsibility          Track department expenses capital budget   \n",
              "6  Responsibility                           Meet performance metrics  \n",
              "7     Requirement          YOU MUST HAVEBachelors degree Engineering  \n",
              "8     Requirement  After COVID19 Ability travel manufacturing sit...  \n",
              "9       Education     Six Sigma qualification least Green Belt level  "
            ],
            "text/html": [
              "\n",
              "  <div id=\"df-2af235e6-3182-426d-8eae-ac38886012d8\">\n",
              "    <div class=\"colab-df-container\">\n",
              "      <div>\n",
              "<style scoped>\n",
              "    .dataframe tbody tr th:only-of-type {\n",
              "        vertical-align: middle;\n",
              "    }\n",
              "\n",
              "    .dataframe tbody tr th {\n",
              "        vertical-align: top;\n",
              "    }\n",
              "\n",
              "    .dataframe thead th {\n",
              "        text-align: right;\n",
              "    }\n",
              "</style>\n",
              "<table border=\"1\" class=\"dataframe\">\n",
              "  <thead>\n",
              "    <tr style=\"text-align: right;\">\n",
              "      <th></th>\n",
              "      <th>Unnamed: 0</th>\n",
              "      <th>Sentence_id</th>\n",
              "      <th>New_Sentence</th>\n",
              "      <th>Type</th>\n",
              "      <th>new_sentence</th>\n",
              "    </tr>\n",
              "  </thead>\n",
              "  <tbody>\n",
              "    <tr>\n",
              "      <th>0</th>\n",
              "      <td>0</td>\n",
              "      <td>GERRES15609</td>\n",
              "      <td>Author and/or Review architecture/design and o...</td>\n",
              "      <td>Responsibility</td>\n",
              "      <td>Author andor Review architecturedesign technic...</td>\n",
              "    </tr>\n",
              "    <tr>\n",
              "      <th>1</th>\n",
              "      <td>1</td>\n",
              "      <td>PHERES15784</td>\n",
              "      <td>Should be able to develop custom dynamic shape...</td>\n",
              "      <td>Responsibility</td>\n",
              "      <td>Should able develop custom dynamic shape objec...</td>\n",
              "    </tr>\n",
              "    <tr>\n",
              "      <th>2</th>\n",
              "      <td>2</td>\n",
              "      <td>GERREQ10457</td>\n",
              "      <td>Experience in working crosslly with a  larger ...</td>\n",
              "      <td>Requirement</td>\n",
              "      <td>Experience working crosslly larger Engineering...</td>\n",
              "    </tr>\n",
              "    <tr>\n",
              "      <th>3</th>\n",
              "      <td>3</td>\n",
              "      <td>GERSKL27235</td>\n",
              "      <td>Previous business experience, including but no...</td>\n",
              "      <td>Skill</td>\n",
              "      <td>Previous business experience including limited...</td>\n",
              "    </tr>\n",
              "    <tr>\n",
              "      <th>4</th>\n",
              "      <td>4</td>\n",
              "      <td>HONSSK18415</td>\n",
              "      <td>Delivering fast and right the first  time.</td>\n",
              "      <td>SoftSkill</td>\n",
              "      <td>Delivering fast right first time</td>\n",
              "    </tr>\n",
              "    <tr>\n",
              "      <th>5</th>\n",
              "      <td>5</td>\n",
              "      <td>INDRES9494</td>\n",
              "      <td>Track  department expenses and capital budget .</td>\n",
              "      <td>Responsibility</td>\n",
              "      <td>Track department expenses capital budget</td>\n",
              "    </tr>\n",
              "    <tr>\n",
              "      <th>6</th>\n",
              "      <td>6</td>\n",
              "      <td>HONRES51852</td>\n",
              "      <td>Meet  performance metrics.</td>\n",
              "      <td>Responsibility</td>\n",
              "      <td>Meet performance metrics</td>\n",
              "    </tr>\n",
              "    <tr>\n",
              "      <th>7</th>\n",
              "      <td>7</td>\n",
              "      <td>UAEREQ34683</td>\n",
              "      <td>YOU MUST HAVEBachelors degree  in Engineering.</td>\n",
              "      <td>Requirement</td>\n",
              "      <td>YOU MUST HAVEBachelors degree Engineering</td>\n",
              "    </tr>\n",
              "    <tr>\n",
              "      <th>8</th>\n",
              "      <td>8</td>\n",
              "      <td>UAEREQ4612</td>\n",
              "      <td>After COVID-19: Ability to travel to manufactu...</td>\n",
              "      <td>Requirement</td>\n",
              "      <td>After COVID19 Ability travel manufacturing sit...</td>\n",
              "    </tr>\n",
              "    <tr>\n",
              "      <th>9</th>\n",
              "      <td>9</td>\n",
              "      <td>INDEDU42721</td>\n",
              "      <td>Six Sigma qualification to  at least Green Bel...</td>\n",
              "      <td>Education</td>\n",
              "      <td>Six Sigma qualification least Green Belt level</td>\n",
              "    </tr>\n",
              "  </tbody>\n",
              "</table>\n",
              "</div>\n",
              "      <button class=\"colab-df-convert\" onclick=\"convertToInteractive('df-2af235e6-3182-426d-8eae-ac38886012d8')\"\n",
              "              title=\"Convert this dataframe to an interactive table.\"\n",
              "              style=\"display:none;\">\n",
              "        \n",
              "  <svg xmlns=\"http://www.w3.org/2000/svg\" height=\"24px\"viewBox=\"0 0 24 24\"\n",
              "       width=\"24px\">\n",
              "    <path d=\"M0 0h24v24H0V0z\" fill=\"none\"/>\n",
              "    <path d=\"M18.56 5.44l.94 2.06.94-2.06 2.06-.94-2.06-.94-.94-2.06-.94 2.06-2.06.94zm-11 1L8.5 8.5l.94-2.06 2.06-.94-2.06-.94L8.5 2.5l-.94 2.06-2.06.94zm10 10l.94 2.06.94-2.06 2.06-.94-2.06-.94-.94-2.06-.94 2.06-2.06.94z\"/><path d=\"M17.41 7.96l-1.37-1.37c-.4-.4-.92-.59-1.43-.59-.52 0-1.04.2-1.43.59L10.3 9.45l-7.72 7.72c-.78.78-.78 2.05 0 2.83L4 21.41c.39.39.9.59 1.41.59.51 0 1.02-.2 1.41-.59l7.78-7.78 2.81-2.81c.8-.78.8-2.07 0-2.86zM5.41 20L4 18.59l7.72-7.72 1.47 1.35L5.41 20z\"/>\n",
              "  </svg>\n",
              "      </button>\n",
              "      \n",
              "  <style>\n",
              "    .colab-df-container {\n",
              "      display:flex;\n",
              "      flex-wrap:wrap;\n",
              "      gap: 12px;\n",
              "    }\n",
              "\n",
              "    .colab-df-convert {\n",
              "      background-color: #E8F0FE;\n",
              "      border: none;\n",
              "      border-radius: 50%;\n",
              "      cursor: pointer;\n",
              "      display: none;\n",
              "      fill: #1967D2;\n",
              "      height: 32px;\n",
              "      padding: 0 0 0 0;\n",
              "      width: 32px;\n",
              "    }\n",
              "\n",
              "    .colab-df-convert:hover {\n",
              "      background-color: #E2EBFA;\n",
              "      box-shadow: 0px 1px 2px rgba(60, 64, 67, 0.3), 0px 1px 3px 1px rgba(60, 64, 67, 0.15);\n",
              "      fill: #174EA6;\n",
              "    }\n",
              "\n",
              "    [theme=dark] .colab-df-convert {\n",
              "      background-color: #3B4455;\n",
              "      fill: #D2E3FC;\n",
              "    }\n",
              "\n",
              "    [theme=dark] .colab-df-convert:hover {\n",
              "      background-color: #434B5C;\n",
              "      box-shadow: 0px 1px 3px 1px rgba(0, 0, 0, 0.15);\n",
              "      filter: drop-shadow(0px 1px 2px rgba(0, 0, 0, 0.3));\n",
              "      fill: #FFFFFF;\n",
              "    }\n",
              "  </style>\n",
              "\n",
              "      <script>\n",
              "        const buttonEl =\n",
              "          document.querySelector('#df-2af235e6-3182-426d-8eae-ac38886012d8 button.colab-df-convert');\n",
              "        buttonEl.style.display =\n",
              "          google.colab.kernel.accessAllowed ? 'block' : 'none';\n",
              "\n",
              "        async function convertToInteractive(key) {\n",
              "          const element = document.querySelector('#df-2af235e6-3182-426d-8eae-ac38886012d8');\n",
              "          const dataTable =\n",
              "            await google.colab.kernel.invokeFunction('convertToInteractive',\n",
              "                                                     [key], {});\n",
              "          if (!dataTable) return;\n",
              "\n",
              "          const docLinkHtml = 'Like what you see? Visit the ' +\n",
              "            '<a target=\"_blank\" href=https://colab.research.google.com/notebooks/data_table.ipynb>data table notebook</a>'\n",
              "            + ' to learn more about interactive tables.';\n",
              "          element.innerHTML = '';\n",
              "          dataTable['output_type'] = 'display_data';\n",
              "          await google.colab.output.renderOutput(dataTable, element);\n",
              "          const docLink = document.createElement('div');\n",
              "          docLink.innerHTML = docLinkHtml;\n",
              "          element.appendChild(docLink);\n",
              "        }\n",
              "      </script>\n",
              "    </div>\n",
              "  </div>\n",
              "  "
            ]
          },
          "metadata": {},
          "execution_count": 178
        }
      ]
    },
    {
      "cell_type": "markdown",
      "source": [
        "New colomn added to the dataset named as \"new_sentence\"."
      ],
      "metadata": {
        "id": "igS0V_IYaWJm"
      }
    },
    {
      "cell_type": "markdown",
      "source": [
        "Division of data into train, validate and test."
      ],
      "metadata": {
        "id": "tmqhgCNjadIu"
      }
    },
    {
      "cell_type": "code",
      "source": [
        "# Dividing into \"train, validate and test\".\n",
        "train, validate, test_df = \\\n",
        "            np.split(df_merged.sample(frac=1, \n",
        "                                      random_state=42), \n",
        "                     [int(.6*len(df_merged)), \n",
        "                      int(.8*len(df_merged))])\n",
        "print(\"Following are the number of senetences in each entity/part.\")\n",
        "print(\"Number of sentences in train ::\"+ str({len(train)}))\n",
        "print(\"Number of sentences in validate ::\"+ str({len(validate)}))\n",
        "print(\"Number of sentences in test ::\"+ str({len(test_df)}))\n",
        "print(\"Number of sentences in entier dataset ::\"+ str({len(df_merged)}))"
      ],
      "metadata": {
        "colab": {
          "base_uri": "https://localhost:8080/"
        },
        "id": "ALP2HYsIxR7R",
        "outputId": "1117da37-7dc2-466b-dc50-f86c17469608"
      },
      "execution_count": 149,
      "outputs": [
        {
          "output_type": "stream",
          "name": "stdout",
          "text": [
            "Following are the number of senetences in each entity/part.\n",
            "Number of sentences in train ::{45086}\n",
            "Number of sentences in validate ::{15029}\n",
            "Number of sentences in test ::{15029}\n",
            "Number of sentences in entier dataset ::{75144}\n"
          ]
        }
      ]
    },
    {
      "cell_type": "code",
      "source": [
        "train"
      ],
      "metadata": {
        "id": "n_yhrnOrnblk",
        "colab": {
          "base_uri": "https://localhost:8080/",
          "height": 554
        },
        "outputId": "b053bf42-6089-4eae-813c-8ef7b0e01df6"
      },
      "execution_count": 150,
      "outputs": [
        {
          "output_type": "execute_result",
          "data": {
            "text/plain": [
              "       Unnamed: 0  Sentence_id  \\\n",
              "49580       49580  INDREQ51533   \n",
              "30165       30165   COGREQ5006   \n",
              "13977       13977  COGSKL16289   \n",
              "8546         8546  INDRES13026   \n",
              "18571       18571  GERRES49418   \n",
              "...           ...          ...   \n",
              "17232       17232  INDREQ42417   \n",
              "30367       30367  GERSSK12297   \n",
              "55971       55971   GERREQ1230   \n",
              "74472       14357  COGRES46047   \n",
              "42855       42855  UAEREQ14851   \n",
              "\n",
              "                                            New_Sentence            Type  \\\n",
              "49580  FL State  Fire Alarm License holder (or willin...     Requirement   \n",
              "30165  Experience  on operational process change woul...     Requirement   \n",
              "13977  The DBA must have cloud knowledge to manage da...           Skill   \n",
              "8546   You enjoy being involved in a wide range of pr...  Responsibility   \n",
              "18571  The CSE I typically supports other senior CSEs...  Responsibility   \n",
              "...                                                  ...             ...   \n",
              "17232  Strong experience of working  with senior & C-...     Requirement   \n",
              "30367  Sie rzeugen durch Ihre kommunikativen Fgkeiten...       SoftSkill   \n",
              "55971      WE VALUEExtensive  experience in procurement.     Requirement   \n",
              "74472                  Promote a  Strong Safety Culture.             NaN   \n",
              "42855  Bachelors  degree in marketing, communications...     Requirement   \n",
              "\n",
              "                                            new_sentence  \n",
              "49580  FL State Fire Alarm License holder or willing ...  \n",
              "30165  Experience operational process change would ad...  \n",
              "13977  The DBA must cloud knowledge manage databases ...  \n",
              "8546   You enjoy involved wide range projects area SA...  \n",
              "18571  The CSE I typically supports senior CSEs field...  \n",
              "...                                                  ...  \n",
              "17232     Strong experience working senior  Csuite roles  \n",
              "30367  Sie rzeugen durch Ihre kommunikativen Fgkeiten...  \n",
              "55971           WE VALUEExtensive experience procurement  \n",
              "74472                      Promote Strong Safety Culture  \n",
              "42855  Bachelors degree marketing communications jour...  \n",
              "\n",
              "[45086 rows x 5 columns]"
            ],
            "text/html": [
              "\n",
              "  <div id=\"df-d0fbd446-920f-4a08-a585-48d4ce0fff5c\">\n",
              "    <div class=\"colab-df-container\">\n",
              "      <div>\n",
              "<style scoped>\n",
              "    .dataframe tbody tr th:only-of-type {\n",
              "        vertical-align: middle;\n",
              "    }\n",
              "\n",
              "    .dataframe tbody tr th {\n",
              "        vertical-align: top;\n",
              "    }\n",
              "\n",
              "    .dataframe thead th {\n",
              "        text-align: right;\n",
              "    }\n",
              "</style>\n",
              "<table border=\"1\" class=\"dataframe\">\n",
              "  <thead>\n",
              "    <tr style=\"text-align: right;\">\n",
              "      <th></th>\n",
              "      <th>Unnamed: 0</th>\n",
              "      <th>Sentence_id</th>\n",
              "      <th>New_Sentence</th>\n",
              "      <th>Type</th>\n",
              "      <th>new_sentence</th>\n",
              "    </tr>\n",
              "  </thead>\n",
              "  <tbody>\n",
              "    <tr>\n",
              "      <th>49580</th>\n",
              "      <td>49580</td>\n",
              "      <td>INDREQ51533</td>\n",
              "      <td>FL State  Fire Alarm License holder (or willin...</td>\n",
              "      <td>Requirement</td>\n",
              "      <td>FL State Fire Alarm License holder or willing ...</td>\n",
              "    </tr>\n",
              "    <tr>\n",
              "      <th>30165</th>\n",
              "      <td>30165</td>\n",
              "      <td>COGREQ5006</td>\n",
              "      <td>Experience  on operational process change woul...</td>\n",
              "      <td>Requirement</td>\n",
              "      <td>Experience operational process change would ad...</td>\n",
              "    </tr>\n",
              "    <tr>\n",
              "      <th>13977</th>\n",
              "      <td>13977</td>\n",
              "      <td>COGSKL16289</td>\n",
              "      <td>The DBA must have cloud knowledge to manage da...</td>\n",
              "      <td>Skill</td>\n",
              "      <td>The DBA must cloud knowledge manage databases ...</td>\n",
              "    </tr>\n",
              "    <tr>\n",
              "      <th>8546</th>\n",
              "      <td>8546</td>\n",
              "      <td>INDRES13026</td>\n",
              "      <td>You enjoy being involved in a wide range of pr...</td>\n",
              "      <td>Responsibility</td>\n",
              "      <td>You enjoy involved wide range projects area SA...</td>\n",
              "    </tr>\n",
              "    <tr>\n",
              "      <th>18571</th>\n",
              "      <td>18571</td>\n",
              "      <td>GERRES49418</td>\n",
              "      <td>The CSE I typically supports other senior CSEs...</td>\n",
              "      <td>Responsibility</td>\n",
              "      <td>The CSE I typically supports senior CSEs field...</td>\n",
              "    </tr>\n",
              "    <tr>\n",
              "      <th>...</th>\n",
              "      <td>...</td>\n",
              "      <td>...</td>\n",
              "      <td>...</td>\n",
              "      <td>...</td>\n",
              "      <td>...</td>\n",
              "    </tr>\n",
              "    <tr>\n",
              "      <th>17232</th>\n",
              "      <td>17232</td>\n",
              "      <td>INDREQ42417</td>\n",
              "      <td>Strong experience of working  with senior &amp; C-...</td>\n",
              "      <td>Requirement</td>\n",
              "      <td>Strong experience working senior  Csuite roles</td>\n",
              "    </tr>\n",
              "    <tr>\n",
              "      <th>30367</th>\n",
              "      <td>30367</td>\n",
              "      <td>GERSSK12297</td>\n",
              "      <td>Sie rzeugen durch Ihre kommunikativen Fgkeiten...</td>\n",
              "      <td>SoftSkill</td>\n",
              "      <td>Sie rzeugen durch Ihre kommunikativen Fgkeiten...</td>\n",
              "    </tr>\n",
              "    <tr>\n",
              "      <th>55971</th>\n",
              "      <td>55971</td>\n",
              "      <td>GERREQ1230</td>\n",
              "      <td>WE VALUEExtensive  experience in procurement.</td>\n",
              "      <td>Requirement</td>\n",
              "      <td>WE VALUEExtensive experience procurement</td>\n",
              "    </tr>\n",
              "    <tr>\n",
              "      <th>74472</th>\n",
              "      <td>14357</td>\n",
              "      <td>COGRES46047</td>\n",
              "      <td>Promote a  Strong Safety Culture.</td>\n",
              "      <td>NaN</td>\n",
              "      <td>Promote Strong Safety Culture</td>\n",
              "    </tr>\n",
              "    <tr>\n",
              "      <th>42855</th>\n",
              "      <td>42855</td>\n",
              "      <td>UAEREQ14851</td>\n",
              "      <td>Bachelors  degree in marketing, communications...</td>\n",
              "      <td>Requirement</td>\n",
              "      <td>Bachelors degree marketing communications jour...</td>\n",
              "    </tr>\n",
              "  </tbody>\n",
              "</table>\n",
              "<p>45086 rows × 5 columns</p>\n",
              "</div>\n",
              "      <button class=\"colab-df-convert\" onclick=\"convertToInteractive('df-d0fbd446-920f-4a08-a585-48d4ce0fff5c')\"\n",
              "              title=\"Convert this dataframe to an interactive table.\"\n",
              "              style=\"display:none;\">\n",
              "        \n",
              "  <svg xmlns=\"http://www.w3.org/2000/svg\" height=\"24px\"viewBox=\"0 0 24 24\"\n",
              "       width=\"24px\">\n",
              "    <path d=\"M0 0h24v24H0V0z\" fill=\"none\"/>\n",
              "    <path d=\"M18.56 5.44l.94 2.06.94-2.06 2.06-.94-2.06-.94-.94-2.06-.94 2.06-2.06.94zm-11 1L8.5 8.5l.94-2.06 2.06-.94-2.06-.94L8.5 2.5l-.94 2.06-2.06.94zm10 10l.94 2.06.94-2.06 2.06-.94-2.06-.94-.94-2.06-.94 2.06-2.06.94z\"/><path d=\"M17.41 7.96l-1.37-1.37c-.4-.4-.92-.59-1.43-.59-.52 0-1.04.2-1.43.59L10.3 9.45l-7.72 7.72c-.78.78-.78 2.05 0 2.83L4 21.41c.39.39.9.59 1.41.59.51 0 1.02-.2 1.41-.59l7.78-7.78 2.81-2.81c.8-.78.8-2.07 0-2.86zM5.41 20L4 18.59l7.72-7.72 1.47 1.35L5.41 20z\"/>\n",
              "  </svg>\n",
              "      </button>\n",
              "      \n",
              "  <style>\n",
              "    .colab-df-container {\n",
              "      display:flex;\n",
              "      flex-wrap:wrap;\n",
              "      gap: 12px;\n",
              "    }\n",
              "\n",
              "    .colab-df-convert {\n",
              "      background-color: #E8F0FE;\n",
              "      border: none;\n",
              "      border-radius: 50%;\n",
              "      cursor: pointer;\n",
              "      display: none;\n",
              "      fill: #1967D2;\n",
              "      height: 32px;\n",
              "      padding: 0 0 0 0;\n",
              "      width: 32px;\n",
              "    }\n",
              "\n",
              "    .colab-df-convert:hover {\n",
              "      background-color: #E2EBFA;\n",
              "      box-shadow: 0px 1px 2px rgba(60, 64, 67, 0.3), 0px 1px 3px 1px rgba(60, 64, 67, 0.15);\n",
              "      fill: #174EA6;\n",
              "    }\n",
              "\n",
              "    [theme=dark] .colab-df-convert {\n",
              "      background-color: #3B4455;\n",
              "      fill: #D2E3FC;\n",
              "    }\n",
              "\n",
              "    [theme=dark] .colab-df-convert:hover {\n",
              "      background-color: #434B5C;\n",
              "      box-shadow: 0px 1px 3px 1px rgba(0, 0, 0, 0.15);\n",
              "      filter: drop-shadow(0px 1px 2px rgba(0, 0, 0, 0.3));\n",
              "      fill: #FFFFFF;\n",
              "    }\n",
              "  </style>\n",
              "\n",
              "      <script>\n",
              "        const buttonEl =\n",
              "          document.querySelector('#df-d0fbd446-920f-4a08-a585-48d4ce0fff5c button.colab-df-convert');\n",
              "        buttonEl.style.display =\n",
              "          google.colab.kernel.accessAllowed ? 'block' : 'none';\n",
              "\n",
              "        async function convertToInteractive(key) {\n",
              "          const element = document.querySelector('#df-d0fbd446-920f-4a08-a585-48d4ce0fff5c');\n",
              "          const dataTable =\n",
              "            await google.colab.kernel.invokeFunction('convertToInteractive',\n",
              "                                                     [key], {});\n",
              "          if (!dataTable) return;\n",
              "\n",
              "          const docLinkHtml = 'Like what you see? Visit the ' +\n",
              "            '<a target=\"_blank\" href=https://colab.research.google.com/notebooks/data_table.ipynb>data table notebook</a>'\n",
              "            + ' to learn more about interactive tables.';\n",
              "          element.innerHTML = '';\n",
              "          dataTable['output_type'] = 'display_data';\n",
              "          await google.colab.output.renderOutput(dataTable, element);\n",
              "          const docLink = document.createElement('div');\n",
              "          docLink.innerHTML = docLinkHtml;\n",
              "          element.appendChild(docLink);\n",
              "        }\n",
              "      </script>\n",
              "    </div>\n",
              "  </div>\n",
              "  "
            ]
          },
          "metadata": {},
          "execution_count": 150
        }
      ]
    },
    {
      "cell_type": "code",
      "source": [
        "train.isna().sum()"
      ],
      "metadata": {
        "colab": {
          "base_uri": "https://localhost:8080/"
        },
        "id": "Hx02c_IDyM9P",
        "outputId": "2d9d6e50-9776-4862-ce55-7bc1984a6b4a"
      },
      "execution_count": 151,
      "outputs": [
        {
          "output_type": "execute_result",
          "data": {
            "text/plain": [
              "Unnamed: 0         0\n",
              "Sentence_id        0\n",
              "New_Sentence     848\n",
              "Type            8955\n",
              "new_sentence       0\n",
              "dtype: int64"
            ]
          },
          "metadata": {},
          "execution_count": 151
        }
      ]
    },
    {
      "cell_type": "code",
      "source": [
        "len(train)"
      ],
      "metadata": {
        "colab": {
          "base_uri": "https://localhost:8080/"
        },
        "id": "pRHwHlkEym4D",
        "outputId": "14373685-af64-4e38-fee3-e8c5e45ac864"
      },
      "execution_count": 152,
      "outputs": [
        {
          "output_type": "execute_result",
          "data": {
            "text/plain": [
              "45086"
            ]
          },
          "metadata": {},
          "execution_count": 152
        }
      ]
    },
    {
      "cell_type": "code",
      "source": [
        "train['Type'].value_counts()"
      ],
      "metadata": {
        "colab": {
          "base_uri": "https://localhost:8080/"
        },
        "id": "4wOuJMXV_-tz",
        "outputId": "5b101f78-fe04-46f6-8135-b1476551ee35"
      },
      "execution_count": 153,
      "outputs": [
        {
          "output_type": "execute_result",
          "data": {
            "text/plain": [
              "Responsibility    9409\n",
              "Requirement       8532\n",
              "SoftSkill         5726\n",
              "Experience        5502\n",
              "Skill             4180\n",
              "Education         2782\n",
              "Name: Type, dtype: int64"
            ]
          },
          "metadata": {},
          "execution_count": 153
        }
      ]
    },
    {
      "cell_type": "code",
      "source": [
        "train.info()"
      ],
      "metadata": {
        "colab": {
          "base_uri": "https://localhost:8080/"
        },
        "id": "tBlAcFipNZeT",
        "outputId": "8f9941fe-a817-4b4f-ab3e-dac06774eff7"
      },
      "execution_count": 171,
      "outputs": [
        {
          "output_type": "stream",
          "name": "stdout",
          "text": [
            "<class 'pandas.core.frame.DataFrame'>\n",
            "Int64Index: 45086 entries, 49580 to 42855\n",
            "Data columns (total 5 columns):\n",
            " #   Column        Non-Null Count  Dtype \n",
            "---  ------        --------------  ----- \n",
            " 0   Unnamed: 0    45086 non-null  int64 \n",
            " 1   Sentence_id   45086 non-null  object\n",
            " 2   New_Sentence  44238 non-null  object\n",
            " 3   Type          36131 non-null  object\n",
            " 4   new_sentence  45086 non-null  object\n",
            "dtypes: int64(1), object(4)\n",
            "memory usage: 2.1+ MB\n"
          ]
        }
      ]
    },
    {
      "cell_type": "code",
      "source": [
        "import seaborn as sns\n",
        "plt.figure(figsize=(14,8))\n",
        "count = train.Type.value_counts()\n",
        "sns.barplot(x = count.index, y = count)\n",
        "plt.xlabel('Type')\n",
        "plt.ylabel('Count')\n",
        "plt.xticks(rotation=90);"
      ],
      "metadata": {
        "colab": {
          "base_uri": "https://localhost:8080/",
          "height": 556
        },
        "id": "A9zZTv0ENiHf",
        "outputId": "21c6112c-45fa-404e-a0b6-092b06448ddf"
      },
      "execution_count": 172,
      "outputs": [
        {
          "output_type": "display_data",
          "data": {
            "text/plain": [
              "<Figure size 1008x576 with 1 Axes>"
            ],
            "image/png": "[encoded data removed]"
          },
          "metadata": {
            "needs_background": "light"
          }
        }
      ]
    },
    {
      "cell_type": "code",
      "source": [
        "# Dictionary of all the words and the occurences of the words.\n",
        "def word_occurences(data_set) -> list:\n",
        "  words_in_row = dict()\n",
        "  for j in range(len(data_set)):\n",
        "    ln = data_set['new_sentence'] # New column without stopwords\n",
        "    ln = ln.to_string()\n",
        "    ln = ln.strip()\n",
        "    ln = ln.lower()\n",
        "    wrds = ln.split(' ')\n",
        "    for word in wrds:\n",
        "        if word in words_in_row:\n",
        "              words_in_row[word] = words_in_row[word] + 1 # We increment an say, imaginary book for handling zero value.\n",
        "        else:\n",
        "              words_in_row[word] = 1  \n",
        "    for i in list(words_in_row.keys()):\n",
        "      if words_in_row[i] < 5:\n",
        "        del words_in_row[i] \n",
        "    return (words_in_row)\n",
        "vocab = word_occurences(train)\n",
        "print(vocab)"
      ],
      "metadata": {
        "id": "lay80JRqQ_2p",
        "colab": {
          "base_uri": "https://localhost:8080/"
        },
        "outputId": "3264d153-5584-4382-ad7d-36be8c52806a"
      },
      "execution_count": 157,
      "outputs": [
        {
          "output_type": "stream",
          "name": "stdout",
          "text": [
            "{'': 411225, 'state': 26, 'fire': 48, 'alarm': 25, 'license': 23, 'holder': 12, 'or': 73, 'willing': 100, 'experience': 8600, 'operational': 90, 'process': 542, 'change': 174, 'would': 70, 'the': 729, 'dba': 12, 'must': 1416, 'cloud': 232, 'knowledge': 2002, 'manage': 568, 'databases': 43, 'you': 1250, 'enjoy': 16, 'involved': 34, 'wide': 29, 'range': 38, 'projects': 342, 'area': 51, 'cse': 5, 'i': 10, 'typically': 6, 'supports': 38, 'senior': 208, '8': 325, 'years': 5401, 'timely': 88, 'pos': 7, 'vendors': 20, 'followup': 14, 'order': 87, 'expertise': 262, 'algorithm': 6, 'development': 908, 'indepth': 57, 'candidate': 378, 'graduated': 12, 'since': 5, 'may': 131, '2021': 5, 'strong': 1903, 'handson': 269, 'database': 110, 'technology': 313, 'implement': 174, 'spot': 5, 'jobs': 15, 'hardware': 120, 'software': 695, '5': 1315, 'working': 1228, 'selling': 89, 'complex': 362, 'responsibilities': 98, 'include': 121, 'managing': 352, 'marketo': 9, 'bachelors': 1277, 'degree': 2383, 'computer': 556, 'science': 529, 'engineering': 1388, 'proven': 467, 'agile': 316, 'lean': 90, 'driving': 104, 'validate': 23, 'document': 64, 'deploy': 42, 'maintain': 352, 'internal': 209, 'operations': 179, 'background': 166, 'scripting': 56, 'programming': 143, 'eg': 83, 'python': 69, 'minimum': 1091, 'high': 378, 'school': 122, 'equivalent': 223, 'academic': 15, 'salesforce': 122, 'drive': 479, 'consumer': 6, 'engagement': 62, 'able': 728, 'bench': 8, 'testing': 308, 'test': 429, 'advanced': 314, 'analytical': 456, '10': 546, 'ma': 19, 'significant': 142, 'deal': 41, 'develop': 598, 'data': 756, 'modeling': 50, 'mining': 18, 'pattern': 6, 'analysis': 311, 'extensive': 174, 'custom': 25, 'ability': 3097, 'understand': 303, 'ensure': 424, 'adherence': 22, 'assist': 132, 'evaluation': 33, 'project': 1086, 'supply': 246, 'chain': 150, 'physical': 25, 'architecture': 140, 'concepts': 98, 'quickly': 94, '5yrs': 7, 'design': 859, 'perform': 252, 'product': 640, 'cost': 114, 'reduction': 13, 'target': 20, '3': 1024, 'experienceadditional': 5, 'lifting': 10, 'handling': 105, 'well': 186, 'handle': 96, 'an': 123, 'understanding': 838, 'global': 312, 'financial': 203, 'html': 22, 'css': 20, 'java': 212, 'manufacturing': 254, 'should': 402, 'flexible': 70, 'adapt': 63, 'changing': 36, 'priorities': 52, 'implementing': 133, 'honeywells': 38, 'integrated': 65, 'sap': 293, 'management': 1387, 'maise': 7, 'de': 368, 'et': 163, 'frans': 10, 'des': 138, 'some': 92, 'developing': 321, 'new': 436, 'products': 118, '6': 299, 'total': 53, 'fast': 60, 'learner': 25, 'effective': 264, 'time': 175, 'execute': 131, 'service': 340, 'maintenance': 124, 'verbal': 353, 'define': 123, 'deliver': 143, 'winning': 7, 'portfolio': 69, 'strategy': 142, 'we': 320, 'value': 153, 'fundamental': 22, 'demonstrated': 591, 'rapidly': 13, 'corrective': 25, 'preventive': 12, 'possess': 128, 'curiosity': 17, 'creativity': 22, 'your': 51, 'primary': 89, 'focus': 122, 'highlight': 6, 'identify': 315, 'technical': 1117, 'risks': 35, 'flow': 20, 'goals': 29, 'level': 348, 'strategically': 28, 'assembly': 63, 'including': 300, '35': 124, 'conduct': 115, 'weekly': 22, 'review': 207, 'a': 393, 'articulate': 30, 'professional': 261, 'container': 7, 'native': 33, 'environment': 180, 'health': 54, 'kafka': 6, 'messaging': 10, 'javascript': 34, 'skills': 1901, 'strategies': 89, 'lead': 704, 'people': 144, 'business': 1442, 'successful': 158, 'application': 238, '2': 814, 'assembler': 5, 'electronic': 86, 'model': 63, 'consistency': 5, 'across': 208, 'provide': 460, 'support': 815, 'creating': 84, 'solutions': 249, 'meeting': 32, 'planning': 287, 'principles': 50, 'ro': 12, 'be': 236, 'variety': 62, 'tasks': 120, 'team': 1225, 'flight': 20, 'communication': 1164, 'delivery': 194, 'within': 306, 'scope': 60, 'operate': 59, 'volume': 13, 'problem': 297, 'good': 1124, 'organizational': 171, 'prioritize': 80, 'leading': 312, 'concept': 21, 'salesforcecom': 14, 'deploying': 38, 'thermal': 10, 'in': 201, 'role': 461, 'responsible': 413, 'implementation': 150, 'training': 176, 'mechanical': 280, 'solid': 129, 'life': 96, 'cycle': 64, 'using': 315, 'sdlc': 34, 'selenium': 29, 'mindset': 61, 'customer': 820, 'satisfaction': 19, 'connectivity': 9, 'proper': 25, 'solution': 165, 'rollout': 7, 'daily': 54, 'lab': 33, 'requirement': 67, 'follows': 16, 'structured': 19, 'addition': 34, 'contact': 58, 'position': 221, 'j2ee': 14, 'framework': 45, 'spring': 42, 'familiarity': 154, 'processes': 205, 'log': 16, 'proficient': 149, 'use': 213, 'programs': 68, 'space': 22, 'grade': 8, 'components': 33, 'selection': 21, 'oracle': 128, 'scm': 9, 'also': 138, 'complicated': 11, 'situations': 30, 'static': 9, 'source': 33, 'code': 91, 'reports': 107, 'matrix': 60, 'organization': 142, 'recommend': 27, 'hands': 251, 'breadth': 10, 'ip': 16, 'matters': 5, 'like': 136, 'dummy': 617, 'block': 620, 'text': 618, 'and': 646, 'representing': 621, '1': 433, 'year': 250, 'manual': 31, 'cnc': 19, 'excellent': 960, 'attention': 82, 'detail': 77, 'essential': 48, 'services': 149, 'cyber': 93, 'security': 408, 'architect': 85, 'engineer': 167, 'presenting': 18, 'plans': 119, 'status': 61, 'customers': 195, 'functional': 254, 'networking': 61, 'desired': 46, 'it': 469, 'capable': 87, 'onshore': 8, 'six': 144, 'sigma': 134, 'tools': 305, 'proactively': 68, 'growing': 13, 'candidates': 66, 'join': 40, 'skill': 108, 'required': 436, 'are': 12, 'field': 244, 'masters': 291, 'discipline': 38, 'previous': 158, 'work': 2027, 'angularjs': 6, '12': 151, 'manager': 187, 'net': 67, '15': 135, 'react': 36, 'similar': 110, 'ui': 40, 'interpersonal': 267, 'influence': 194, 'sr': 38, 'hse': 83, 'providing': 82, 'information': 247, 'written': 618, 'part': 189, 'globally': 10, '24': 24, 'hour': 5, 'industry': 252, 'others': 73, 'accuracy': 27, 'participate': 198, 'internship': 8, 'prior': 130, 'having': 25, 'supporting': 113, 'safety': 167, 'identifying': 49, 'resolving': 18, 'debugging': 39, 'ibm': 25, 'deployment': 75, 'related': 433, 'green': 58, 'belt': 75, 'see': 14, 'picture': 11, 'things': 12, 'evaluate': 63, 'current': 89, 'challenges': 17, 'talent': 58, 'partner': 179, 'act': 89, 'distributed': 23, 'scrum': 84, 'track': 205, 'tight': 28, 'deadlines': 35, 'preferably': 128, 'chemical': 141, 'maintaining': 74, 'reporting': 147, 'as': 161, 'key': 487, 'member': 78, 'completed': 43, 'least': 419, 'college': 63, 'open': 49, 'this': 306, 'require': 45, 'occasional': 11, 'travel': 273, 'highly': 248, 'motivated': 76, 'individuals': 51, 'suggest': 8, 'developer': 95, 'obtain': 104, 'federal': 15, 'very': 65, 'control': 279, 'systems': 471, 'interaction': 44, 'saas': 44, 'industrial': 177, 'gather': 26, 'interpret': 57, 'collaboration': 84, 'increase': 14, 'reliability': 19, 'phases': 27, '20': 36, 'associate': 63, 'multitasking': 36, 'adjust': 9, 'interact': 95, 'onsite': 37, 'client': 236, 'benefits': 19, 'proposed': 8, 'helps': 8, 'specific': 69, 'action': 65, 'local': 62, 'hos': 19, 'activities': 150, 'direct': 185, 'supervision': 65, 'large': 170, 'social': 19, 'relations': 27, 'success': 87, 'bsee': 6, 'driven': 73, 'follow': 103, 'developers': 26, 'specialists': 6, 'schedule': 80, 'integration': 205, 'various': 168, 'build': 276, 'trust': 14, 'due': 147, 'us': 329, 'export': 69, 'laws': 33, 'citizen': 103, 'risk': 122, 'sql': 165, 'competitive': 34, 'intelligence': 28, 'specifically': 13, 'both': 25, 'citizenship': 93, 'government': 48, 'xe0': 76, 'la': 106, 'gestion': 16, 'proactive': 103, 'ces': 6, 'create': 223, 'robust': 27, 'simulation': 31, 'familiar': 99, 'infrastructure': 73, 'agencies': 12, 'at': 255, 'web': 148, 'demonstrate': 129, 'passion': 84, 'bms': 30, 'detailed': 102, 'modelling': 22, 'diploma': 113, 'bachelor': 210, 'continuous': 123, 'improvement': 106, 'electronics': 95, 'server': 73, 'query': 13, 'hr': 124, 'andor': 294, 'capacity': 44, 'models': 37, 'operating': 134, 'crm': 51, 'consultant': 38, 'monitoring': 57, 'digital': 140, 'ecommerce': 15, 'avionics': 34, 'platform': 60, 'teams': 341, 'multiple': 314, 'job': 269, 'id': 180, 'qualified': 41, 'applicants': 28, '7': 316, 'automation': 274, 'sense': 50, 'ownership': 64, 'someone': 26, 'resolution': 29, 'vendor': 34, 'invoice': 5, 'necessary': 41, 'standard': 95, 'special': 23, 'equipment': 105, 'und': 183, 'university': 70, 'pm': 23, 'versed': 28, 'collaborate': 137, 'npi': 30, 'stakeholder': 43, 'willingness': 110, 'limited': 33, 'initiative': 57, 'take': 106, 'basic': 206, 'internet': 6, 'ms': 188, 'leadership': 560, 'gain': 26, 'actively': 74, 'consultation': 10, 'department': 25, 'develops': 84, 'specifications': 32, 'designs': 68, 'experiia': 15, 'em': 25, 'linux': 56, 'proficiency': 153, 'mentor': 115, 'graphics': 11, 'plan': 147, 'external': 102, 'plc': 30, 'ddc': 5, 'relevant': 347, 'certifications': 109, 'cisa': 11, 'issues': 163, 'generate': 35, 'diverse': 69, 'professionals': 17, 'niagara': 9, 'inclusive': 8, 'compensation': 12, 'valid': 33, 'drivers': 43, 'conducting': 27, 'presentations': 25, 'share': 33, 'ideas': 40, 'performs': 64, 'duties': 24, 'needs': 103, 'deep': 128, 'policies': 34, 'co': 6, 'sustainability': 7, 'websphere': 5, 'upgrade': 9, 'migration': 38, 'sso': 5, 'leader': 126, 'opportunity': 61, 'creation': 62, 'owner': 22, 'investigate': 8, 'latest': 27, 'technologies': 122, 'defines': 7, 'implements': 19, 'maintains': 47, 'own': 36, 'onboarding': 13, 'prepare': 113, 'focused': 60, 'to': 81, 'capture': 20, 'receive': 9, 'passionate': 33, 'sales': 640, 'marketing': 265, 'note': 8, 'need': 86, 'around': 37, 'closely': 157, 'engineers': 73, 'variance': 10, 'desire': 52, 'learn': 123, 'soft': 20, 'human': 94, 'player': 117, 'contractual': 68, 'continue': 11, 'program': 271, 'upon': 12, 'goede': 8, 'many': 11, 'five': 75, 'valueexperience': 8, 'post': 55, 'secondary': 22, 'presentation': 180, 'kunden': 9, 'fgkeit': 14, 'site': 125, 'champion': 24, 'individual': 96, 'face': 16, 'corp': 7, 'members': 78, 'enterprise': 117, '4': 375, 'managed': 11, 'making': 46, '36': 8, 'opportunities': 74, 'network': 122, 'certification': 273, 'preference': 15, 'serve': 43, 'thought': 34, 'mentors': 5, 'improvements': 38, 'considerable': 6, 'transformation': 45, 'pipelines': 13, 'areas': 102, 'finance': 232, 'electrical': 306, 'microsoft': 213, 'office': 179, 'operation': 42, 'especially': 15, 'common': 31, 'safe': 66, 'execution': 119, 'problemsolving': 147, 'resources': 78, 'provides': 90, 'highest': 17, 'ausbildung': 17, 'participation': 31, 'french': 31, 'allocation': 9, 'cognizant': 86, 'love': 8, 'big': 57, 'even': 9, '25': 32, 'hvac': 74, 'employees': 34, 'input': 21, 'scenarios': 15, 'defect': 19, 'complete': 69, 'orders': 42, 'sheet': 10, 'communicator': 49, 'oral': 180, 'fa': 7, 'experienced': 138, 'other': 29, 'of': 12, 'fiber': 7, 'used': 30, 'aerospace': 160, 'consistently': 43, 'make': 110, 'decisions': 55, 'higher': 39, 'hsef': 9, 'qa': 31, 'meet': 119, 'crossfunctional': 84, 'established': 24, 'analyze': 166, 'problems': 84, 'organizing': 20, 'demonstrates': 61, 'designing': 129, 'energy': 84, 'estimation': 23, 'public': 26, 'speaking': 31, 'vision': 33, 'principal': 14, 'come': 10, 'overcome': 5, 'communicate': 214, 'babs': 23, 'resource': 62, 'tool': 59, 'closure': 11, 'appropriate': 61, 'market': 98, 'segmentation': 9, 'specialist': 45, 'self': 56, 'starter': 13, 'thrives': 9, 'have': 185, 'inventory': 44, 'virtual': 31, 'attend': 21, 'trade': 49, 'shows': 6, 'troubleshooting': 135, 'solides': 10, 'compnces': 37, 'en': 212, 'mati': 11, 'assignment': 5, 'critical': 121, 'suppliers': 39, 'parts': 23, 'best': 122, 'practices': 98, 'sound': 76, 'cross': 108, 'matrixed': 40, 'research': 90, 'facility': 17, 'several': 26, 'jira': 41, 'assessing': 19, 'stakeholders': 101, 'honest': 5, 'erfolgreich': 5, 'strategic': 219, 'thinking': 105, 'bringing': 11, 'prototypes': 7, 'production': 132, 'cicd': 44, 'coordination': 78, 'motor': 9, 'dexterity': 5, 'governance': 24, 'assistance': 13, 'one': 172, 'facets': 15, 'modules': 24, 'aws': 88, 'e': 48, 'ter': 6, 'com': 13, 'outcomes': 6, 'clearly': 63, 'iis': 7, 'servers': 17, 'vice': 11, 'president': 9, 'general': 86, 'csp': 6, 'sps': 9, 'preferred': 165, 'practice': 28, 'tooling': 9, 'delivering': 78, 'edge': 8, 'become': 32, 'isc': 44, 'alignment': 34, 'hours': 31, 'workshops': 15, 'logistics': 60, 'selfmotivated': 149, 'havebachelors': 193, 'pcb': 7, 'mapping': 14, 'home': 7, 'relationships': 131, 'gcp': 13, 'certified': 121, 'if': 18, 'yet': 8, 'ready': 16, 'capability': 75, 'system': 387, 'profile': 10, 'formation': 22, 'dans': 40, 'un': 49, 'domaine': 9, 'technique': 13, 'hire': 11, 'promote': 34, 'for': 40, 'example': 17, 'managerial': 16, 'no': 10, 'peer': 13, 'group': 54, 'forge': 15, 'independently': 167, 'expert': 158, 'usage': 36, 'scheduling': 32, 'boot': 18, 'azure': 106, 'channel': 51, 'qualifications': 76, 'min': 47, 'fullstack': 10, 'desirable': 29, 'payroll': 26, 'actions': 27, 'media': 18, 'campaigns': 5, 'xe2xa2': 52, 'renewal': 5, 'novel': 7, 'algorithms': 8, 'warehouse': 44, 'ensuring': 80, 'bpm': 12, 'requirements': 294, 'positive': 77, 'present': 79, 'accept': 19, 'record': 164, 'effectively': 225, 'building': 271, 'rapport': 12, 'evolving': 17, 'channels': 12, 'not': 9, 'mandatory': 26, 'materials': 86, 'interface': 88, 'regional': 60, 'expected': 54, 'takes': 21, 'combination': 28, 'supplier': 64, 'claim': 5, 'recovery': 11, 'line': 37, 'judgment': 35, 'decisionmaking': 18, '47': 10, 'small': 41, 'personal': 43, 'qualities': 9, 'report': 92, 'rotating': 10, 'shifts': 17, 'defining': 53, 'erfahrung': 47, 'der': 95, 'graduate': 146, 'potential': 37, 'excel': 122, 'helping': 13, 'sustainable': 13, 'facilitate': 71, 'performance': 240, 'conocimientos': 7, 'commitment': 28, 'levels': 95, 'approach': 64, 'agent': 22, 'gute': 37, 'has': 47, 'months': 69, 'clients': 70, 'can': 36, 'read': 71, 'write': 56, 'comprehend': 7, 'conversation': 8, 'account': 119, 'managers': 63, 'consult': 14, 'changes': 43, 'accountable': 53, 'profitability': 6, 'statistics': 15, 'serving': 6, 'administrative': 42, 'following': 103, 'produce': 31, 'clean': 12, 'efficient': 36, 'based': 126, 'coordinate': 154, 'efforts': 31, 'healthcare': 43, 'assess': 48, 'selfstarter': 91, 'thrive': 24, 'ict': 11, '23': 52, 'dc': 10, 'locations': 11, 'exposure': 140, 'mulesoft': 10, 'displays': 5, 'aircraft': 16, 'backup': 12, '58': 20, 'accounting': 151, 'zu': 14, 'mit': 59, 'repair': 50, 'responsibility': 65, 'pursuing': 33, 'major': 46, 'responsive': 15, 'email': 15, 'goal': 21, 'oriented': 85, 'handled': 5, 'amazon': 6, 'connect': 21, 'pharmaceutical': 15, 'full': 94, 'recruiting': 9, 'networked': 6, 'scoping': 5, 'commercial': 128, 'real': 28, 'embedded': 96, 'get': 32, 'incident': 26, 'response': 20, 'vulnerability': 10, 'durchfung': 13, 'von': 67, 'directly': 102, 'private': 6, 'lan': 11, 'wifi': 6, 'think': 60, 'mindestens': 15, 'jahre': 31, 'berufserfahrung': 21, 'adhering': 11, 'rapid': 24, 'van': 37, 'utilization': 15, 'update': 41, 'accurate': 48, 'attitude': 58, 'curious': 9, 'completion': 31, 'additional': 63, 'grow': 32, 'quality': 333, 'ansi': 7, 'dutch': 20, 'english': 315, 'grasp': 17, 'send': 6, 'pricing': 66, 'items': 9, 'domestic': 18, 'international': 71, 'roles': 37, 'monitor': 90, 'master': 107, 'outside': 32, 'study': 20, 'specialty': 5, 'creatively': 14, 'iq': 5, 'analog': 21, 'techniques': 43, 'am': 6, 'executive': 86, 'fixed': 6, 'events': 15, 'core': 88, 'language': 117, 'standards': 90, 'guidelines': 20, 'provided': 9, 'consulting': 109, 'existing': 82, 'procurement': 80, 'customized': 5, 'assurance': 43, 'curriculum': 7, 'pace': 8, 'material': 88, 'results': 135, 'unique': 12, 'ausgepre': 6, 'kommunikationsfgkeit': 8, 'sowie': 18, 'controls': 102, 'guidance': 56, 'analyst': 87, '3rd': 13, 'navigating': 10, 'erp': 85, 'worked': 56, 'agency': 22, 'corporate': 76, 'setting': 40, 'writtenverbal': 5, 'component': 39, 'honeywell': 243, 'xd8': 55, 'expand': 14, 'bring': 24, 'machine': 50, 'power': 74, 'alternatively': 9, '34': 26, 'top': 25, 'tier': 25, 'recognized': 25, 'trusted': 22, 'bs': 111, 'trains': 6, 'achieve': 58, 'objectives': 31, 'domains': 5, 'haveminimum': 29, 'ceh': 7, 'ba': 30, 'experiencia': 19, 'end': 167, 'user': 124, 'computing': 16, 'demanding': 13, 'assignments': 31, 'concisely': 8, 'setup': 41, 'uop': 39, 'analyzing': 45, 'bilingual': 14, 'spanish': 20, 'architecting': 29, 'yrs': 63, 'git': 21, 'contract': 60, 'tableau': 36, 'administration': 69, 'baccalaur': 6, 'commerce': 16, 'ou': 30, 'pci': 5, 'ethernet': 9, 'os': 15, 'start': 13, 'distribution': 33, 'natural': 12, 'communications': 137, 'transition': 18, 'competent': 9, 'negotiation': 56, 'liaise': 19, 'tables': 8, 'ii': 15, 'meets': 12, 'routinely': 8, 'gbe': 6, 'leaders': 98, 'moving': 6, 'carrying': 11, 'objects': 5, '30': 23, 'lbs': 7, 'valueassociates': 5, 'finonece': 11, 'presence': 20, 'tactfully': 13, 'precision': 6, 'relationship': 94, 'dashboards': 13, 'progress': 41, 'etl': 44, 'printed': 9, 'circuit': 22, 'board': 15, 'interacts': 13, 'on': 16, 'looking': 101, 'daytoday': 19, 'functions': 54, 'proposals': 14, 'case': 37, 'studies': 17, 'intermediate': 26, 'view': 14, 'next': 21, 'conceptual': 15, 'aspect': 7, 'troubleshoot': 49, 'writing': 127, 'acumen': 86, 'quantitative': 17, 'analytics': 108, 'experimental': 6, 'hand': 33, 'inspection': 36, 'broad': 72, 'hw': 12, 'economics': 17, 'offer': 6, 'comprehensive': 40, 'contemporary': 13, 'propose': 18, 'purchase': 15, 'emea': 8, 'pipeline': 27, 'automated': 34, 'scripts': 31, 'iot': 24, 'eager': 8, 'gap': 8, 'sw': 18, 'career': 29, 'break': 7, 'partnership': 22, 'knowledgeable': 24, 'hybrid': 7, 'environments': 22, 'with': 41, 'digitization': 5, 'mis': 6, 'canada': 7, 'direction': 49, 'move': 13, 'through': 8, 'aptitude': 33, 'requires': 123, 'turn': 5, 'html5': 14, 'unit': 70, 'available': 18, 'sprint': 10, 'mind': 10, 'early': 14, 'pega': 27, 'interfacing': 29, 'do178': 5, 'do160': 5, 'analytic': 13, 'staff': 29, 'verifying': 5, 'devops': 46, 'arm': 10, 'preparation': 32, 'authority': 20, 'accounts': 46, 'facilities': 19, 'audits': 32, 'laboratory': 25, 'clear': 63, 'mrperp': 9, 'overall': 160, 'ds': 6, 'vertical': 31, 's4': 16, 'liaison': 26, 'director': 60, 'identifies': 18, 'works': 86, 'smooth': 5, 'units': 12, 'listening': 16, 'above': 8, 'all': 14, 'nice': 38, 'structure': 19, 'aligned': 14, 'sets': 21, 'behavioral': 7, 'educated': 9, 'coach': 66, 'guide': 41, 'estimate': 17, 'comfort': 7, 'excellentes': 13, 'coordinating': 42, 'regulatory': 42, 'subject': 48, 'encourage': 6, 'innovation': 36, 'spirit': 11, 'leads': 69, 'enhance': 24, 'capabilities': 43, 'gr': 9, 'chemistry': 32, 'repository': 6, 'swedish': 5, 'solve': 51, 'immediate': 13, 'tdd': 11, 'bdd': 8, 'conditions': 9, 'growth': 88, 'stream': 10, 'conjunction': 9, 'smes': 10, 'configuring': 30, 'partners': 62, 'adobe': 20, 'engage': 63, 'coordinates': 23, 'availability': 17, 'led': 7, 'gathering': 31, 'routing': 21, 'utility': 5, 'applying': 24, 'patterns': 30, 'sites': 21, 'progressive': 56, 'anticipated': 6, '50': 45, 'dcs': 20, 'ccna': 8, 'ccnp': 6, '45': 13, 'class': 16, 'graphic': 6, 'greater': 6, 'superior': 29, 'assemble': 11, 'import': 9, 'valuesome': 10, 'black': 33, 'asset': 32, 'reusable': 7, 'assets': 16, 'reading': 33, 'plus': 116, 'para': 13, 'supervisory': 21, 'formal': 28, 'practical': 53, 'function': 47, '68': 27, 'languages': 54, 'documents': 46, 'maturity': 12, 'intellectual': 8, 'property': 12, 'valuebachelors': 23, 'expectations': 18, 'set': 87, 'listen': 10, 'oder': 27, 'sehr': 11, 'defined': 31, 'technically': 16, 'minded': 6, 'integrative': 17, 'types': 14, 'regarding': 21, 'beyond': 13, 'being': 25, 'toward': 18, 'api': 69, 'respect': 20, 'risation': 5, 'any': 36, 'is': 11, 'help': 125, 'supervisor': 26, 'proposal': 40, 'request': 22, 'back': 14, 'p': 5, 'two': 91, 'raise': 13, 'invoices': 10, 'visualization': 18, 'uses': 16, 'iso': 20, '9': 48, 'have1': 5, 'flows': 6, 'pragmatic': 9, 'competency': 11, 'technicians': 9, 'company': 38, 'solving': 214, 'influencing': 62, '14': 15, 'warehousing': 17, 'aware': 13, 'impact': 30, 'knowledgeexperience': 14, 'haveus': 8, 'advising': 5, 'personnel': 23, 'constant': 7, 'heshe': 14, 'know': 24, 'mdm': 29, 'hbt': 26, 'capital': 28, 'committed': 13, 'servicenow': 27, 'integrate': 28, 'mathematical': 6, 'capacitxe9': 37, 'travailler': 14, 'sur': 19, 'progressively': 9, 'claims': 21, 'pmp': 56, 'annual': 50, 'respective': 9, 'image': 10, 'processing': 41, 'apprenticeship': 5, 'compliance': 116, 'strict': 14, 'queries': 31, 'secure': 28, 'visa': 6, 'utilize': 25, 'outstanding': 43, 'ecosystem': 10, 'comfortable': 82, 'individually': 6, 'metrics': 60, 'backlog': 16, 'audit': 45, 'microservices': 26, 'engaging': 20, 'feature': 11, 'definition': 21, 'elements': 13, 'needed': 38, 'shop': 17, 'main': 18, 'siop': 18, 'cycles': 7, 'train': 49, 'desk': 23, 'billing': 17, 'center': 34, 'running': 23, 'installed': 10, 'accordance': 9, 'wiring': 8, 'rules': 10, 'applies': 25, 'future': 27, 'offering': 34, 'welding': 16, 'aero': 20, 'technicalprofessional': 8, 'tax': 35, 'synthesis': 10, 'insights': 16, 'demonstrable': 36, 'abilities': 33, 'c': 135, 'keen': 14, 'likely': 5, 'measurable': 5, 'stack': 32, 'measure': 22, 'india': 11, '11': 15, 'validation': 40, 'v': 6, 'math': 27, 'quantum': 6, 'dependable': 5, 'trustworthy': 8, 'accredited': 68, 'assisting': 17, 'proof': 11, 'paperwork': 7, 'guidewire': 15, 'insurance': 55, 'suite': 40, 'reliable': 16, 'little': 50, 'issue': 31, 'colleagues': 10, 'abet': 30, 'reviewing': 29, 'cooperating': 5, 'mobile': 34, 'defense': 9, 'throughout': 13, 'resilience': 6, 'pc': 37, 'negotiate': 32, 'urgency': 22, 'ux': 30, 'applied': 33, 'shell': 21, 'simple': 15, 'paced': 27, 'educational': 7, 'docker': 20, 'coding': 64, 'spark': 17, 'integrity': 34, 'fluent': 113, 'remote': 37, 'automating': 9, 'windows': 75, 'particular': 8, 'facing': 61, 'aspects': 53, '13': 39, 'campaign': 15, 'b': 43, 'possesses': 31, 'energetic': 10, 'onshoreoffshore': 5, 'utilizing': 36, 'excellence': 45, 'matter': 40, 'campus': 10, 'recruitment': 15, 'obtained': 5, 'virtualization': 14, 'xfc': 40, 'spoken': 54, 'findings': 10, 'convert': 8, 'networks': 24, 'establish': 107, 'm': 5, 'apply': 75, 'policy': 15, 'integral': 10, 'paas': 8, 'hohe': 11, 'expence': 38, 'balance': 35, 'entrepreneurial': 22, 'extremely': 8, 'craft': 9, 'emails': 8, 'long': 38, 'publications': 5, 'will': 42, 'englischkenntnisse': 9, 'wort': 6, 'organized': 39, 'manner': 11, 'het': 13, 'bezit': 6, 'mentality': 7, 'assigned': 93, 'markets': 16, 'ethic': 29, 'supervise': 11, 'sophisticated': 5, 'plm': 19, 'promotes': 9, '3experience': 6, '4required': 8, 'identified': 10, 'vous': 61, 'justifiez': 5, 'dune': 19, 'concluante': 5, 'initiate': 12, 'valuemasters': 14, 'phd': 54, 'motivating': 10, 'endtoend': 49, 'pilot': 10, 'resultsoriented': 14, 'assertive': 13, 'factory': 10, 'towards': 32, 'improving': 21, 'way': 13, 'decision': 57, 'word': 53, 'valueability': 8, 'third': 15, 'enthusiasm': 8, 'sure': 8, 'ceremonies': 6, 'correctly': 5, 'customerfocused': 5, 'mentoring': 30, 'junior': 22, 'environmental': 28, 'soap': 15, 'rest': 40, 'qualification': 90, 'workload': 16, 'oversee': 46, 'ingeur': 8, 'informatique': 17, 'avez': 9, 'acquis': 7, 'monthly': 50, 'precise': 7, 'installation': 51, 'adaptable': 18, 'embrace': 5, 'four': 22, 'cmdb': 7, 'uat': 12, 'either': 39, 'thorough': 38, 'avec': 25, 'person': 57, 'aiml': 11, 'skilled': 33, 'day': 51, 'servicing': 14, 'calibrations': 5, 'created': 12, 'content': 45, 'dynamic': 58, 'releases': 7, 'more': 23, 'innovative': 65, 'cisco': 36, '48': 6, 'hp': 11, 'acceptance': 18, 'commodity': 19, 'assure': 9, 'sie': 42, 'den': 13, 'die': 32, 'entwicklung': 6, 'file': 7, 'directors': 5, 'inputs': 27, 'german': 41, 'workflow': 18, 'procedure': 6, 'informatica': 41, 'manages': 38, 'details': 16, 'ensures': 67, 'prepares': 20, 'youll': 12, 'date': 24, 'uops': 6, 'inform': 8, 'error': 7, 'constructive': 5, 'feedback': 33, 'purchasing': 28, 'shall': 13, 'selflearner': 6, 'powerpoint': 20, 'oem': 10, 'designer': 7, 'party': 20, 'approve': 9, 'phase': 9, 'mos': 31, 'portal': 6, 'verify': 18, 'au': 14, 'competing': 10, 'demands': 14, 'great': 36, 'battery': 9, 'gas': 44, 'every': 11, 'github': 5, 'jenkins': 18, 'command': 22, 'arabic': 6, 'mastery': 10, 'forecast': 18, '100': 12, 'lifecycle': 43, 'bonne': 25, 'organisation': 9, 'lift': 34, 'engineered': 8, 'increasing': 5, 'sensors': 10, 'contribute': 100, 'prioritization': 25, 'charge': 5, 'they': 31, 'roadmap': 26, 'stress': 13, 'met': 10, 'architectural': 21, 'drawings': 22, 'enthusiastic': 9, 'teamoriented': 19, 'cultivate': 8, 'auto': 6, 'cad': 40, 'creative': 87, 'engaged': 8, 'enter': 7, 'associated': 26, 'estimates': 22, 'wireless': 17, 'enhancements': 10, 'pivotal': 5, 'root': 44, 'cause': 37, 'aop': 22, 'ideal': 67, 'greenbelt': 14, 'done': 9, 'technician': 37, 'task': 34, 'demand': 61, 'generation': 28, 'optimize': 24, 'spend': 9, 'tester': 5, 'apps': 6, 'agreements': 9, 'instructions': 20, 'given': 19, 'have5': 18, 'polymer': 9, 'architectures': 11, 'participating': 14, 'tuning': 18, 'teamwork': 38, 'heeft': 10, 'access': 41, 'intrusion': 5, 'deadline': 9, 'plant': 43, 'arrange': 6, 'buyer': 13, 'commissioning': 17, 'performed': 6, 'involves': 8, 'propulsion': 5, 'negotiating': 19, 'description': 15, 'history': 19, 'departmental': 9, 'domain': 131, 'navigate': 14, 'out': 10, 'box': 19, 'alm': 8, 'longterm': 20, 'challenging': 26, 'fastpaced': 70, 'trends': 45, 'ios': 17, 'android': 23, 'informed': 6, 'ervaring': 8, 'een': 18, 'object': 18, 'xml': 21, 'dual': 6, 'moderately': 8, 'apex': 7, 'ul': 7, 'meetings': 65, 'moderate': 11, 'dod': 12, 'mba': 141, 'finding': 18, 'address': 32, 'controlling': 9, 'associates': 55, 'mathematics': 11, 'experion': 10, 'pks': 5, 'collaborating': 24, 'maven': 6, 'finonecial': 10, 'credibility': 17, 'supeure': 7, 'selfmotivation': 16, 'adoption': 6, 'executing': 55, 'devices': 16, 'layout': 14, 'search': 12, 'organizations': 12, 'flexibility': 36, 'dedicated': 8, 'preparing': 30, 'files': 10, 'rca': 7, 'fmea': 5, 'firm': 12, 'decisive': 13, 'contacts': 7, 'administer': 13, 'different': 81, 'collaboratively': 35, 'overtime': 6, 'applicable': 30, 'play': 35, 'primarily': 11, 'multi': 14, 'multicultural': 15, 'postsecondary': 11, 'education': 90, 'consolidation': 6, 'te': 10, 'generally': 5, 'accepted': 5, 'standardized': 10, 'valuestrong': 10, 'nonfunctional': 12, 'bei': 17, 'arbeiten': 7, 'transportation': 11, 'optimization': 28, 'understands': 32, 'methodology': 39, 'configuration': 85, 'innovations': 6, 'payment': 21, 'learning': 78, 'motivate': 34, 'experts': 9, 'multitask': 54, 'r': 27, 'lines': 7, 'city': 12, 'mo': 5, 'summary': 20, 'workforce': 8, 'contracting': 13, 'important': 22, 'logging': 7, 'designers': 13, 'stock': 11, 'logistic': 6, 'interfaces': 23, 'rf': 26, 'mdg': 7, '38': 6, 'circuits': 11, 'medium': 24, 'align': 28, 'acting': 14, 'rfq': 8, 'rfi': 8, 'discussions': 15, 'bitbucket': 7, 'une': 22, 'asme': 5, 'cooperate': 6, 'hiring': 10, 'region': 26, 'aligns': 5, 'mssql': 9, 'currently': 33, 'authorized': 8, 'me': 12, 'assesses': 7, 'effectiveness': 17, 'achieves': 6, 'owns': 8, 'launch': 15, 'china': 5, 'entry': 7, 'achievement': 17, '18': 21, 'head': 5, 'cases': 35, 'regulations': 33, 'opc': 7, 'protocol': 11, 'teamplayer': 5, 'bon': 8, 'suivi': 7, 'projets': 5, 'le': 55, 'electromechanical': 12, 'assists': 32, 'gis': 11, 'sourcing': 93, 'resolve': 95, 'nosql': 10, 'combined': 14, 'interested': 7, 'statistical': 22, 'budgeting': 5, 'confidently': 11, 'optimal': 6, 'sind': 9, 'turbine': 14, 'engine': 15, 'aspnet': 11, 'partnerships': 12, 'pmt': 22, 'communicates': 21, 'epc': 5, 'storage': 24, 'disaster': 7, 'substantial': 6, 'frameworks': 26, 'angular': 29, 'technische': 14, 'ans': 25, 'dexpence': 24, 'affinity': 5, 'motivation': 11, 'aftermarket': 8, 'assessment': 23, 'quick': 37, 'show': 6, 'analysts': 18, 'fully': 13, 'modern': 32, 'climb': 10, 'dynamics': 24, '365': 9, 'have10': 6, 'meaningful': 5, 'depth': 36, 'node': 6, 'logical': 28, 'ask': 5, 'questions': 14, 'select': 7, 'penetration': 18, 'identity': 9, 'along': 23, 'medical': 22, 'pursuit': 12, 'determine': 26, 'methods': 48, 'procedures': 51, 'genesys': 14, 's3': 5, 'ec2': 5, 'estimating': 18, 'integrations': 8, 'partnering': 19, 'doors': 10, 'thinker': 38, 'middleware': 5, 'country': 11, 'coaching': 46, 'scaled': 11, 'familiarization': 5, 'requiring': 5, 'dun': 7, 'que': 17, 'pharma': 11, 'collaborative': 59, 'otc': 6, 'exhibit': 16, 'sharing': 12, 'base': 21, 'mainframe': 14, 'consultative': 20, 'auditing': 8, 'leverage': 45, 'gaap': 12, 'tracking': 41, 'updating': 17, 'documentation': 93, 'valueextensive': 8, 'rpa': 20, 'applications': 90, 'soldering': 14, 'refining': 29, 'oil': 15, 'budgets': 10, 'reduce': 8, 'est': 10, 'ce': 8, 'student': 9, 'zur': 9, 'btech': 23, 'together': 16, 'seven': 15, 'ongoing': 31, 'discover': 6, 'hybris': 11, 'initiatives': 44, '812': 12, 'giac': 5, 'inspire': 15, 'advance': 20, 'find': 15, 'les': 77, 'notes': 7, 'w': 5, 'haveassociates': 7, 'configure': 19, 'workflows': 9, 'includes': 49, 'low': 31, 'itil': 26, 'studying': 8, 'interest': 41, 'continuously': 26, 'budget': 25, '2year': 10, 'departments': 10, 'firmware': 18, 'form': 14, 'interactions': 13, 'machining': 14, 'lieu': 12, 'io': 9, '610': 9, 'deals': 7, 'translate': 57, 'establishing': 22, 'author': 9, 'mes': 15, 'authoring': 7, 'actual': 6, 'schematics': 13, 'logic': 21, 'consistent': 22, 'roll': 6, 'largescale': 14, 'undergraduate': 17, 'containers': 7, 'pre': 5, 'cloudbased': 11, 'resourceful': 9, 'ambiguous': 13, 'privacy': 14, 'foundation': 14, 'expense': 5, 'added': 40, 'aligning': 6, 'insight': 9, 'culture': 36, 'fluency': 42, 'italian': 6, 'ideally': 40, 'vs': 7, 'list': 12, 'short': 21, 'force': 10, 'ethical': 9, 'ambitious': 18, 'lss': 16, 'investigation': 8, 'milestones': 6, 'escalation': 20, 'inertial': 6, 'navigation': 18, '710': 24, 'prototyping': 11, 'held': 5, 'sell': 7, 'customeroriented': 5, 'ci': 10, 'builds': 10, 'modular': 5, 'scale': 19, 'administering': 9, 'bi': 32, 'improve': 101, 'epks': 8, 'valueadvanced': 11, '510': 21, 'integrates': 28, 'jquery': 5, 'perspective': 7, 'performing': 64, 'kenntnisse': 17, 'mehrjige': 6, 'call': 29, 'weekends': 8, 'kinaxis': 12, 'emergency': 15, 'depending': 7, 'collect': 18, 'feasibility': 5, 'accountability': 25, 'vocational': 5, 'retail': 16, 'located': 9, 'anywhere': 6, 'united': 12, 'by': 10, 'joint': 6, 'customercentric': 9, 'kommunikations': 5, 'teamfgkeit': 6, 'pain': 8, 'central': 10, 'represents': 5, 'seeking': 15, 'mvc': 11, 'generalist': 8, 'multilingual': 5, 'cultural': 12, 'profiling': 8, 'whole': 5, 'certificate': 26, 'three': 31, 'interpreting': 15, 'fostering': 5, 'sme': 19, 'analyse': 22, 'construct': 6, 'span': 5, 'methodical': 8, 'listener': 6, 'domestically': 8, 'internationally': 10, 'documenting': 5, 'peers': 24, 'awareness': 25, 'advocate': 9, 'refine': 7, 'psm': 8, 'inbound': 11, 'outbound': 10, 'calculations': 7, 'run': 27, 'trouble': 9, 'artifacts': 10, 'zum': 10, 'tests': 28, 'active': 79, 'behavior': 10, 'multinational': 20, 'dealing': 21, 'habilidades': 7, 'im': 52, 'bereich': 15, 'orientated': 11, 'costs': 11, 'productivity': 32, 'beneficial': 5, 'have6': 8, 'first': 24, 'advisory': 16, 'engagements': 24, 'single': 12, 'point': 60, 'emphasis': 14, 'fmt': 11, 'educate': 9, 'users': 30, 'wms': 9, 'waterfall': 11, 'fxfcr': 23, 'coe': 11, 'hts': 5, '2022': 8, 'reviews': 48, 'exceptional': 72, 'facilitates': 9, 'collaborates': 6, 'nx': 5, 'drafting': 11, 'event': 13, 'hps': 20, 'entire': 19, 'solver': 17, 'uvre': 6, 'du': 55, 'install': 11, 'erfahrungen': 5, 'umgang': 11, 'trainings': 13, 'inspect': 13, 'without': 32, 'dem': 9, 'highlevel': 11, 'sharepoint': 6, 'win': 13, 'fun': 5, 'organize': 33, 'diagnostic': 8, 'challenge': 11, 'advise': 16, 'owners': 20, 'difficult': 9, 'supervising': 13, 'kubernetes': 6, 'soc': 5, 'concise': 19, 'updates': 27, 'ambiguity': 14, 'dingeur': 5, 'failure': 14, 'dashboard': 9, 'these': 7, 'functionally': 9, 'adopt': 5, 'sens': 8, 'efficiency': 13, 'basis': 26, 'ie': 29, 'message': 7, 'regions': 6, 'micro': 20, 'shift': 27, 'bachelorsmasters': 13, 'employment': 10, 'aviation': 15, 'schematic': 8, 'visibility': 8, 'commitments': 6, 'competencies': 13, 'backend': 21, 'junit': 6, 'pass': 17, 'bebtech': 12, 'instrumentation': 22, 'structural': 10, 'sops': 6, 'accurately': 12, 'features': 17, 'havebachelor': 27, 'methodologies': 43, 'according': 13, 'hana': 15, 'aem': 12, 'have2': 9, 'poste': 10, 'se': 10, 'involve': 20, 'articles': 9, 'patches': 5, 'efficiently': 13, 'companies': 8, 'designed': 8, 'conocimiento': 12, 'intermedio': 5, 'diplomaged': 9, 'voice': 17, 'acts': 16, 'businesses': 17, 'hold': 28, 'targets': 27, 'recommendations': 24, 'satellite': 5, 'valueknowledge': 8, 'abgeschlossene': 11, 'thinks': 5, 'operates': 6, 'repairs': 14, 'ways': 15, 'startup': 8, 'focal': 24, 'hs': 8, 'programproject': 9, 'incorporate': 17, 'connaissances': 12, 'selected': 23, 'roadmaps': 9, 'behalf': 5, 'elearning': 6, 'video': 12, 'editing': 15, 'generating': 12, 'migrating': 5, 'kennis': 11, 'cybersecurity': 25, 'care': 13, 'macros': 5, 'paper': 5, 'maximum': 8, 'fms': 5, 'prepared': 5, 'effort': 14, 'close': 40, 'banking': 37, 'kcnsc': 11, 'oversight': 26, 'deliverables': 22, 'map': 12, 'degrees': 12, 'gxp': 7, 'communities': 6, 'optimistic': 5, 'tenacious': 6, 'c1': 17, 'orally': 6, 'kaizen': 6, 'go': 21, 'achieving': 17, 'quarterly': 14, 'diagrams': 5, 'result': 16, 'eye': 21, 'term': 33, 'right': 35, 'load': 14, 'liaising': 5, 'groups': 22, 'regular': 51, 'foster': 17, 'multidisciplinary': 18, 'relational': 32, 'convey': 25, 'messages': 14, 'proposition': 15, 'enduser': 6, 'calls': 32, 'attain': 13, 'effect': 7, 'sixsigma': 5, 'json': 13, 'b2b': 43, 'exp': 32, 'el': 10, 'expect': 6, 'drawing': 9, 'periodic': 12, 'delegate': 5, 'upgrades': 6, 'online': 15, 'speak': 14, 'look': 10, 'relation': 8, 'comply': 16, 'contracts': 27, 'erstellung': 8, 'prntation': 5, 'ebs': 12, 'ar': 7, 'mobilize': 6, 'abap': 11, 'leveraging': 14, 'independent': 34, 'initial': 7, '37': 5, 'trained': 11, 'category': 16, 'csm': 8, 'shipping': 12, 'receiving': 11, 'protocols': 29, 'poc': 9, 'clevel': 8, 'executives': 9, 'faa': 22, 'clarification': 5, 'negotiates': 8, 'clinical': 6, 'represent': 24, 'enabling': 7, 'responsiveness': 5, 'ten': 11, 'journey': 5, 'cooperation': 9, 'confidence': 14, 'tough': 7, 'translating': 13, 'have3': 10, 'enable': 36, 'law': 37, 'preferable': 21, 'assessments': 13, 'vba': 8, 'delivers': 12, '1215': 5, 'outlook': 15, 'keep': 30, 'compelling': 7, 'pour': 26, 'probls': 5, 'persuasive': 8, 'nach': 5, 'innovate': 9, 'return': 8, 'points': 9, 'white': 7, 'confident': 29, 'traditional': 7, 'succeed': 7, 'terms': 25, 'collective': 5, 'propositions': 7, 'gaps': 19, 'developed': 20, 'extended': 10, 'hcm': 7, 'consultants': 12, 'projet': 5, 'atleast': 14, 'exhibits': 7, 'multiyear': 6, 'plsql': 10, 'respond': 24, 'requests': 27, 'numerical': 5, 'table': 5, 'specification': 15, 'involvement': 17, 'approved': 6, 'scalable': 13, 'cc': 14, 'considered': 17, 'cope': 9, 'mongodb': 6, 'machines': 5, 'cpa': 25, 'statutory': 7, 'emc': 8, 'esd': 7, 'crisis': 7, 'empathy': 8, 'revenue': 33, 'cctv': 10, 'productive': 11, 'explain': 12, 'fpa': 7, 'pl': 31, 'legal': 26, 'tcpip': 6, 'ot': 8, 'host': 5, 'resolutions': 5, 'frontend': 22, 'industries': 5, 'solidworks': 14, 'front': 22, 'diligence': 6, 'l3': 8, 'analyzes': 13, 'past': 13, 'pay': 6, 'hci': 5, 'vv': 7, 'labview': 5, 'signal': 10, 'executes': 15, 'kpi': 6, 'offshore': 25, 'contributor': 12, 'internally': 11, 'valueexcellent': 6, 'intern': 7, 'brand': 19, 'optimizing': 8, 'approaches': 9, 'completes': 12, 'inhouse': 8, 'physics': 27, 'tps': 5, 'mature': 12, 'savings': 10, 'incumbent': 7, 'orientation': 14, 'scientific': 8, 'c2c': 5, 'larger': 5, 'participer': 6, 'once': 5, 'vb': 8, 'externally': 5, 'switches': 10, 'bestinclass': 7, 'mandarin': 7, 'directs': 12, 'receivables': 6, 'als': 14, 'location': 51, 'tx': 5, 'welldeveloped': 8, 'about': 13, 'employee': 29, 'majors': 7, 'tertiary': 17, 'enablement': 6, 'communicating': 17, 'better': 11, 'attributes': 5, 'per': 53, 'participates': 35, 'clientfacing': 12, 'put': 7, 'place': 13, 'unix': 15, 'script': 12, 'activity': 17, 'fault': 10, 'accreditation': 8, 'cissp': 25, 'verification': 29, 'dns': 5, 'construction': 26, 'escalations': 13, 'frequent': 7, 'pki': 6, 'crossfunctionally': 13, 'standardizing': 5, 'credible': 5, 'he': 16, 'upgrading': 7, 'mainly': 5, 'clearance': 25, 'release': 36, 'strongly': 19, 'thirdparty': 8, 'makes': 9, 'mobility': 5, 'versions': 5, 'behaviors': 8, 'buildings': 10, 'detailoriented': 11, 'stages': 6, 'healthy': 8, 'credit': 13, 'escalate': 22, 'fulfillment': 5, 'heavy': 6, 'bachelorabschluss': 5, 'keeping': 13, 'ordering': 8, 'batch': 21, 'doe': 23, 'apac': 7, 'boeing': 5, 'side': 12, 'ideation': 7, 'collection': 16, 'stem': 12, 'securing': 10, 'landscape': 8, 'shipment': 5, 'optical': 22, 'inter': 8, 'analyses': 16, 'personality': 14, 'inquisitive': 5, 'european': 8, 'kpis': 12, 'rd': 26, 'businessrelated': 7, 'structures': 14, 'bac': 7, 'vat': 5, 'ecc': 6, 's4hana': 6, 'conversion': 12, 'incidents': 14, 'our': 8, 'storytelling': 6, 'arts': 6, 'hon': 14, 'idea': 17, 'bsba': 8, 'bias': 24, 'implementations': 13, 'adhoc': 8, 'requested': 6, 'requisitions': 10, 'nachgewiesene': 6, 'votre': 9, 'tech': 53, 'prefer': 13, 'sfdc': 26, 'sciences': 21, 'assimilate': 5, 'check': 13, 'minimal': 45, 'assign': 7, 'containerization': 5, 'platforms': 33, 'drives': 23, 'improves': 6, 'alteryx': 5, 'foreign': 12, 'reputed': 8, 'computers': 9, 'intelligrated': 8, 'facilitation': 13, 'anglais': 10, 'confluence': 7, 'sbg': 9, 'enabled': 5, 'assume': 6, 'varied': 6, 'regularly': 14, 'multidiscipline': 5, 'metric': 8, 'siem': 10, 'enrolled': 6, 'among': 15, 'patching': 8, 'phone': 9, 'asp': 6, 'japanese': 10, 'forms': 11, 'strap': 9, 'autonomously': 9, 'north': 9, 'america': 7, 'google': 11, '60': 6, 'centre': 8, 'jd': 10, 'balancing': 13, '247': 10, 'buyers': 5, 'chemicals': 9, 'routine': 13, '57': 30, 'device': 20, 'apqp': 5, 'latitude': 9, 'cando': 19, 'workplace': 6, 'legacy': 12, 'ee': 9, 'experiences': 28, 'serves': 12, 'compliant': 10, 'teamcenter': 26, 'responsibilitieslead': 5, 'ahead': 9, 'anticipate': 24, 'transaction': 8, 'valuedemonstrated': 11, 'discuss': 9, 'shared': 6, 'rigorous': 5, 'records': 20, 'havemust': 6, 'instruction': 5, 'measurement': 17, 'type': 9, 'determination': 9, 'air': 9, 'forecasts': 15, 'il': 5, 'pressure': 31, 'conflict': 20, '1012': 12, 'inspections': 8, 'energize': 7, 'highimpact': 6, 'reasoning': 7, 'sensitive': 5, 'selfdirected': 11, 'dept': 10, 'q': 23, 'draw': 8, 'transformational': 5, 'restful': 20, 'nonstandard': 6, 'intelligent': 13, 'transactional': 8, 'bid': 17, 'cognizants': 7, 'staffing': 18, 'labor': 13, 'developments': 8, 'earned': 24, 'oops': 7, 'threat': 14, 'pi': 9, 'vp': 8, '46': 16, 'groom': 5, 'options': 10, 'academy': 6, 'org': 6, 'nontechnical': 7, 'publish': 6, 'ai': 14, 'store': 5, 'realtime': 11, 'demonstrating': 22, 'delivered': 7, 'juggle': 7, 'systematic': 11, 'studio': 10, 'havehigh': 15, 'offers': 6, 'petrochemical': 13, 'carry': 21, 'followed': 6, 'particularly': 7, 'anaplan': 5, 'could': 7, 'ged': 20, 'apics': 6, 'b2': 10, 'conhecimento': 6, 'interacting': 18, 'literacy': 11, 'extract': 5, 'gdt': 13, 'procure': 6, 'javaj2ee': 8, 'title': 8, 'premier': 5, 'terminal': 7, 'constantly': 8, 'competitor': 6, 'fields': 17, 'objectoriented': 8, 'employ': 5, 'red': 6, 'hat': 8, 'eu': 10, 'administrator': 18, 'scienceengineering': 5, 'datastage': 6, 'acquisition': 21, 'cism': 7, 'vmware': 17, '02': 5, 'another': 7, 'learns': 5, 'less': 16, 'na': 5, 'supervisors': 5, 'heat': 7, 'transfer': 10, 'licensed': 7, 'ap': 16, 'mechanic': 6, 'scanning': 5, 'handles': 5, 'transactions': 10, 'mitigation': 10, 'preventative': 9, 'theory': 8, 'varying': 21, 'agreed': 9, 'demonstration': 5, 'forecasting': 21, 'up': 22, 'turkish': 8, 'ethics': 6, 'hyperion': 11, 'trabajo': 5, 'equipo': 5, 'qualitative': 7, 'permanent': 26, 'cs': 10, 'financials': 7, 'successfully': 44, 'final': 8, 'quantify': 6, 'reach': 10, '90': 5, '5s': 6, 'debug': 11, 'fix': 9, 'national': 13, 'projectprogram': 14, 'webinars': 5, 'pmo': 13, 'pursue': 10, 'adhere': 19, 'gateway': 6, 'suitable': 9, '56': 10, 'ccb': 7, 'app': 16, 'size': 12, 'cx': 15, 'driver': 17, 'card': 12, 'integrating': 17, 'valuesignificant': 9, 'criteria': 5, 'eight': 5, 'knows': 5, 'fluid': 5, 'cover': 8, 'contributing': 6, 'accomplish': 9, 'pivot': 7, 'seek': 16, 'hardworking': 10, '1015': 7, 'representative': 8, 'smart': 19, 'undertake': 7, '3d': 25, 'creo': 8, 'durch': 6, 'refinery': 9, 'pe': 9, '16': 9, 'contributes': 10, 'recruit': 7, 'benefit': 7, 'via': 19, 'multisite': 7, 'cucumber': 5, 'establishes': 12, 'talented': 7, 'mechanisms': 5, 'graduation': 12, 'vacuum': 6, 'geographically': 7, 'das': 9, 'admin': 27, 'bfs': 7, 'covering': 5, 'beb': 10, 'havehs': 5, 'defects': 8, 'price': 18, 'ticket': 7, 'engages': 5, 'explore': 8, 'ppm': 5, 'version': 17, 'bug': 5, 'priority': 7, 'ipe': 5, 'rule': 7, 'skillset': 9, 'packaging': 8, 'push': 8, 'lightning': 10, 'sessions': 14, 'openminded': 10, 'ite': 7, 'rtos': 9, 'etc': 12, 'prospecting': 5, 'involving': 13, 'cobol': 7, 'jcl': 7, 'db2': 13, 'versioning': 8, 'regulated': 11, 'contributions': 6, 'sa': 5, 'sustain': 12, 'contractor': 8, 'empower': 6, 'schedules': 15, 'december': 14, 'possible': 9, 'configurations': 6, 'correct': 14, 'launching': 5, 'apm': 5, 'installing': 22, 'broader': 9, 'asia': 5, 'eligible': 7, 'modbus': 7, 'identification': 30, 'verbally': 14, 'mca': 8, 'value2': 5, 'advantage': 11, 'edit': 5, 'itar': 12, 'directory': 10, 'connaissance': 25, 'systs': 5, 'valuea': 5, 'stand': 11, 'sit': 10, 'postgraduate': 11, 'civil': 7, 'odi': 5, 'obiee': 6, 'purpose': 17, 'dimensional': 7, 'floor': 7, 'military': 14, 'qlik': 5, 'mentioned': 6, 'cpim': 8, 'directing': 12, 'rich': 8, 'causes': 7, 'agility': 6, 'conflicting': 5, 'conflicts': 6, 'typical': 13, 'beschikt': 5, 'europe': 10, 'connection': 6, 'providers': 6, 'non': 8, 'frequently': 6, 'creates': 22, 'ad': 14, 'hoc': 9, 'powershell': 9, 'link': 5, 'computerrelated': 8, 'baseline': 7, 'translates': 6, 'discovery': 13, 'concepting': 6, 'metal': 7, 'submit': 8, 'draft': 5, 'emerging': 19, 'mid': 6, 'microservice': 5, '810': 25, 'checks': 11, 'adequate': 5, 'exercise': 8, 'perl': 7, 'je': 10, 'subsystem': 6, 'world': 13, 'chartered': 6, 'accountant': 5, 'sensor': 10, 'enjoys': 8, 'positively': 7, 'yearly': 6, 'metadata': 6, 'teaming': 12, 'transform': 10, 'over': 9, 'exposed': 5, 'npd': 8, 'programmatic': 7, 'deployments': 8, 'offerings': 13, 'splunk': 7, 'pim': 11, 'transitions': 5, 'reactjs': 9, '40': 16, 'she': 8, 'taking': 18, 'plants': 6, 'resident': 14, 'facilitating': 11, 'introduction': 9, 'exceed': 17, 'appreciate': 5, 'workspace': 5, 'stories': 14, 'restrictions': 13, 'demos': 7, 'programing': 6, 'bus': 6, 'connected': 12, 'true': 8, 'periodically': 5, 'carries': 6, 'tactical': 18, 'selecting': 5, 'apache': 8, 'tomcat': 5, 'times': 8, 'specialization': 8, 'payments': 6, 'subtle': 10, 'nodejs': 6, 'while': 7, 'infra': 6, 'networkdesignsecurity': 6, 'hce': 10, 'syst': 7, 'procres': 5, 'processus': 7, 'architects': 14, 'abreast': 5, 'fico': 6, 'enhancement': 6, 'story': 8, 'maximize': 10, 'professionally': 7, 'scrumagile': 5, 'pas': 8, 'states': 6, 'excellente': 7, 'conducts': 17, 'ops': 5, 'hbs': 16, 'sich': 5, 'clarity': 14, 'par': 7, 'innerhalb': 6, 'recommends': 14, 'visible': 5, 'informal': 8, 'disputes': 5, 'fine': 5, 'ranging': 5, 'ansys': 5, 'intercompany': 5, 'consolidate': 7, 'oncall': 10, 'deutsch': 8, 'englisch': 5, 'php': 5, 'soporte': 7, 'solutionoriented': 6, 'aggressive': 9, 'timemanagement': 7, 'hris': 6, 'approval': 13, 'continually': 10, 'seeks': 7, '1st': 5, 'raw': 13, 'indirect': 12, 'stay': 15, 'art': 7, 'attendance': 5, 'programmable': 6, '4year': 11, 'acquire': 5, 'secret': 12, 'eine': 14, 'month': 12, 'road': 6, 'prints': 6, 'ansible': 5, 'mrp': 10, 'css3': 6, 'js': 16, 'obtaining': 7, 'website': 8, 'reconciliation': 9, 'po': 5, 'investment': 9, 'values': 5, 'iam': 11, 'visual': 24, 'conveyor': 13, 'devsecops': 8, 'arise': 6, 'output': 6, 'multifunctional': 9, 'warranty': 5, 'utilizes': 8, 'ist': 8, 'classroom': 5, 'overseeing': 12, 'automate': 12, 'live': 6, 'showcase': 5, 'portals': 5, 'powercenter': 5, 'dev': 8, 'portuguese': 12, 'importantly': 7, 'springboot': 6, 'resilient': 7, 'holds': 7, 'territory': 11, 'upper': 5, 'focusing': 6, 'sop': 6, 'actionable': 5, 'teil': 6, 'pmi': 9, 'second': 6, 'licence': 7, 'shape': 8, 'niveau': 7, 'ground': 5, 'desktop': 17, 'logs': 8, 'forward': 10, 'son': 5, 'responsable': 6, 'aux': 8, 'producing': 10, 'matlab': 7, 'simulink': 5, 'diversity': 7, 'statement': 6, 'disciplines': 10, 'loading': 6, 'gutes': 6, 'targeted': 8, 'sd': 6, 'mettre': 5, 'room': 8, 'doctor': 6, 'legally': 6, 'rcca': 9, 'safely': 8, 'rfp': 7, 'interpretation': 6, 'mission': 7, 'course': 8, 'iiot': 5, 'blir': 8, 'gaining': 5, 'do': 7, 'module': 11, 'autocad': 12, 'estate': 5, 'goods': 6, 'blue': 8, 'prism': 6, 'sas': 7, 'heights': 7, 'ml': 5, 'middle': 5, 'inside': 12, 'teambased': 5, 'uml': 5, 'airbus': 7, 'cash': 13, 'as9100': 5, 'coverage': 9, 'such': 11, 'approximately': 17, 'edm': 6, 'profiles': 5, 'authorization': 5, 'specialized': 10, 'ihre': 6, 'responses': 9, 'subcontractor': 6, 'factors': 13, 'forklift': 10, 'operator': 6, 'clarifications': 7, 'assurer': 8, 'implemented': 8, 'influential': 11, 'writes': 5, 'prototype': 8, 'cpsm': 8, 'n': 5, 'hadoop': 13, 'multidisciplined': 13, 'diversified': 5, '2d': 6, 'teach': 5, 'umsetzung': 5, 'faire': 6, 'om': 10, 'functionality': 10, 'stake': 10, 'water': 10, 'auditor': 6, '9001': 5, 'travail': 9, 'assistant': 5, 'profit': 9, 'loss': 6, 'prod': 5, 'organizes': 6, 'esprit': 6, 'engines': 5, 'simulations': 6, 'measuring': 6, 'skillfully': 6, 'regulation': 6, 'minor': 5, 'j': 5, 'kronos': 6, 'internalexternal': 7, 'l': 7, 'afin': 5, 'near': 6, 'rotation': 6, 'adept': 13, 'advice': 11, 'weekend': 5, 'proofreading': 6, 's': 5, 'community': 5, 'standardization': 8, 'hungarian': 5, 'fit': 8, 'bebtechmtech': 5, 'readiness': 11, 'annually': 5, 'opening': 6, 'speed': 8, 'after': 6, 'economic': 6, 'juris': 5, 'bsc': 7, 'peoplesoft': 8, 'ein': 10, 'processor': 5, 'evaluates': 15, 'wire': 6, 'presales': 11, 'wellorganized': 5, 'ihr': 5, 'contribution': 6, 'recognize': 5, 'unbilled': 5, 'packages': 7, 'provider': 11, 'alternate': 6, 'solutioning': 6, 'calibration': 14, 'derive': 5, 'planung': 7, 'advisor': 9, 'documented': 9, 'programme': 5, 'op': 10, 'dfss': 8, 'milestone': 8, 'rh': 8, 'havea': 5, 'havebs': 14, 'cable': 7, 'leansix': 7, 'builder': 9, 'standardize': 5, 'manuals': 7, 'package': 8, 'sale': 7, 'conceptualize': 5, 'retain': 5, 'legislation': 6, 'onsiteoffshore': 5, 'highenergy': 7, 'hohes': 8, 'maxdf': 6, 'eigeninitiative': 5, 'veeva': 5, 'dlopper': 7, 'abgeschlossenes': 5, 'studium': 8, 'concentration': 5, 'session': 5, 'personally': 5, 'comparable': 9, 'last': 5, 'ontime': 10, 'benchmarking': 5, 'possibility': 7, 'analysing': 5, 'costing': 5, 'bpo': 15, 'con': 10, 'los': 8, 'ca': 7, 'employer': 6, 'investigations': 6, 'apis': 23, 'previously': 7, 'valuehigh': 5, 'customization': 9, 'lob': 5, 'book': 5, 'executed': 8, 'expansion': 5, 'metallurgy': 5, 'bacnet': 5, 'ausgezeichnete': 6, 'evaluating': 12, 'incoming': 7, 'extend': 6, 'margin': 9, 'customerfacing': 11, 'psychology': 5, 'dipl': 10, 'crisp': 5, 'competence': 10, 'mix': 12, 'flexibilitxe4t': 5, 'ssl': 6, 'sources': 17, 'mtech': 8, 'now': 5, 'valuation': 5, 'planner': 5, 'critically': 5, 'technicalfunctional': 5, 'always': 5, 'freight': 6, 'credentials': 5, 'applicant': 8, 'fulltime': 5, 'monitors': 19, 'opensource': 5, 'solder': 5, 'modify': 9, 'cleansing': 6, 'refrigeration': 5, '3years': 5, 'buy': 7, 'completing': 9, 'recent': 6, 'occasionally': 7, 'stage': 9, 'might': 5, 'complexity': 7, 'workday': 5, 'exciting': 9, 'coo': 5, 'objective': 5, 'triage': 6, '5years': 6, 'meticulous': 8, 'detection': 7, 'havecurrently': 5, 'alongside': 9, 'impacts': 6, 'measures': 8, 'comprnsion': 7, 'timelines': 5, 'thru': 5, 'db': 11, 'fundamentals': 10, 'visit': 6, 'bom': 9, 'nous': 6, 'xe2xaa': 6, 'summarize': 5, 'relative': 7, 'intimate': 7, 'techincal': 6, 'finish': 5, 'carried': 5, 'tant': 5, 'msc': 7, 'l2': 5, 'positioning': 5, 'oversees': 8, 'closing': 7, 'vaardigheden': 5, 'tracks': 7, 'concerns': 7, 'deviations': 5, 'metering': 7, 'payable': 5, 'gotomarket': 6, 'agilescrum': 5, 'centric': 5, 'style': 12, 'einer': 9, 'succession': 5, 'mysql': 9, 'regression': 5, 'avxe9rxe9e': 7, 'snowflake': 5, 'atlassian': 5, 'instructional': 8, 'quotes': 6, 'soa': 5, 'metrology': 5, 'd': 6, 'during': 5, 'recommending': 5, 'al': 6, 'comprehension': 5, 'interesse': 5, 'fabrication': 10, 'datadriven': 5, 'maximo': 6, 'controllers': 8, 'gb': 6, 'templates': 8, 'submittals': 5, 'interactive': 5, 'automotive': 12, 'instruments': 8, 'accessibility': 6, 'mcse': 7, 'dispute': 5, 'eines': 5, 'interview': 5, '65': 5, 'classification': 5, 'od': 5, 'remain': 7, 'coupled': 6, 'mitigate': 9, 'negotiations': 11, 'schema': 5, 'journal': 6, 'entries': 6, 'deployed': 9, 'fs': 5, 'positions': 6, 'disciplined': 5, 'hebt': 5, 'mentorship': 5, 'lims': 7, 'sassurer': 5, 'pursuits': 6, 'give': 6, 'exercises': 5, 'counsel': 10, 'technofunctional': 6, 'recurring': 5, 'gained': 6, 'brings': 5, 'mitwirkung': 5, 'americas': 5, 'graduates': 8, 'accomplished': 9, 'adaptability': 8, 'viable': 5, 'cutting': 5, 'france': 5, 'days': 5, '2years': 5, 'ingestion': 5, 'overnight': 5, 'exceeding': 5, 'balances': 5, 'owning': 7, 'testdriven': 5, 'voc': 6, 'fixes': 5, 'asic': 6, 'controller': 5, 'postgresql': 6, 'wellversed': 5, 'dependencies': 5, 'quota': 8, 'truck': 5, 'crosscultural': 5, 'acquiring': 5}\n"
          ]
        }
      ]
    },
    {
      "cell_type": "code",
      "source": [
        "# Conditional occurences of the words for every label \n",
        "import re\n",
        "types = df_merged['Type'].unique()\n",
        "def conditional_count_values(dataset,label):  \n",
        "  word_count = {}\n",
        "  for cat in types:\n",
        "    word_dictionary = {}\n",
        "    dt = df_merged[df_merged[label] == cat]['new_sentence'] # New colomn conataining no stop words\n",
        "    for row in dt:\n",
        "      wrd = list(set(re.split(\"[^a-zA-Z]\",str(row))))\n",
        "      for word in wrd:\n",
        "        word = word.lower()\n",
        "        if word in word_dictionary:\n",
        "          word_dictionary[word] = word_dictionary[word]+1\n",
        "        else:\n",
        "          word_dictionary[word] = 1\n",
        "    for word, count in dict(word_dictionary).items():\n",
        "      if (len(word)<3) or (count<4):\n",
        "        word_dictionary.pop(word)\n",
        "    word_count[cat] = word_dictionary\n",
        "  return pd.DataFrame(word_count).fillna(0)"
      ],
      "metadata": {
        "id": "Aqvg1umG_hCS"
      },
      "execution_count": 167,
      "outputs": []
    },
    {
      "cell_type": "code",
      "source": [
        "# Returns the probability of the word with total number of occurances.\n",
        "def probability_of_word_in_all_documents(dataset,word_given,smoothing):\n",
        "  return((word_occurences(dataset)[word_given] \n",
        "          + smoothing )/(len(dataset) \n",
        "          + (len(dataset['Type'].unique()) \n",
        "          * smoothing)))"
      ],
      "metadata": {
        "id": "UCJ5O8MtYChY"
      },
      "execution_count": 159,
      "outputs": []
    },
    {
      "cell_type": "code",
      "source": [
        "# Conditional Probability\n",
        "def conditional_probability(dataset,word,category,smoothing):\n",
        "  conditional_value_dataframe = conditional_count_values(train,'Type')\n",
        "  probability_value = (conditional_value_dataframe.loc[word,category])*smoothing / ((conditional_value_dataframe[category].sum()) \n",
        "  + (smoothing \n",
        "     * len(conditional_value_dataframe[category])))\n",
        "  return probability_value"
      ],
      "metadata": {
        "id": "FI-s_YYMa85C"
      },
      "execution_count": 160,
      "outputs": []
    },
    {
      "cell_type": "code",
      "source": [
        "def count_probability_class(category_set):\n",
        "  result_probabilty = category_set.groupby('Type').size().div(len(category_set)) \n",
        "  return(result_probabilty)"
      ],
      "metadata": {
        "id": "pAhVqqRScn08"
      },
      "execution_count": 161,
      "outputs": []
    },
    {
      "cell_type": "code",
      "source": [
        "result_prob = train.groupby('Type').size().div(len(train))\n",
        "plt.figure(figsize=(14,8))\n",
        "sns.barplot(x = result_prob.index, y = result_prob)\n",
        "plt.xlabel('Type')\n",
        "plt.ylabel('Chances')\n",
        "plt.xticks(rotation=90);\n",
        "plt.show()"
      ],
      "metadata": {
        "colab": {
          "base_uri": "https://localhost:8080/",
          "height": 556
        },
        "id": "CMSGqy9WdFai",
        "outputId": "62c17476-d57b-4571-b011-0ebb06879bd3"
      },
      "execution_count": 169,
      "outputs": [
        {
          "output_type": "display_data",
          "data": {
            "text/plain": [
              "<Figure size 1008x576 with 1 Axes>"
            ],
            "image/png": "[encoded data removed]"
          },
          "metadata": {
            "needs_background": "light"
          }
        }
      ]
    },
    {
      "cell_type": "code",
      "source": [
        "def naive_bayes_prob(word,data,category,smoothing):\n",
        "  final_prob = conditional_probability(data,word,category,smoothing) * count_probability_class(data)\n",
        "  return final_prob[category]"
      ],
      "metadata": {
        "id": "-Xas8uycK_Fh"
      },
      "execution_count": 163,
      "outputs": []
    },
    {
      "cell_type": "markdown",
      "source": [
        "Training the set"
      ],
      "metadata": {
        "id": "KAEFdPOyjCqm"
      }
    },
    {
      "cell_type": "code",
      "source": [
        "vocab_train = word_occurences(train)\n",
        "cond_words_train = conditional_count_values(train,'new_sentence')\n",
        "cond_words_train.dropna()"
      ],
      "metadata": {
        "colab": {
          "base_uri": "https://localhost:8080/",
          "height": 107
        },
        "id": "1yvRx4-fjE3O",
        "outputId": "65c42c85-583d-49d3-d640-5f350ff5e074"
      },
      "execution_count": 170,
      "outputs": [
        {
          "output_type": "execute_result",
          "data": {
            "text/plain": [
              "Empty DataFrame\n",
              "Columns: [Responsibility, Requirement, Skill, SoftSkill, Education, Experience, nan]\n",
              "Index: []"
            ],
            "text/html": [
              "\n",
              "  <div id=\"df-acbd7ed7-db91-446b-a908-a087edbb5d07\">\n",
              "    <div class=\"colab-df-container\">\n",
              "      <div>\n",
              "<style scoped>\n",
              "    .dataframe tbody tr th:only-of-type {\n",
              "        vertical-align: middle;\n",
              "    }\n",
              "\n",
              "    .dataframe tbody tr th {\n",
              "        vertical-align: top;\n",
              "    }\n",
              "\n",
              "    .dataframe thead th {\n",
              "        text-align: right;\n",
              "    }\n",
              "</style>\n",
              "<table border=\"1\" class=\"dataframe\">\n",
              "  <thead>\n",
              "    <tr style=\"text-align: right;\">\n",
              "      <th></th>\n",
              "      <th>Responsibility</th>\n",
              "      <th>Requirement</th>\n",
              "      <th>Skill</th>\n",
              "      <th>SoftSkill</th>\n",
              "      <th>Education</th>\n",
              "      <th>Experience</th>\n",
              "      <th>NaN</th>\n",
              "    </tr>\n",
              "  </thead>\n",
              "  <tbody>\n",
              "  </tbody>\n",
              "</table>\n",
              "</div>\n",
              "      <button class=\"colab-df-convert\" onclick=\"convertToInteractive('df-acbd7ed7-db91-446b-a908-a087edbb5d07')\"\n",
              "              title=\"Convert this dataframe to an interactive table.\"\n",
              "              style=\"display:none;\">\n",
              "        \n",
              "  <svg xmlns=\"http://www.w3.org/2000/svg\" height=\"24px\"viewBox=\"0 0 24 24\"\n",
              "       width=\"24px\">\n",
              "    <path d=\"M0 0h24v24H0V0z\" fill=\"none\"/>\n",
              "    <path d=\"M18.56 5.44l.94 2.06.94-2.06 2.06-.94-2.06-.94-.94-2.06-.94 2.06-2.06.94zm-11 1L8.5 8.5l.94-2.06 2.06-.94-2.06-.94L8.5 2.5l-.94 2.06-2.06.94zm10 10l.94 2.06.94-2.06 2.06-.94-2.06-.94-.94-2.06-.94 2.06-2.06.94z\"/><path d=\"M17.41 7.96l-1.37-1.37c-.4-.4-.92-.59-1.43-.59-.52 0-1.04.2-1.43.59L10.3 9.45l-7.72 7.72c-.78.78-.78 2.05 0 2.83L4 21.41c.39.39.9.59 1.41.59.51 0 1.02-.2 1.41-.59l7.78-7.78 2.81-2.81c.8-.78.8-2.07 0-2.86zM5.41 20L4 18.59l7.72-7.72 1.47 1.35L5.41 20z\"/>\n",
              "  </svg>\n",
              "      </button>\n",
              "      \n",
              "  <style>\n",
              "    .colab-df-container {\n",
              "      display:flex;\n",
              "      flex-wrap:wrap;\n",
              "      gap: 12px;\n",
              "    }\n",
              "\n",
              "    .colab-df-convert {\n",
              "      background-color: #E8F0FE;\n",
              "      border: none;\n",
              "      border-radius: 50%;\n",
              "      cursor: pointer;\n",
              "      display: none;\n",
              "      fill: #1967D2;\n",
              "      height: 32px;\n",
              "      padding: 0 0 0 0;\n",
              "      width: 32px;\n",
              "    }\n",
              "\n",
              "    .colab-df-convert:hover {\n",
              "      background-color: #E2EBFA;\n",
              "      box-shadow: 0px 1px 2px rgba(60, 64, 67, 0.3), 0px 1px 3px 1px rgba(60, 64, 67, 0.15);\n",
              "      fill: #174EA6;\n",
              "    }\n",
              "\n",
              "    [theme=dark] .colab-df-convert {\n",
              "      background-color: #3B4455;\n",
              "      fill: #D2E3FC;\n",
              "    }\n",
              "\n",
              "    [theme=dark] .colab-df-convert:hover {\n",
              "      background-color: #434B5C;\n",
              "      box-shadow: 0px 1px 3px 1px rgba(0, 0, 0, 0.15);\n",
              "      filter: drop-shadow(0px 1px 2px rgba(0, 0, 0, 0.3));\n",
              "      fill: #FFFFFF;\n",
              "    }\n",
              "  </style>\n",
              "\n",
              "      <script>\n",
              "        const buttonEl =\n",
              "          document.querySelector('#df-acbd7ed7-db91-446b-a908-a087edbb5d07 button.colab-df-convert');\n",
              "        buttonEl.style.display =\n",
              "          google.colab.kernel.accessAllowed ? 'block' : 'none';\n",
              "\n",
              "        async function convertToInteractive(key) {\n",
              "          const element = document.querySelector('#df-acbd7ed7-db91-446b-a908-a087edbb5d07');\n",
              "          const dataTable =\n",
              "            await google.colab.kernel.invokeFunction('convertToInteractive',\n",
              "                                                     [key], {});\n",
              "          if (!dataTable) return;\n",
              "\n",
              "          const docLinkHtml = 'Like what you see? Visit the ' +\n",
              "            '<a target=\"_blank\" href=https://colab.research.google.com/notebooks/data_table.ipynb>data table notebook</a>'\n",
              "            + ' to learn more about interactive tables.';\n",
              "          element.innerHTML = '';\n",
              "          dataTable['output_type'] = 'display_data';\n",
              "          await google.colab.output.renderOutput(dataTable, element);\n",
              "          const docLink = document.createElement('div');\n",
              "          docLink.innerHTML = docLinkHtml;\n",
              "          element.appendChild(docLink);\n",
              "        }\n",
              "      </script>\n",
              "    </div>\n",
              "  </div>\n",
              "  "
            ]
          },
          "metadata": {},
          "execution_count": 170
        }
      ]
    },
    {
      "cell_type": "code",
      "source": [
        "probability_of_word_in_all_documents(train,\"systems\",1)  "
      ],
      "metadata": {
        "colab": {
          "base_uri": "https://localhost:8080/"
        },
        "id": "dJIGn7ozjRyr",
        "outputId": "bfc93736-ba78-4e9b-b3a9-ff99b632d1f1"
      },
      "execution_count": 165,
      "outputs": [
        {
          "output_type": "execute_result",
          "data": {
            "text/plain": [
              "0.010467256558667643"
            ]
          },
          "metadata": {},
          "execution_count": 165
        }
      ]
    },
    {
      "cell_type": "code",
      "source": [
        "laplace_values = [1, 0.1, 0.5]\n",
        "max_conditional_prob = 0\n",
        "for i in laplace_values:\n",
        "  print(f\"When smoothing factor = {i} : \",conditional_probability(train,\"business\",'Responsibility',i))\n",
        "  if max_conditional_prob < conditional_probability(train,\"business\",'Responsibility',i):\n",
        "    max_conditional_prob = conditional_probability(train,\"business\",'Responsibility',i)\n",
        "print(f\"Max Conditional Probality: {max_conditional_prob}\")"
      ],
      "metadata": {
        "id": "lx6XDF28-erC",
        "colab": {
          "base_uri": "https://localhost:8080/"
        },
        "outputId": "34fcef42-9fa5-4e52-d636-487a9ebc1ba6"
      },
      "execution_count": 168,
      "outputs": [
        {
          "output_type": "stream",
          "name": "stdout",
          "text": [
            "When smoothing factor = 1 :  0.010952140197900183\n",
            "When smoothing factor = 0.1 :  0.0011304527571729193\n",
            "When smoothing factor = 0.5 :  0.005572575445254792\n",
            "Max Conditional Probality: 0.010952140197900183\n"
          ]
        }
      ]
    },
    {
      "cell_type": "code",
      "source": [
        "class_train_probability = count_probability_class(train)"
      ],
      "metadata": {
        "id": "_YvOXo_CjZd-"
      },
      "execution_count": 112,
      "outputs": []
    },
    {
      "cell_type": "code",
      "source": [
        "naive_bayes_prob(\"business\",train,'Responsibility',1)"
      ],
      "metadata": {
        "colab": {
          "base_uri": "https://localhost:8080/"
        },
        "id": "lhc-uoG-jlQq",
        "outputId": "e84bced3-4ad3-4816-c365-9eafbe821d86"
      },
      "execution_count": 175,
      "outputs": [
        {
          "output_type": "execute_result",
          "data": {
            "text/plain": [
              "0.002285602784058085"
            ]
          },
          "metadata": {},
          "execution_count": 175
        }
      ]
    },
    {
      "cell_type": "code",
      "source": [
        "naive_bayes_prob(\"business\",train,'Responsibility',0.1)"
      ],
      "metadata": {
        "colab": {
          "base_uri": "https://localhost:8080/"
        },
        "id": "olkxY5Bnq1au",
        "outputId": "cadf1923-ed23-4a21-d58f-7e62e61ecede"
      },
      "execution_count": 176,
      "outputs": [
        {
          "output_type": "execute_result",
          "data": {
            "text/plain": [
              "0.00023591425258927376"
            ]
          },
          "metadata": {},
          "execution_count": 176
        }
      ]
    },
    {
      "cell_type": "markdown",
      "source": [
        "Occurence in every Type."
      ],
      "metadata": {
        "id": "rWt-DASaa7Lu"
      }
    },
    {
      "cell_type": "code",
      "source": [
        "counter = 6\n",
        "for i in df_merged['Type'].unique():\n",
        "  print(naive_bayes_prob(\"business\",df_merged, i, 0.1))\n",
        "  counter -= 1\n",
        "  if counter == 0:\n",
        "    break"
      ],
      "metadata": {
        "colab": {
          "base_uri": "https://localhost:8080/"
        },
        "id": "amCRHZKta05j",
        "outputId": "b0c62fe6-45f6-494d-cba6-acde32603a89"
      },
      "execution_count": 177,
      "outputs": [
        {
          "output_type": "stream",
          "name": "stdout",
          "text": [
            "0.00023409687206387466\n",
            "0.0001487965213375523\n",
            "6.033970827819431e-05\n",
            "0.00010803407685607194\n",
            "0.00012323838792386384\n",
            "8.895631645850272e-05\n"
          ]
        }
      ]
    },
    {
      "cell_type": "code",
      "source": [
        "from sklearn.model_selection import KFold\n",
        "cv = KFold(n_splits=5, random_state=1, shuffle=True)"
      ],
      "metadata": {
        "id": "wuVTiabcph7r"
      },
      "execution_count": 116,
      "outputs": []
    },
    {
      "cell_type": "code",
      "source": [
        "for train,validate in cv.split(df):\n",
        "  print(\"Train Score = \",train,\"Validation Score : \",validate)"
      ],
      "metadata": {
        "colab": {
          "base_uri": "https://localhost:8080/"
        },
        "id": "VuCrkzQ_plq9",
        "outputId": "2ec2f8a2-ef02-4f3d-9207-b1bcd8598af3"
      },
      "execution_count": 117,
      "outputs": [
        {
          "output_type": "stream",
          "name": "stdout",
          "text": [
            "Train Score =  [    0     1     2 ... 60112 60113 60114] Validation Score :  [   10    12    28 ... 60096 60099 60109]\n",
            "Train Score =  [    0     1     4 ... 60112 60113 60114] Validation Score :  [    2     3     8 ... 60091 60094 60103]\n",
            "Train Score =  [    1     2     3 ... 60110 60113 60114] Validation Score :  [    0    21    22 ... 60108 60111 60112]\n",
            "Train Score =  [    0     2     3 ... 60112 60113 60114] Validation Score :  [    1     4     5 ... 60105 60106 60110]\n",
            "Train Score =  [    0     1     2 ... 60110 60111 60112] Validation Score :  [    9    14    15 ... 60104 60113 60114]\n"
          ]
        }
      ]
    },
    {
      "cell_type": "markdown",
      "source": [
        "Testing..."
      ],
      "metadata": {
        "id": "lFe65d2LbBtS"
      }
    },
    {
      "cell_type": "code",
      "source": [
        "vocab_test = word_occurences(test_df)\n",
        "cond_words_test = conditional_count_values(test_df,'Type')\n",
        "cond_words_test.dropna()"
      ],
      "metadata": {
        "colab": {
          "base_uri": "https://localhost:8080/",
          "height": 424
        },
        "id": "Jo5ZPFhc-gt2",
        "outputId": "9273bb78-8002-44c3-e5d8-d3719774bd62"
      },
      "execution_count": 118,
      "outputs": [
        {
          "output_type": "execute_result",
          "data": {
            "text/plain": [
              "                   Responsibility  Requirement  Skill  SoftSkill  Education  \\\n",
              "deliverables                103.0         27.0    5.0       16.0        0.0   \n",
              "technical                   885.0        501.0  213.0      247.0      264.0   \n",
              "across                      427.0        175.0   48.0      160.0       14.0   \n",
              "andor                       175.0        178.0  117.0       21.0       95.0   \n",
              "quality                     617.0        145.0   84.0       69.0       26.0   \n",
              "...                           ...          ...    ...        ...        ...   \n",
              "technicalbusiness             0.0          0.0    0.0        0.0        0.0   \n",
              "airflow                       0.0          0.0    0.0        0.0        0.0   \n",
              "experienceminimum             0.0          0.0    0.0        0.0        0.0   \n",
              "marts                         0.0          0.0    0.0        0.0        0.0   \n",
              "manufactory                   0.0          0.0    0.0        0.0        0.0   \n",
              "\n",
              "                   Experience  NaN  \n",
              "deliverables              9.0  0.0  \n",
              "technical               415.0  0.0  \n",
              "across                   55.0  0.0  \n",
              "andor                   362.0  0.0  \n",
              "quality                 154.0  0.0  \n",
              "...                       ...  ...  \n",
              "technicalbusiness         4.0  0.0  \n",
              "airflow                   4.0  0.0  \n",
              "experienceminimum         4.0  0.0  \n",
              "marts                     4.0  0.0  \n",
              "manufactory               4.0  0.0  \n",
              "\n",
              "[5275 rows x 7 columns]"
            ],
            "text/html": [
              "\n",
              "  <div id=\"df-6c41a863-0e90-41f8-b3da-bb11df8d6ba5\">\n",
              "    <div class=\"colab-df-container\">\n",
              "      <div>\n",
              "<style scoped>\n",
              "    .dataframe tbody tr th:only-of-type {\n",
              "        vertical-align: middle;\n",
              "    }\n",
              "\n",
              "    .dataframe tbody tr th {\n",
              "        vertical-align: top;\n",
              "    }\n",
              "\n",
              "    .dataframe thead th {\n",
              "        text-align: right;\n",
              "    }\n",
              "</style>\n",
              "<table border=\"1\" class=\"dataframe\">\n",
              "  <thead>\n",
              "    <tr style=\"text-align: right;\">\n",
              "      <th></th>\n",
              "      <th>Responsibility</th>\n",
              "      <th>Requirement</th>\n",
              "      <th>Skill</th>\n",
              "      <th>SoftSkill</th>\n",
              "      <th>Education</th>\n",
              "      <th>Experience</th>\n",
              "      <th>NaN</th>\n",
              "    </tr>\n",
              "  </thead>\n",
              "  <tbody>\n",
              "    <tr>\n",
              "      <th>deliverables</th>\n",
              "      <td>103.0</td>\n",
              "      <td>27.0</td>\n",
              "      <td>5.0</td>\n",
              "      <td>16.0</td>\n",
              "      <td>0.0</td>\n",
              "      <td>9.0</td>\n",
              "      <td>0.0</td>\n",
              "    </tr>\n",
              "    <tr>\n",
              "      <th>technical</th>\n",
              "      <td>885.0</td>\n",
              "      <td>501.0</td>\n",
              "      <td>213.0</td>\n",
              "      <td>247.0</td>\n",
              "      <td>264.0</td>\n",
              "      <td>415.0</td>\n",
              "      <td>0.0</td>\n",
              "    </tr>\n",
              "    <tr>\n",
              "      <th>across</th>\n",
              "      <td>427.0</td>\n",
              "      <td>175.0</td>\n",
              "      <td>48.0</td>\n",
              "      <td>160.0</td>\n",
              "      <td>14.0</td>\n",
              "      <td>55.0</td>\n",
              "      <td>0.0</td>\n",
              "    </tr>\n",
              "    <tr>\n",
              "      <th>andor</th>\n",
              "      <td>175.0</td>\n",
              "      <td>178.0</td>\n",
              "      <td>117.0</td>\n",
              "      <td>21.0</td>\n",
              "      <td>95.0</td>\n",
              "      <td>362.0</td>\n",
              "      <td>0.0</td>\n",
              "    </tr>\n",
              "    <tr>\n",
              "      <th>quality</th>\n",
              "      <td>617.0</td>\n",
              "      <td>145.0</td>\n",
              "      <td>84.0</td>\n",
              "      <td>69.0</td>\n",
              "      <td>26.0</td>\n",
              "      <td>154.0</td>\n",
              "      <td>0.0</td>\n",
              "    </tr>\n",
              "    <tr>\n",
              "      <th>...</th>\n",
              "      <td>...</td>\n",
              "      <td>...</td>\n",
              "      <td>...</td>\n",
              "      <td>...</td>\n",
              "      <td>...</td>\n",
              "      <td>...</td>\n",
              "      <td>...</td>\n",
              "    </tr>\n",
              "    <tr>\n",
              "      <th>technicalbusiness</th>\n",
              "      <td>0.0</td>\n",
              "      <td>0.0</td>\n",
              "      <td>0.0</td>\n",
              "      <td>0.0</td>\n",
              "      <td>0.0</td>\n",
              "      <td>4.0</td>\n",
              "      <td>0.0</td>\n",
              "    </tr>\n",
              "    <tr>\n",
              "      <th>airflow</th>\n",
              "      <td>0.0</td>\n",
              "      <td>0.0</td>\n",
              "      <td>0.0</td>\n",
              "      <td>0.0</td>\n",
              "      <td>0.0</td>\n",
              "      <td>4.0</td>\n",
              "      <td>0.0</td>\n",
              "    </tr>\n",
              "    <tr>\n",
              "      <th>experienceminimum</th>\n",
              "      <td>0.0</td>\n",
              "      <td>0.0</td>\n",
              "      <td>0.0</td>\n",
              "      <td>0.0</td>\n",
              "      <td>0.0</td>\n",
              "      <td>4.0</td>\n",
              "      <td>0.0</td>\n",
              "    </tr>\n",
              "    <tr>\n",
              "      <th>marts</th>\n",
              "      <td>0.0</td>\n",
              "      <td>0.0</td>\n",
              "      <td>0.0</td>\n",
              "      <td>0.0</td>\n",
              "      <td>0.0</td>\n",
              "      <td>4.0</td>\n",
              "      <td>0.0</td>\n",
              "    </tr>\n",
              "    <tr>\n",
              "      <th>manufactory</th>\n",
              "      <td>0.0</td>\n",
              "      <td>0.0</td>\n",
              "      <td>0.0</td>\n",
              "      <td>0.0</td>\n",
              "      <td>0.0</td>\n",
              "      <td>4.0</td>\n",
              "      <td>0.0</td>\n",
              "    </tr>\n",
              "  </tbody>\n",
              "</table>\n",
              "<p>5275 rows × 7 columns</p>\n",
              "</div>\n",
              "      <button class=\"colab-df-convert\" onclick=\"convertToInteractive('df-6c41a863-0e90-41f8-b3da-bb11df8d6ba5')\"\n",
              "              title=\"Convert this dataframe to an interactive table.\"\n",
              "              style=\"display:none;\">\n",
              "        \n",
              "  <svg xmlns=\"http://www.w3.org/2000/svg\" height=\"24px\"viewBox=\"0 0 24 24\"\n",
              "       width=\"24px\">\n",
              "    <path d=\"M0 0h24v24H0V0z\" fill=\"none\"/>\n",
              "    <path d=\"M18.56 5.44l.94 2.06.94-2.06 2.06-.94-2.06-.94-.94-2.06-.94 2.06-2.06.94zm-11 1L8.5 8.5l.94-2.06 2.06-.94-2.06-.94L8.5 2.5l-.94 2.06-2.06.94zm10 10l.94 2.06.94-2.06 2.06-.94-2.06-.94-.94-2.06-.94 2.06-2.06.94z\"/><path d=\"M17.41 7.96l-1.37-1.37c-.4-.4-.92-.59-1.43-.59-.52 0-1.04.2-1.43.59L10.3 9.45l-7.72 7.72c-.78.78-.78 2.05 0 2.83L4 21.41c.39.39.9.59 1.41.59.51 0 1.02-.2 1.41-.59l7.78-7.78 2.81-2.81c.8-.78.8-2.07 0-2.86zM5.41 20L4 18.59l7.72-7.72 1.47 1.35L5.41 20z\"/>\n",
              "  </svg>\n",
              "      </button>\n",
              "      \n",
              "  <style>\n",
              "    .colab-df-container {\n",
              "      display:flex;\n",
              "      flex-wrap:wrap;\n",
              "      gap: 12px;\n",
              "    }\n",
              "\n",
              "    .colab-df-convert {\n",
              "      background-color: #E8F0FE;\n",
              "      border: none;\n",
              "      border-radius: 50%;\n",
              "      cursor: pointer;\n",
              "      display: none;\n",
              "      fill: #1967D2;\n",
              "      height: 32px;\n",
              "      padding: 0 0 0 0;\n",
              "      width: 32px;\n",
              "    }\n",
              "\n",
              "    .colab-df-convert:hover {\n",
              "      background-color: #E2EBFA;\n",
              "      box-shadow: 0px 1px 2px rgba(60, 64, 67, 0.3), 0px 1px 3px 1px rgba(60, 64, 67, 0.15);\n",
              "      fill: #174EA6;\n",
              "    }\n",
              "\n",
              "    [theme=dark] .colab-df-convert {\n",
              "      background-color: #3B4455;\n",
              "      fill: #D2E3FC;\n",
              "    }\n",
              "\n",
              "    [theme=dark] .colab-df-convert:hover {\n",
              "      background-color: #434B5C;\n",
              "      box-shadow: 0px 1px 3px 1px rgba(0, 0, 0, 0.15);\n",
              "      filter: drop-shadow(0px 1px 2px rgba(0, 0, 0, 0.3));\n",
              "      fill: #FFFFFF;\n",
              "    }\n",
              "  </style>\n",
              "\n",
              "      <script>\n",
              "        const buttonEl =\n",
              "          document.querySelector('#df-6c41a863-0e90-41f8-b3da-bb11df8d6ba5 button.colab-df-convert');\n",
              "        buttonEl.style.display =\n",
              "          google.colab.kernel.accessAllowed ? 'block' : 'none';\n",
              "\n",
              "        async function convertToInteractive(key) {\n",
              "          const element = document.querySelector('#df-6c41a863-0e90-41f8-b3da-bb11df8d6ba5');\n",
              "          const dataTable =\n",
              "            await google.colab.kernel.invokeFunction('convertToInteractive',\n",
              "                                                     [key], {});\n",
              "          if (!dataTable) return;\n",
              "\n",
              "          const docLinkHtml = 'Like what you see? Visit the ' +\n",
              "            '<a target=\"_blank\" href=https://colab.research.google.com/notebooks/data_table.ipynb>data table notebook</a>'\n",
              "            + ' to learn more about interactive tables.';\n",
              "          element.innerHTML = '';\n",
              "          dataTable['output_type'] = 'display_data';\n",
              "          await google.colab.output.renderOutput(dataTable, element);\n",
              "          const docLink = document.createElement('div');\n",
              "          docLink.innerHTML = docLinkHtml;\n",
              "          element.appendChild(docLink);\n",
              "        }\n",
              "      </script>\n",
              "    </div>\n",
              "  </div>\n",
              "  "
            ]
          },
          "metadata": {},
          "execution_count": 118
        }
      ]
    },
    {
      "cell_type": "code",
      "source": [
        "laplace_values = [1, 0.1, 0.5]\n",
        "max_conditional_prob = 0\n",
        "cond_probs = []\n",
        "for i in laplace_values:\n",
        "  print(f\"When smoothing factor = {i} : \",conditional_probability(test_df,\"department\",'Responsibility',i))\n",
        "  cond_probs.append(conditional_probability(test_df,\"department\",'Responsibility',i))\n",
        "  if max_conditional_prob < conditional_probability(test_df,\"department\",'Responsibility',i):\n",
        "    max_conditional_prob = conditional_probability(test_df,\"department\",'Responsibility',i)\n",
        "print(f\"Max Conditional Probality: {max_conditional_prob}\")"
      ],
      "metadata": {
        "colab": {
          "base_uri": "https://localhost:8080/"
        },
        "id": "0pMR0_AZ-s-1",
        "outputId": "90ae6b70-da10-4870-e9a7-d3977ace674a"
      },
      "execution_count": 179,
      "outputs": [
        {
          "output_type": "stream",
          "name": "stdout",
          "text": [
            "When smoothing factor = 1 :  0.00043335806538453964\n",
            "When smoothing factor = 0.1 :  4.4730145067993215e-05\n",
            "When smoothing factor = 0.5 :  0.0002204975895604414\n",
            "Max Conditional Probality: 0.00043335806538453964\n"
          ]
        }
      ]
    },
    {
      "cell_type": "code",
      "source": [
        "class_test_probability = count_probability_class(test_df)\n",
        "class_test_probability"
      ],
      "metadata": {
        "colab": {
          "base_uri": "https://localhost:8080/"
        },
        "id": "tjZOx8bL-x7X",
        "outputId": "a4145058-6cfe-4836-89e6-2f3a45c8766a"
      },
      "execution_count": 180,
      "outputs": [
        {
          "output_type": "execute_result",
          "data": {
            "text/plain": [
              "Type\n",
              "Education         0.062546\n",
              "Experience        0.127487\n",
              "Requirement       0.186306\n",
              "Responsibility    0.204871\n",
              "Skill             0.093419\n",
              "SoftSkill         0.127820\n",
              "dtype: float64"
            ]
          },
          "metadata": {},
          "execution_count": 180
        }
      ]
    },
    {
      "cell_type": "code",
      "source": [
        "naive_bayes_prob(\"department\",test_df,'Responsibility',1)"
      ],
      "metadata": {
        "colab": {
          "base_uri": "https://localhost:8080/"
        },
        "id": "ovCf9k1I-21D",
        "outputId": "ffb36a88-4d1d-4395-dcf1-1d9363710a30"
      },
      "execution_count": 181,
      "outputs": [
        {
          "output_type": "execute_result",
          "data": {
            "text/plain": [
              "8.878231973644272e-05"
            ]
          },
          "metadata": {},
          "execution_count": 181
        }
      ]
    },
    {
      "cell_type": "markdown",
      "source": [
        "Occurences in every class."
      ],
      "metadata": {
        "id": "fBB7PUjxbSbH"
      }
    },
    {
      "cell_type": "code",
      "source": [
        "counter = 6\n",
        "for i in df_merged['Type'].unique():\n",
        "  print(naive_bayes_prob(\"department\",df_merged, i, 0.1))\n",
        "  counter -= 1\n",
        "  if counter == 0:\n",
        "    break"
      ],
      "metadata": {
        "id": "e5XFhl-_--qi",
        "colab": {
          "base_uri": "https://localhost:8080/"
        },
        "outputId": "550c8159-3333-4dec-a211-f69fee1a8ac9"
      },
      "execution_count": 182,
      "outputs": [
        {
          "output_type": "stream",
          "name": "stdout",
          "text": [
            "9.262825873031013e-06\n",
            "8.007822800393926e-06\n",
            "1.1174020051517462e-06\n",
            "0.0\n",
            "0.0\n",
            "1.9037343989173735e-06\n"
          ]
        }
      ]
    }
  ]
}